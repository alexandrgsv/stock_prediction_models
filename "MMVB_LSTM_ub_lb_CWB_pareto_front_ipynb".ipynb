{
  "nbformat": 4,
  "nbformat_minor": 0,
  "metadata": {
    "colab": {
      "provenance": [],
      "authorship_tag": "ABX9TyNe2gAcRwoSN/IxUie8YRXf",
      "include_colab_link": true
    },
    "kernelspec": {
      "name": "python3",
      "display_name": "Python 3"
    },
    "language_info": {
      "name": "python"
    }
  },
  "cells": [
    {
      "cell_type": "markdown",
      "metadata": {
        "id": "view-in-github",
        "colab_type": "text"
      },
      "source": [
        "<a href=\"https://colab.research.google.com/github/alexandrgsv/stock_prediction_models/blob/main/%22MMVB_LSTM_ub_lb_CWB_pareto_front_ipynb%22.ipynb\" target=\"_parent\"><img src=\"https://colab.research.google.com/assets/colab-badge.svg\" alt=\"Open In Colab\"/></a>"
      ]
    },
    {
      "cell_type": "code",
      "execution_count": 1,
      "metadata": {
        "id": "JXtLurca38We"
      },
      "outputs": [],
      "source": [
        "import pandas as pd\n",
        "import numpy as np\n",
        "import matplotlib.pyplot as plt\n",
        "from sklearn.preprocessing import MinMaxScaler\n",
        "from tensorflow.keras.models import Sequential\n",
        "from tensorflow.keras.layers import Dense, LSTM, Dropout\n",
        "from tensorflow.keras.optimizers import Adam\n",
        "from tensorflow.keras import backend as K\n"
      ]
    },
    {
      "cell_type": "code",
      "source": [
        "# Load the data\n",
        "#data = pd.read_csv('https://drive.google.com/uc?id=18RjIb6w6OXLPeKYJ-UJKUNtmY71RpP5D', header=0, usecols=['<DATE>', '<CLOSE>'], date_parser=True)\n",
        "data = pd.read_csv('https://drive.google.com/uc?id=18RjIb6w6OXLPeKYJ-UJKUNtmY71RpP5D',\n",
        "                   header=0, \n",
        "                   usecols=['<DATE>', '<CLOSE>'], \n",
        "                   parse_dates=['<DATE>'], \n",
        "                   date_parser=lambda x: pd.to_datetime(x, format='%d/%m/%y'))\n",
        "\n",
        "df = data[['<DATE>', '<CLOSE>']].copy()"
      ],
      "metadata": {
        "id": "xb9swMtr4Bpf"
      },
      "execution_count": 2,
      "outputs": []
    },
    {
      "cell_type": "code",
      "source": [
        "df = df.sort_values('<DATE>')\n",
        "df = df.reset_index(drop=True)\n",
        "#df = df.set_index('<DATE>').sort_index()\n",
        "\n"
      ],
      "metadata": {
        "id": "vJqjdTOL4INF"
      },
      "execution_count": 3,
      "outputs": []
    },
    {
      "cell_type": "code",
      "source": [
        "import tensorflow.keras.backend as K\n",
        "\n",
        "def cwbc_loss(y_true, y_pred, alpha=0.05):\n",
        "    \"\"\"\n",
        "    Computes the Coverage Width-Based Criterion (CWBC) as a combination of the\n",
        "    Prediction Interval Normalized Root-mean-square Width (PINRW) and the\n",
        "    Prediction Interval Coverage Probability (PICP).\n",
        "\n",
        "    Parameters:\n",
        "        - y_true: tensor of shape (batch_size, seq_len, 1) containing the true values\n",
        "        - y_pred: tensor of shape (batch_size, seq_len, 2) containing the predicted intervals\n",
        "        - alpha: float, significance level for the prediction intervals (default: 0.05)\n",
        "\n",
        "    Returns:\n",
        "        - cwbc: tensor of shape (batch_size,) representing the CWBC loss\n",
        "    \"\"\"\n",
        "    print(y_pred)\n",
        "    print(y_true)\n",
        "    y_lower = y_pred[:, :, 0]\n",
        "    y_upper = y_pred[:, :, 1]\n",
        "    y_true = K.squeeze(y_true, axis=-1)\n",
        "    y_range = K.max(y_true, axis=1) - K.min(y_true, axis=1)\n",
        "    interval_widths = y_upper - y_lower\n",
        "    avg_widths = K.mean(interval_widths, axis=1)\n",
        "    pinrw = K.sqrt(K.mean(K.square(interval_widths), axis=1)) / y_range\n",
        "    picp = K.mean(K.cast(K.all(K.stack([y_true >= y_lower, y_true <= y_upper], axis=-1), axis=-1), dtype='float32'), axis=1)\n",
        "    cwbc = pinrw + alpha * K.maximum(0.0, 1.0 - picp)\n",
        "    return cwbc\n"
      ],
      "metadata": {
        "id": "_4Gd8_GqgPQe"
      },
      "execution_count": 4,
      "outputs": []
    },
    {
      "cell_type": "code",
      "source": [
        "# Split the data into training and test sets\n",
        "train_size = int(len(df) * 0.8)\n",
        "train = df[:train_size]\n",
        "#test = df[train_size-window_size:]\n",
        "test = df[train_size:]"
      ],
      "metadata": {
        "id": "tpiTHakmRahB"
      },
      "execution_count": 5,
      "outputs": []
    },
    {
      "cell_type": "code",
      "source": [
        "# Scale the data\n",
        "scaler = MinMaxScaler()\n",
        "train_scaled = scaler.fit_transform(train['<CLOSE>'].values.reshape(-1, 1))\n",
        "test_scaled = scaler.transform(test['<CLOSE>'].values.reshape(-1, 1))\n"
      ],
      "metadata": {
        "id": "U7fTkLxURb62"
      },
      "execution_count": 6,
      "outputs": []
    },
    {
      "cell_type": "code",
      "source": [
        "import tensorflow_probability as tfp\n",
        "\n",
        "def coverage_loss(y_true, y_pred, width):\n",
        "    q = (1 - width) / 2\n",
        "    e = y_true - y_pred\n",
        "    coverage = K.cast(K.abs(e) < tfp.stats.percentile(K.abs(e), q + width * 100), dtype='float32')\n",
        "    coverage_error = K.mean((1 - coverage) * K.abs(e))\n",
        "    prediction_error = K.mean(coverage * K.abs(e))\n",
        "    return coverage_error + prediction_error\n"
      ],
      "metadata": {
        "id": "_widdlve2PMh"
      },
      "execution_count": 7,
      "outputs": []
    },
    {
      "cell_type": "code",
      "source": [
        "# Define sliding window size and stride length\n",
        "window_size = 30\n",
        "stride_length = 7\n",
        "\n",
        "# Function to generate sliding windows for both training and test sets\n",
        "def generate_sliding_windows(data, window_size, stride_length):\n",
        "    X = []\n",
        "    y_upper = []\n",
        "    y_lower = []\n",
        "    for i in range(0, len(data) - window_size + 1, stride_length):\n",
        "        window = data[i:i+window_size]\n",
        "        upper_bound = window.mean() + window.std()\n",
        "        lower_bound = window.mean() - window.std()\n",
        "        X.append(window)\n",
        "        y_upper.append(upper_bound)\n",
        "        y_lower.append(lower_bound)\n",
        "    return np.array(X), np.array(y_upper), np.array(y_lower)\n",
        "    \n",
        "# Generate sliding windows for both training and test sets\n",
        "X_train, y_train_upper, y_train_lower = generate_sliding_windows(train_scaled, window_size, stride_length)\n",
        "X_test, y_test_upper, y_test_lower = generate_sliding_windows(test_scaled, window_size, stride_length)\n"
      ],
      "metadata": {
        "id": "1ZmDIwwg-suE"
      },
      "execution_count": 8,
      "outputs": []
    },
    {
      "cell_type": "code",
      "source": [
        "# Split training data into two complementary parts\n",
        "from sklearn.model_selection import train_test_split\n",
        "X1_train, X2_train, y1_train_upper, y2_train_upper = train_test_split(X_train, y_train_upper, test_size=0.5)\n",
        "X1_train, X2_train, y1_train_lower, y2_train_lower = train_test_split(X_train, y_train_lower, test_size=0.5)"
      ],
      "metadata": {
        "id": "41vPAHUKq9tF"
      },
      "execution_count": 9,
      "outputs": []
    },
    {
      "cell_type": "code",
      "source": [
        "np.isnan(X1_train).any()"
      ],
      "metadata": {
        "colab": {
          "base_uri": "https://localhost:8080/"
        },
        "id": "1UwqVh8Hy1Va",
        "outputId": "0e091f7f-aee1-466f-93ee-23e1a2422341"
      },
      "execution_count": null,
      "outputs": [
        {
          "output_type": "execute_result",
          "data": {
            "text/plain": [
              "False"
            ]
          },
          "metadata": {},
          "execution_count": 18
        }
      ]
    },
    {
      "cell_type": "code",
      "source": [
        "np.isnan(X2_train).any()"
      ],
      "metadata": {
        "colab": {
          "base_uri": "https://localhost:8080/"
        },
        "id": "ih4RNaPEzLoA",
        "outputId": "24d96cde-f98e-4ccb-e644-579cf32a2f5c"
      },
      "execution_count": null,
      "outputs": [
        {
          "output_type": "execute_result",
          "data": {
            "text/plain": [
              "False"
            ]
          },
          "metadata": {},
          "execution_count": 19
        }
      ]
    },
    {
      "cell_type": "code",
      "source": [
        "np.isnan(y1_train_upper).any()"
      ],
      "metadata": {
        "colab": {
          "base_uri": "https://localhost:8080/"
        },
        "id": "YlK5kvcTzOxN",
        "outputId": "2f156cf1-aae4-4f13-ccf5-77709e0d2e60"
      },
      "execution_count": null,
      "outputs": [
        {
          "output_type": "execute_result",
          "data": {
            "text/plain": [
              "False"
            ]
          },
          "metadata": {},
          "execution_count": 20
        }
      ]
    },
    {
      "cell_type": "code",
      "source": [
        "np.isnan(y1_train_lower).any()"
      ],
      "metadata": {
        "colab": {
          "base_uri": "https://localhost:8080/"
        },
        "id": "2bPAUCNFzTbF",
        "outputId": "f97ff863-f56d-4bf4-ebe9-e83a814738bb"
      },
      "execution_count": null,
      "outputs": [
        {
          "output_type": "execute_result",
          "data": {
            "text/plain": [
              "False"
            ]
          },
          "metadata": {},
          "execution_count": 21
        }
      ]
    },
    {
      "cell_type": "code",
      "source": [
        "np.isnan(y2_train_upper).any()"
      ],
      "metadata": {
        "colab": {
          "base_uri": "https://localhost:8080/"
        },
        "id": "LNZH34GhzWZ2",
        "outputId": "3a381140-8f1e-41df-ad58-2a4c2e82c1fa"
      },
      "execution_count": null,
      "outputs": [
        {
          "output_type": "execute_result",
          "data": {
            "text/plain": [
              "False"
            ]
          },
          "metadata": {},
          "execution_count": 22
        }
      ]
    },
    {
      "cell_type": "code",
      "source": [
        "np.isnan(y2_train_lower).any()"
      ],
      "metadata": {
        "colab": {
          "base_uri": "https://localhost:8080/"
        },
        "id": "BWKyL86QzZGF",
        "outputId": "2fef2f8a-5b9f-4ed4-c945-6249859a710a"
      },
      "execution_count": null,
      "outputs": [
        {
          "output_type": "execute_result",
          "data": {
            "text/plain": [
              "False"
            ]
          },
          "metadata": {},
          "execution_count": 23
        }
      ]
    },
    {
      "cell_type": "code",
      "source": [
        "# define LSTM model\n",
        "model = Sequential()\n",
        "model.add(LSTM(50, input_shape=(window_size, 1)))\n",
        "model.add(Dense(2))\n",
        "model.compile(loss='mse', optimizer='adam')\n"
      ],
      "metadata": {
        "id": "VuJ__nu8BefC"
      },
      "execution_count": 10,
      "outputs": []
    },
    {
      "cell_type": "code",
      "source": [
        "from tensorflow.keras.callbacks import EarlyStopping\n",
        "\n",
        "early_stop = EarlyStopping(monitor='loss', patience=5, mode='min', verbose=0)\n"
      ],
      "metadata": {
        "id": "1D8-p7Pppjjm"
      },
      "execution_count": 11,
      "outputs": []
    },
    {
      "cell_type": "code",
      "source": [
        "def fitness_function(params, X_train, y_train_lower, y_train_upper, X_val, y_val_lower, y_val_upper):\n",
        "  lr = max(1e-5, abs(params[0]))\n",
        "  batch_size = max(8, abs(int(params[1])))\n",
        "  epochs = max(1, abs(int(params[2])))\n",
        "  print(\"       Particle position is \", lr, \" \", batch_size, \" \", epochs, \" (lr, batch_size, epochs)\")\n",
        "  model.compile(optimizer=Adam(learning_rate=lr), loss='mse')\n",
        "  # Train the model\n",
        "  history = model.fit(X_train.reshape((X_train.shape[0], X_train.shape[1], 1)), np.column_stack((y_train_upper, y_train_lower)), epochs=epochs, batch_size=batch_size, callbacks = [early_stop], verbose = 0)\n",
        "  #return history.history['val_loss'][-1]\n",
        "  return model.evaluate(X_val.reshape((X_val.shape[0], X_val.shape[1], 1)), np.column_stack((y_val_upper, y_val_lower)), batch_size=batch_size, verbose = 0)"
      ],
      "metadata": {
        "id": "s6q6IZN3B4Ui"
      },
      "execution_count": 12,
      "outputs": []
    },
    {
      "cell_type": "code",
      "source": [
        "import random\n",
        "\n",
        "# Step 1:\n",
        "\n",
        "# Set the PSO parameters\n",
        "lb = [1e-5, 16, 20]  # Lower bounds for learning rate, batch size, and epochs\n",
        "ub = [1e-2, 32, 100]  # Upper bounds for learning rate, batch size, and epochs\n",
        "\n",
        "# Number of particles and iterations\n",
        "n_particles = 20\n",
        "n_iterations = 6\n",
        "n_dimensions = 3\n",
        "\n",
        "\n",
        "# Step 2: Initialize particle swarm\n",
        "class Particle:\n",
        "    def __init__(self):\n",
        "        self.position = np.random.uniform(low=lb, high=ub, size=(n_dimensions))\n",
        "        self.velocity = np.random.uniform(low=-1*(np.array(ub)-np.array(lb)), high=np.array(ub)-np.array(lb), size=(n_dimensions))\n",
        "        self.pbest_position = self.position.copy()\n",
        "        self.pbest_fitness = None\n",
        "        self.domination_count = 0\n",
        "        self.dominated_solutions = []\n",
        "        self.fitness = (0,0)\n",
        "\n",
        "swarm = [Particle() for _ in range(n_particles)]\n",
        "gbest_position = None\n",
        "gbest_fitness = None\n",
        "\n",
        "for p in swarm:\n",
        "  p.fitness = (10,10)\n",
        "\n",
        "# Step 3-6: Evaluate, update, and iterate\n",
        "for i in range(n_iterations):\n",
        "    print(\"Iteration number \", i+1, \" of \", n_iterations)\n",
        "    current_p = 1\n",
        "    for p in swarm:\n",
        "        print(\"     Particle number \", current_p, \" of \", n_particles)\n",
        "        current_p = current_p + 1\n",
        "        # Evaluate fitness\n",
        "        fitness1 = fitness_function(p.position, X1_train, y1_train_lower, y1_train_upper, X_test, y_test_lower, y_test_upper)\n",
        "        fitness2 = fitness_function(p.position, X2_train, y2_train_lower, y2_train_upper, X_test, y_test_lower, y_test_upper)\n",
        "        p.fitness = (fitness1, fitness2)\n",
        "\n",
        "        # Update personal best\n",
        "        if p.pbest_fitness is None or p.fitness < p.pbest_fitness:\n",
        "            p.pbest_position = p.position.copy()\n",
        "            p.pbest_fitness = p.fitness\n",
        "\n",
        "        # Update global best\n",
        "        if gbest_fitness is None or p.fitness < gbest_fitness:\n",
        "            gbest_position = p.position.copy()\n",
        "            gbest_fitness = p.fitness\n",
        "\n",
        "        # Update domination count and dominated solutions\n",
        "        p.domination_count = 0\n",
        "        p.dominated_solutions = []\n",
        "        for q in swarm:\n",
        "            #if p.fitness < q.fitness:\n",
        "            if all(p.fitness[i] < q.fitness[i] for i in range(len(p.fitness))):\n",
        "                p.dominated_solutions.append(q)\n",
        "            #elif q.fitness < p.fitness:\n",
        "            elif all(q.fitness[i] < p.fitness[i] for i in range(len(q.fitness))):\n",
        "                p.domination_count += 1\n",
        "                #print(q.fitness)\n",
        "                #print(p.fitness)\n",
        "\n",
        "        # Update velocity and position\n",
        "        for j in range(n_dimensions):\n",
        "            rp = random.uniform(0, 1)\n",
        "            rg = random.uniform(0, 1)\n",
        "            vel_cognitive = 2 * rp * (p.pbest_position[j] - p.position[j])\n",
        "            vel_social = 2 * rg * (gbest_position[j] - p.position[j])\n",
        "            p.velocity[j] = 0.5 * p.velocity[j] + vel_cognitive + vel_social\n",
        "            p.position[j] += p.velocity[j]\n",
        "\n",
        "    # Step 7: Select non-dominated solutions\n",
        "    pareto_front = []\n",
        "    dominated_solutions = []\n",
        "    for p in swarm:\n",
        "        if p.domination_count == 0:\n",
        "            pareto_front.append(p)\n",
        "        else:\n",
        "           dominated_solutions.append(p)\n",
        "\n",
        "# Print Pareto front\n",
        "for p in pareto_front:\n",
        "    print(p.position, p.fitness)"
      ],
      "metadata": {
        "colab": {
          "base_uri": "https://localhost:8080/"
        },
        "id": "qsHWiAulrWsz",
        "outputId": "f1a183e6-50cc-48b2-c9a3-450e14dc91e1"
      },
      "execution_count": null,
      "outputs": [
        {
          "output_type": "stream",
          "name": "stdout",
          "text": [
            "Iteration number  1  of  6\n",
            "     Particle number  1  of  20\n",
            "       Particle position is  0.0031686038671658893   19   46  (lr, batch_size, epochs)\n",
            "       Particle position is  0.0031686038671658893   19   46  (lr, batch_size, epochs)\n",
            "     Particle number  2  of  20\n",
            "       Particle position is  0.007314784770936591   21   87  (lr, batch_size, epochs)\n",
            "       Particle position is  0.007314784770936591   21   87  (lr, batch_size, epochs)\n",
            "     Particle number  3  of  20\n",
            "       Particle position is  0.006865809497090789   18   96  (lr, batch_size, epochs)\n",
            "       Particle position is  0.006865809497090789   18   96  (lr, batch_size, epochs)\n",
            "     Particle number  4  of  20\n",
            "       Particle position is  0.009723404318453541   31   35  (lr, batch_size, epochs)\n",
            "       Particle position is  0.009723404318453541   31   35  (lr, batch_size, epochs)\n",
            "     Particle number  5  of  20\n",
            "       Particle position is  0.005339266761521551   16   47  (lr, batch_size, epochs)\n",
            "       Particle position is  0.005339266761521551   16   47  (lr, batch_size, epochs)\n",
            "     Particle number  6  of  20\n",
            "       Particle position is  0.009581186130649304   26   61  (lr, batch_size, epochs)\n",
            "       Particle position is  0.009581186130649304   26   61  (lr, batch_size, epochs)\n",
            "     Particle number  7  of  20\n",
            "       Particle position is  0.004715089588837225   22   43  (lr, batch_size, epochs)\n",
            "       Particle position is  0.004715089588837225   22   43  (lr, batch_size, epochs)\n",
            "     Particle number  8  of  20\n",
            "       Particle position is  0.006104711148000437   18   94  (lr, batch_size, epochs)\n",
            "       Particle position is  0.006104711148000437   18   94  (lr, batch_size, epochs)\n",
            "     Particle number  9  of  20\n",
            "       Particle position is  0.0038296942381936556   21   20  (lr, batch_size, epochs)\n",
            "       Particle position is  0.0038296942381936556   21   20  (lr, batch_size, epochs)\n",
            "     Particle number  10  of  20\n",
            "       Particle position is  0.007922379030836996   26   51  (lr, batch_size, epochs)\n",
            "       Particle position is  0.007922379030836996   26   51  (lr, batch_size, epochs)\n",
            "     Particle number  11  of  20\n",
            "       Particle position is  0.0011658701815976285   28   67  (lr, batch_size, epochs)\n",
            "       Particle position is  0.0011658701815976285   28   67  (lr, batch_size, epochs)\n",
            "     Particle number  12  of  20\n",
            "       Particle position is  0.007270882762799843   19   24  (lr, batch_size, epochs)\n",
            "       Particle position is  0.007270882762799843   19   24  (lr, batch_size, epochs)\n",
            "     Particle number  13  of  20\n",
            "       Particle position is  0.0025342965466779725   18   82  (lr, batch_size, epochs)\n",
            "       Particle position is  0.0025342965466779725   18   82  (lr, batch_size, epochs)\n",
            "     Particle number  14  of  20\n",
            "       Particle position is  0.004799800656305388   25   61  (lr, batch_size, epochs)\n",
            "       Particle position is  0.004799800656305388   25   61  (lr, batch_size, epochs)\n",
            "     Particle number  15  of  20\n",
            "       Particle position is  0.007622944961425443   29   53  (lr, batch_size, epochs)\n",
            "       Particle position is  0.007622944961425443   29   53  (lr, batch_size, epochs)\n",
            "     Particle number  16  of  20\n",
            "       Particle position is  0.008996137587591919   18   58  (lr, batch_size, epochs)\n",
            "       Particle position is  0.008996137587591919   18   58  (lr, batch_size, epochs)\n",
            "     Particle number  17  of  20\n",
            "       Particle position is  0.008283947060188908   23   81  (lr, batch_size, epochs)\n",
            "       Particle position is  0.008283947060188908   23   81  (lr, batch_size, epochs)\n",
            "     Particle number  18  of  20\n",
            "       Particle position is  0.0060112984360614205   30   79  (lr, batch_size, epochs)\n",
            "       Particle position is  0.0060112984360614205   30   79  (lr, batch_size, epochs)\n",
            "     Particle number  19  of  20\n",
            "       Particle position is  0.007326493434731204   25   21  (lr, batch_size, epochs)\n",
            "       Particle position is  0.007326493434731204   25   21  (lr, batch_size, epochs)\n",
            "     Particle number  20  of  20\n",
            "       Particle position is  0.004750218158688721   27   67  (lr, batch_size, epochs)\n",
            "       Particle position is  0.004750218158688721   27   67  (lr, batch_size, epochs)\n",
            "Iteration number  2  of  6\n",
            "     Particle number  1  of  20\n",
            "       Particle position is  0.0022275438828420714   19   32  (lr, batch_size, epochs)\n",
            "       Particle position is  0.0022275438828420714   19   32  (lr, batch_size, epochs)\n",
            "     Particle number  2  of  20\n",
            "       Particle position is  0.004295125916090515   14   111  (lr, batch_size, epochs)\n",
            "       Particle position is  0.004295125916090515   14   111  (lr, batch_size, epochs)\n",
            "     Particle number  3  of  20\n",
            "       Particle position is  0.01050781899059395   24   120  (lr, batch_size, epochs)\n",
            "       Particle position is  0.01050781899059395   24   120  (lr, batch_size, epochs)\n",
            "     Particle number  4  of  20\n",
            "       Particle position is  0.012749627475932983   27   57  (lr, batch_size, epochs)\n",
            "       Particle position is  0.012749627475932983   27   57  (lr, batch_size, epochs)\n",
            "     Particle number  5  of  20\n",
            "       Particle position is  0.013125859944999046   24   9  (lr, batch_size, epochs)\n",
            "       Particle position is  0.013125859944999046   24   9  (lr, batch_size, epochs)\n",
            "     Particle number  6  of  20\n",
            "       Particle position is  0.01405736092814556   28   34  (lr, batch_size, epochs)\n",
            "       Particle position is  0.01405736092814556   28   34  (lr, batch_size, epochs)\n",
            "     Particle number  7  of  20\n",
            "       Particle position is  0.00747624399216744   33   59  (lr, batch_size, epochs)\n",
            "       Particle position is  0.00747624399216744   33   59  (lr, batch_size, epochs)\n",
            "     Particle number  8  of  20\n",
            "       Particle position is  0.010584575796179604   39   21  (lr, batch_size, epochs)\n",
            "       Particle position is  0.010584575796179604   39   21  (lr, batch_size, epochs)\n",
            "     Particle number  9  of  20\n",
            "       Particle position is  0.01103600252702466   40   65  (lr, batch_size, epochs)\n",
            "       Particle position is  0.01103600252702466   40   65  (lr, batch_size, epochs)\n",
            "     Particle number  10  of  20\n",
            "       Particle position is  0.009899179719157295   29   3  (lr, batch_size, epochs)\n",
            "       Particle position is  0.009899179719157295   29   3  (lr, batch_size, epochs)\n",
            "     Particle number  11  of  20\n",
            "       Particle position is  0.005378911786896512   30   46  (lr, batch_size, epochs)\n",
            "       Particle position is  0.005378911786896512   30   46  (lr, batch_size, epochs)\n",
            "     Particle number  12  of  20\n",
            "       Particle position is  0.010216778804873457   37   71  (lr, batch_size, epochs)\n",
            "       Particle position is  0.010216778804873457   37   71  (lr, batch_size, epochs)\n",
            "     Particle number  13  of  20\n",
            "       Particle position is  0.01210514467539111   43   5  (lr, batch_size, epochs)\n",
            "       Particle position is  0.01210514467539111   43   5  (lr, batch_size, epochs)\n",
            "     Particle number  14  of  20\n",
            "       Particle position is  0.014969981887961843   24   33  (lr, batch_size, epochs)\n",
            "       Particle position is  0.014969981887961843   24   33  (lr, batch_size, epochs)\n",
            "     Particle number  15  of  20\n",
            "       Particle position is  0.014850573975286573   39   25  (lr, batch_size, epochs)\n",
            "       Particle position is  0.014850573975286573   39   25  (lr, batch_size, epochs)\n",
            "     Particle number  16  of  20\n",
            "       Particle position is  0.01377879010590019   45   7  (lr, batch_size, epochs)\n",
            "       Particle position is  0.01377879010590019   45   7  (lr, batch_size, epochs)\n",
            "     Particle number  17  of  20\n",
            "       Particle position is  0.010577669518916076   20   61  (lr, batch_size, epochs)\n",
            "       Particle position is  0.010577669518916076   20   61  (lr, batch_size, epochs)\n",
            "     Particle number  18  of  20\n",
            "       Particle position is  0.008895549473090767   38   72  (lr, batch_size, epochs)\n",
            "       Particle position is  0.008895549473090767   38   72  (lr, batch_size, epochs)\n",
            "     Particle number  19  of  20\n",
            "       Particle position is  0.011541194542881265   35   6  (lr, batch_size, epochs)\n",
            "       Particle position is  0.011541194542881265   35   6  (lr, batch_size, epochs)\n",
            "     Particle number  20  of  20\n",
            "       Particle position is  0.012075462379986211   40   38  (lr, batch_size, epochs)\n",
            "       Particle position is  0.012075462379986211   40   38  (lr, batch_size, epochs)\n",
            "Iteration number  3  of  6\n",
            "     Particle number  1  of  20\n",
            "       Particle position is  0.004973132548712053   28   31  (lr, batch_size, epochs)\n",
            "       Particle position is  0.004973132548712053   28   31  (lr, batch_size, epochs)\n",
            "     Particle number  2  of  20\n",
            "       Particle position is  0.010610655072214922   41   47  (lr, batch_size, epochs)\n",
            "       Particle position is  0.010610655072214922   41   47  (lr, batch_size, epochs)\n",
            "     Particle number  3  of  20\n",
            "       Particle position is  0.011277315013949268   24   48  (lr, batch_size, epochs)\n",
            "       Particle position is  0.011277315013949268   24   48  (lr, batch_size, epochs)\n",
            "     Particle number  4  of  20\n",
            "       Particle position is  0.007098806996521337   29   21  (lr, batch_size, epochs)\n",
            "       Particle position is  0.007098806996521337   29   21  (lr, batch_size, epochs)\n",
            "     Particle number  5  of  20\n",
            "       Particle position is  0.015506389547516819   30   2  (lr, batch_size, epochs)\n",
            "       Particle position is  0.015506389547516819   30   2  (lr, batch_size, epochs)\n",
            "     Particle number  6  of  20\n",
            "       Particle position is  0.011539043720435896   33   23  (lr, batch_size, epochs)\n",
            "       Particle position is  0.011539043720435896   33   23  (lr, batch_size, epochs)\n",
            "     Particle number  7  of  20\n",
            "       Particle position is  0.012631022568959798   36   33  (lr, batch_size, epochs)\n",
            "       Particle position is  0.012631022568959798   36   33  (lr, batch_size, epochs)\n",
            "     Particle number  8  of  20\n",
            "       Particle position is  0.012076881174200993   35   9  (lr, batch_size, epochs)\n",
            "       Particle position is  0.012076881174200993   35   9  (lr, batch_size, epochs)\n",
            "     Particle number  9  of  20\n",
            "       Particle position is  0.01449050122928835   39   31  (lr, batch_size, epochs)\n",
            "       Particle position is  0.01449050122928835   39   31  (lr, batch_size, epochs)\n",
            "     Particle number  10  of  20\n",
            "       Particle position is  0.010887580063317444   31   20  (lr, batch_size, epochs)\n",
            "       Particle position is  0.010887580063317444   31   20  (lr, batch_size, epochs)\n",
            "     Particle number  11  of  20\n",
            "       Particle position is  0.010180965314865974   28   40  (lr, batch_size, epochs)\n",
            "       Particle position is  0.010180965314865974   28   40  (lr, batch_size, epochs)\n",
            "     Particle number  12  of  20\n",
            "       Particle position is  0.01159630811113138   37   35  (lr, batch_size, epochs)\n",
            "       Particle position is  0.01159630811113138   37   35  (lr, batch_size, epochs)\n",
            "     Particle number  13  of  20\n",
            "       Particle position is  0.016101859684988756   53   42  (lr, batch_size, epochs)\n",
            "       Particle position is  0.016101859684988756   53   42  (lr, batch_size, epochs)\n",
            "     Particle number  14  of  20\n",
            "       Particle position is  0.016036273899959624   25   5  (lr, batch_size, epochs)\n",
            "       Particle position is  0.016036273899959624   25   5  (lr, batch_size, epochs)\n",
            "     Particle number  15  of  20\n",
            "       Particle position is  0.013507996289966035   31   1  (lr, batch_size, epochs)\n",
            "       Particle position is  0.013507996289966035   31   1  (lr, batch_size, epochs)\n",
            "     Particle number  16  of  20\n",
            "       Particle position is  0.009816650678699494   12   55  (lr, batch_size, epochs)\n",
            "       Particle position is  0.009816650678699494   12   55  (lr, batch_size, epochs)\n",
            "     Particle number  17  of  20\n",
            "       Particle position is  0.009533694140891124   40   20  (lr, batch_size, epochs)\n",
            "       Particle position is  0.009533694140891124   40   20  (lr, batch_size, epochs)\n",
            "     Particle number  18  of  20\n",
            "       Particle position is  0.011748017344802856   35   34  (lr, batch_size, epochs)\n",
            "       Particle position is  0.011748017344802856   35   34  (lr, batch_size, epochs)\n",
            "     Particle number  19  of  20\n",
            "       Particle position is  0.013648545096956295   39   20  (lr, batch_size, epochs)\n",
            "       Particle position is  0.013648545096956295   39   20  (lr, batch_size, epochs)\n",
            "     Particle number  20  of  20\n",
            "       Particle position is  0.012415651894238945   36   2  (lr, batch_size, epochs)\n",
            "       Particle position is  0.012415651894238945   36   2  (lr, batch_size, epochs)\n",
            "Iteration number  4  of  6\n",
            "     Particle number  1  of  20\n",
            "       Particle position is  0.01371537180135659   29   1  (lr, batch_size, epochs)\n",
            "       Particle position is  0.01371537180135659   29   1  (lr, batch_size, epochs)\n",
            "     Particle number  2  of  20\n",
            "       Particle position is  0.013113340857478142   20   8  (lr, batch_size, epochs)\n",
            "       Particle position is  0.013113340857478142   20   8  (lr, batch_size, epochs)\n",
            "     Particle number  3  of  20\n",
            "       Particle position is  0.010985357440128128   28   7  (lr, batch_size, epochs)\n",
            "       Particle position is  0.010985357440128128   28   7  (lr, batch_size, epochs)\n",
            "     Particle number  4  of  20\n",
            "       Particle position is  0.013586415489470429   42   6  (lr, batch_size, epochs)\n",
            "       Particle position is  0.013586415489470429   42   6  (lr, batch_size, epochs)\n",
            "     Particle number  5  of  20\n",
            "       Particle position is  0.011794370529917667   36   11  (lr, batch_size, epochs)\n",
            "       Particle position is  0.011794370529917667   36   11  (lr, batch_size, epochs)\n",
            "     Particle number  6  of  20\n",
            "       Particle position is  0.01201978899418013   32   1  (lr, batch_size, epochs)\n",
            "       Particle position is  0.01201978899418013   32   1  (lr, batch_size, epochs)\n",
            "     Particle number  7  of  20\n",
            "       Particle position is  0.005325507931866781   35   12  (lr, batch_size, epochs)\n",
            "       Particle position is  0.005325507931866781   35   12  (lr, batch_size, epochs)\n",
            "     Particle number  8  of  20\n",
            "       Particle position is  0.012178507113744649   33   14  (lr, batch_size, epochs)\n",
            "       Particle position is  0.012178507113744649   33   14  (lr, batch_size, epochs)\n",
            "     Particle number  9  of  20\n",
            "       Particle position is  0.008209076233024266   38   13  (lr, batch_size, epochs)\n",
            "       Particle position is  0.008209076233024266   38   13  (lr, batch_size, epochs)\n",
            "     Particle number  10  of  20\n",
            "       Particle position is  0.011252736289150456   32   16  (lr, batch_size, epochs)\n",
            "       Particle position is  0.011252736289150456   32   16  (lr, batch_size, epochs)\n",
            "     Particle number  11  of  20\n",
            "       Particle position is  0.014038920085394547   35   6  (lr, batch_size, epochs)\n",
            "       Particle position is  0.014038920085394547   35   6  (lr, batch_size, epochs)\n",
            "     Particle number  12  of  20\n",
            "       Particle position is  0.012192009863760702   37   42  (lr, batch_size, epochs)\n",
            "       Particle position is  0.012192009863760702   37   42  (lr, batch_size, epochs)\n",
            "     Particle number  13  of  20\n",
            "       Particle position is  0.015882119882340846   41   27  (lr, batch_size, epochs)\n",
            "       Particle position is  0.015882119882340846   41   27  (lr, batch_size, epochs)\n",
            "     Particle number  14  of  20\n",
            "       Particle position is  0.011217878424267311   44   30  (lr, batch_size, epochs)\n",
            "       Particle position is  0.011217878424267311   44   30  (lr, batch_size, epochs)\n",
            "     Particle number  15  of  20\n",
            "       Particle position is  0.012115354174614165   34   23  (lr, batch_size, epochs)\n",
            "       Particle position is  0.012115354174614165   34   23  (lr, batch_size, epochs)\n",
            "     Particle number  16  of  20\n",
            "       Particle position is  0.010558638035988128   34   47  (lr, batch_size, epochs)\n",
            "       Particle position is  0.010558638035988128   34   47  (lr, batch_size, epochs)\n",
            "     Particle number  17  of  20\n",
            "       Particle position is  0.011500142042254394   48   39  (lr, batch_size, epochs)\n",
            "       Particle position is  0.011500142042254394   48   39  (lr, batch_size, epochs)\n",
            "     Particle number  18  of  20\n",
            "       Particle position is  0.013105835334426193   34   62  (lr, batch_size, epochs)\n",
            "       Particle position is  0.013105835334426193   34   62  (lr, batch_size, epochs)\n",
            "     Particle number  19  of  20\n",
            "       Particle position is  0.007033783074178874   27   2  (lr, batch_size, epochs)\n",
            "       Particle position is  0.007033783074178874   27   2  (lr, batch_size, epochs)\n",
            "     Particle number  20  of  20\n",
            "       Particle position is  0.01258574665136531   34   22  (lr, batch_size, epochs)\n",
            "       Particle position is  0.01258574665136531   34   22  (lr, batch_size, epochs)\n",
            "Iteration number  5  of  6\n",
            "     Particle number  1  of  20\n",
            "       Particle position is  0.01616778722092397   31   18  (lr, batch_size, epochs)\n",
            "       Particle position is  0.01616778722092397   31   18  (lr, batch_size, epochs)\n",
            "     Particle number  2  of  20\n",
            "       Particle position is  0.013060339257073086   27   35  (lr, batch_size, epochs)\n",
            "       Particle position is  0.013060339257073086   27   35  (lr, batch_size, epochs)\n",
            "     Particle number  3  of  20\n",
            "       Particle position is  0.011037915269335763   36   17  (lr, batch_size, epochs)\n",
            "       Particle position is  0.011037915269335763   36   17  (lr, batch_size, epochs)\n",
            "     Particle number  4  of  20\n",
            "       Particle position is  0.014730761541208778   48   14  (lr, batch_size, epochs)\n",
            "       Particle position is  0.014730761541208778   48   14  (lr, batch_size, epochs)\n",
            "     Particle number  5  of  20\n",
            "       Particle position is  0.01692356405288142   38   10  (lr, batch_size, epochs)\n",
            "       Particle position is  0.01692356405288142   38   10  (lr, batch_size, epochs)\n",
            "     Particle number  6  of  20\n",
            "       Particle position is  0.012483464845643345   38   13  (lr, batch_size, epochs)\n",
            "       Particle position is  0.012483464845643345   38   13  (lr, batch_size, epochs)\n",
            "     Particle number  7  of  20\n",
            "       Particle position is  0.006294469493134563   36   17  (lr, batch_size, epochs)\n",
            "       Particle position is  0.006294469493134563   36   17  (lr, batch_size, epochs)\n",
            "     Particle number  8  of  20\n",
            "       Particle position is  0.012297767905768371   39   10  (lr, batch_size, epochs)\n",
            "       Particle position is  0.012297767905768371   39   10  (lr, batch_size, epochs)\n",
            "     Particle number  9  of  20\n",
            "       Particle position is  0.008882679870756648   34   22  (lr, batch_size, epochs)\n",
            "       Particle position is  0.008882679870756648   34   22  (lr, batch_size, epochs)\n",
            "     Particle number  10  of  20\n",
            "       Particle position is  0.011870348301389333   38   4  (lr, batch_size, epochs)\n",
            "       Particle position is  0.011870348301389333   38   4  (lr, batch_size, epochs)\n",
            "     Particle number  11  of  20\n",
            "       Particle position is  0.014366814361445476   39   25  (lr, batch_size, epochs)\n",
            "       Particle position is  0.014366814361445476   39   25  (lr, batch_size, epochs)\n",
            "     Particle number  12  of  20\n",
            "       Particle position is  0.012757046598041824   36   21  (lr, batch_size, epochs)\n",
            "       Particle position is  0.012757046598041824   36   21  (lr, batch_size, epochs)\n",
            "     Particle number  13  of  20\n",
            "       Particle position is  0.013005253464440104   33   5  (lr, batch_size, epochs)\n",
            "       Particle position is  0.013005253464440104   33   5  (lr, batch_size, epochs)\n",
            "     Particle number  14  of  20\n",
            "       Particle position is  0.008928561905461176   38   4  (lr, batch_size, epochs)\n",
            "       Particle position is  0.008928561905461176   38   4  (lr, batch_size, epochs)\n",
            "     Particle number  15  of  20\n",
            "       Particle position is  0.013472475619968451   38   15  (lr, batch_size, epochs)\n",
            "       Particle position is  0.013472475619968451   38   15  (lr, batch_size, epochs)\n",
            "     Particle number  16  of  20\n",
            "       Particle position is  0.01227973893312643   46   26  (lr, batch_size, epochs)\n",
            "       Particle position is  0.01227973893312643   46   26  (lr, batch_size, epochs)\n",
            "     Particle number  17  of  20\n",
            "       Particle position is  0.013287767918189707   43   1  (lr, batch_size, epochs)\n",
            "       Particle position is  0.013287767918189707   43   1  (lr, batch_size, epochs)\n",
            "     Particle number  18  of  20\n",
            "       Particle position is  0.013307835267073777   35   28  (lr, batch_size, epochs)\n",
            "       Particle position is  0.013307835267073777   35   28  (lr, batch_size, epochs)\n",
            "     Particle number  19  of  20\n",
            "       Particle position is  0.010677083175422715   27   7  (lr, batch_size, epochs)\n",
            "       Particle position is  0.010677083175422715   27   7  (lr, batch_size, epochs)\n",
            "     Particle number  20  of  20\n",
            "       Particle position is  0.012191147459059361   39   17  (lr, batch_size, epochs)\n",
            "       Particle position is  0.012191147459059361   39   17  (lr, batch_size, epochs)\n",
            "Iteration number  6  of  6\n",
            "     Particle number  1  of  20\n",
            "       Particle position is  0.00930819861099804   30   21  (lr, batch_size, epochs)\n",
            "       Particle position is  0.00930819861099804   30   21  (lr, batch_size, epochs)\n",
            "     Particle number  2  of  20\n",
            "       Particle position is  0.01253006379408673   36   47  (lr, batch_size, epochs)\n",
            "       Particle position is  0.01253006379408673   36   47  (lr, batch_size, epochs)\n",
            "     Particle number  3  of  20\n",
            "       Particle position is  0.013538414435950462   33   6  (lr, batch_size, epochs)\n",
            "       Particle position is  0.013538414435950462   33   6  (lr, batch_size, epochs)\n",
            "     Particle number  4  of  20\n",
            "       Particle position is  0.012597003202058239   39   8  (lr, batch_size, epochs)\n",
            "       Particle position is  0.012597003202058239   39   8  (lr, batch_size, epochs)\n",
            "     Particle number  5  of  20\n",
            "       Particle position is  0.015465655044878025   23   8  (lr, batch_size, epochs)\n",
            "       Particle position is  0.015465655044878025   23   8  (lr, batch_size, epochs)\n",
            "     Particle number  6  of  20\n",
            "       Particle position is  0.012469630569846329   37   20  (lr, batch_size, epochs)\n",
            "       Particle position is  0.012469630569846329   37   20  (lr, batch_size, epochs)\n",
            "     Particle number  7  of  20\n",
            "       Particle position is  0.010901177204101851   36   8  (lr, batch_size, epochs)\n",
            "       Particle position is  0.010901177204101851   36   8  (lr, batch_size, epochs)\n",
            "     Particle number  8  of  20\n",
            "       Particle position is  0.012375986381872393   42   14  (lr, batch_size, epochs)\n",
            "       Particle position is  0.012375986381872393   42   14  (lr, batch_size, epochs)\n",
            "     Particle number  9  of  20\n",
            "       Particle position is  0.01195603010988495   39   23  (lr, batch_size, epochs)\n",
            "       Particle position is  0.01195603010988495   39   23  (lr, batch_size, epochs)\n",
            "     Particle number  10  of  20\n",
            "       Particle position is  0.012616453505172763   39   13  (lr, batch_size, epochs)\n",
            "       Particle position is  0.012616453505172763   39   13  (lr, batch_size, epochs)\n",
            "     Particle number  11  of  20\n",
            "       Particle position is  0.01309039859564982   34   43  (lr, batch_size, epochs)\n",
            "       Particle position is  0.01309039859564982   34   43  (lr, batch_size, epochs)\n",
            "     Particle number  12  of  20\n",
            "       Particle position is  0.012466188944958686   36   37  (lr, batch_size, epochs)\n",
            "       Particle position is  0.012466188944958686   36   37  (lr, batch_size, epochs)\n",
            "     Particle number  13  of  20\n",
            "       Particle position is  0.01072336132095695   30   11  (lr, batch_size, epochs)\n",
            "       Particle position is  0.01072336132095695   30   11  (lr, batch_size, epochs)\n",
            "     Particle number  14  of  20\n",
            "       Particle position is  0.012287202575709758   32   17  (lr, batch_size, epochs)\n",
            "       Particle position is  0.012287202575709758   32   17  (lr, batch_size, epochs)\n",
            "     Particle number  15  of  20\n",
            "       Particle position is  0.012334219290522697   24   1  (lr, batch_size, epochs)\n",
            "       Particle position is  0.012334219290522697   24   1  (lr, batch_size, epochs)\n",
            "     Particle number  16  of  20\n",
            "       Particle position is  0.01318795816107217   41   4  (lr, batch_size, epochs)\n",
            "       Particle position is  0.01318795816107217   41   4  (lr, batch_size, epochs)\n",
            "     Particle number  17  of  20\n",
            "       Particle position is  0.013058870277211383   32   19  (lr, batch_size, epochs)\n",
            "       Particle position is  0.013058870277211383   32   19  (lr, batch_size, epochs)\n",
            "     Particle number  18  of  20\n",
            "       Particle position is  0.013408835233397568   35   10  (lr, batch_size, epochs)\n",
            "       Particle position is  0.013408835233397568   35   10  (lr, batch_size, epochs)\n",
            "     Particle number  19  of  20\n",
            "       Particle position is  0.01656598476357237   29   53  (lr, batch_size, epochs)\n",
            "       Particle position is  0.01656598476357237   29   53  (lr, batch_size, epochs)\n",
            "     Particle number  20  of  20\n",
            "       Particle position is  0.012788429048705264   31   15  (lr, batch_size, epochs)\n",
            "       Particle position is  0.012788429048705264   31   15  (lr, batch_size, epochs)\n",
            "[ 1.24793827e-02  3.89503924e+01 -2.51771208e+01] (0.25409695506095886, 0.23383377492427826)\n",
            "[ 1.28016231e-02  4.12905007e+01 -4.22571093e+01] (0.2555408477783203, 0.22616109251976013)\n",
            "[ 1.26719697e-02  3.66590731e+01 -2.04546498e+01] (0.24589873850345612, 0.23390327394008636)\n",
            "[ 1.72853448e-02  3.60378037e+01 -2.59150133e+01] (0.25339242815971375, 0.22755692899227142)\n",
            "[ 1.27545692e-02  3.22013717e+01 -5.61725433e+00] (0.24941681325435638, 0.23016434907913208)\n",
            "[1.50075269e-02 3.78612297e+01 1.22475073e+01] (0.24643276631832123, 0.22285465896129608)\n",
            "[ 1.15454841e-02  3.10122188e+01 -1.14674857e+01] (0.2582201659679413, 0.22226902842521667)\n"
          ]
        }
      ]
    },
    {
      "cell_type": "code",
      "source": [
        "pareto_front_fitness = []\n",
        "dominated_solutions_fitness = []\n",
        "\n",
        "for p in pareto_front:\n",
        "    pareto_front_fitness.append(p.fitness)\n",
        "\n",
        "for q in dominated_solutions:\n",
        "    dominated_solutions_fitness.append(q.fitness)\n",
        "\n",
        "print(pareto_front_fitness)\n",
        "print(dominated_solutions_fitness)"
      ],
      "metadata": {
        "colab": {
          "base_uri": "https://localhost:8080/"
        },
        "id": "bDxSmNt03tWy",
        "outputId": "d9b3ef18-c02f-4352-d45c-9829114850e4"
      },
      "execution_count": null,
      "outputs": [
        {
          "output_type": "stream",
          "name": "stdout",
          "text": [
            "[(0.25409695506095886, 0.23383377492427826), (0.2555408477783203, 0.22616109251976013), (0.24589873850345612, 0.23390327394008636), (0.25339242815971375, 0.22755692899227142), (0.24941681325435638, 0.23016434907913208), (0.24643276631832123, 0.22285465896129608), (0.2582201659679413, 0.22226902842521667)]\n",
            "[(0.2582072615623474, 0.23341503739356995), (0.26030755043029785, 0.2274467647075653), (0.2562035620212555, 0.2274734377861023), (0.24828286468982697, 0.2317163497209549), (0.25278240442276, 0.22680965065956116), (0.25987470149993896, 0.2324533462524414), (0.25723204016685486, 0.238002747297287), (0.2587295174598694, 0.23816096782684326), (0.24962468445301056, 0.25620773434638977), (0.2539231777191162, 0.251247376203537), (0.25692251324653625, 0.23640035092830658), (0.2656692862510681, 0.23796558380126953), (0.25632381439208984, 0.24826796352863312)]\n"
          ]
        }
      ]
    },
    {
      "cell_type": "code",
      "source": [
        "pareto_front_fitness = [(0.25409695506095886, 0.23383377492427826), (0.2555408477783203, 0.22616109251976013), (0.24589873850345612, 0.23390327394008636), (0.25339242815971375, 0.22755692899227142), (0.24941681325435638, 0.23016434907913208), (0.24643276631832123, 0.22285465896129608), (0.2582201659679413, 0.22226902842521667)]\n",
        "dominated_solutions_fitness = [(0.2582072615623474, 0.23341503739356995), (0.26030755043029785, 0.2274467647075653), (0.2562035620212555, 0.2274734377861023), (0.24828286468982697, 0.2317163497209549), (0.25278240442276, 0.22680965065956116), (0.25987470149993896, 0.2324533462524414), (0.25723204016685486, 0.238002747297287), (0.2587295174598694, 0.23816096782684326), (0.24962468445301056, 0.25620773434638977), (0.2539231777191162, 0.251247376203537), (0.25692251324653625, 0.23640035092830658), (0.2656692862510681, 0.23796558380126953), (0.25632381439208984, 0.24826796352863312)]\n"
      ],
      "metadata": {
        "id": "q7bGVxp4VH9Z"
      },
      "execution_count": null,
      "outputs": []
    },
    {
      "cell_type": "code",
      "source": [
        "broken_pareto_points = []\n",
        "lost_pareto_points = []\n",
        "\n",
        "for k in range(len(pareto_front_fitness)):\n",
        "  for l in range(len(dominated_solutions_fitness)):\n",
        "    if all(pareto_front_fitness[k][i] > dominated_solutions_fitness[l][i] for i in range(2)):\n",
        "         broken_pareto_points.append(pareto_front_fitness[k])\n",
        "         lost_pareto_points.append(dominated_solutions_fitness[l])\n",
        "         print(pareto_front_fitness[k])\n",
        "         \n",
        "\n",
        "print(\"broken pareto points: \")\n",
        "print(broken_pareto_points)\n",
        "print(\"lost pareto points: \")\n",
        "print(lost_pareto_points)"
      ],
      "metadata": {
        "colab": {
          "base_uri": "https://localhost:8080/"
        },
        "id": "vCuNtOXi1JzS",
        "outputId": "5e020a5e-3cc5-4013-a139-d31ce372ac49"
      },
      "execution_count": null,
      "outputs": [
        {
          "output_type": "stream",
          "name": "stdout",
          "text": [
            "(0.25409695506095886, 0.23383377492427826)\n",
            "(0.25409695506095886, 0.23383377492427826)\n",
            "(0.25339242815971375, 0.22755692899227142)\n",
            "broken pareto points: \n",
            "[(0.25409695506095886, 0.23383377492427826), (0.25409695506095886, 0.23383377492427826), (0.25339242815971375, 0.22755692899227142)]\n",
            "lost pareto points: \n",
            "[(0.24828286468982697, 0.2317163497209549), (0.25278240442276, 0.22680965065956116), (0.25278240442276, 0.22680965065956116)]\n"
          ]
        }
      ]
    },
    {
      "cell_type": "code",
      "source": [
        "pareto_front_fitness = [(0.2555408477783203, 0.22616109251976013), (0.24828286468982697, 0.2317163497209549), (0.25278240442276, 0.22680965065956116), (0.24589873850345612, 0.23390327394008636), (0.24941681325435638, 0.23016434907913208), (0.24643276631832123, 0.22285465896129608), (0.2582201659679413, 0.22226902842521667)]"
      ],
      "metadata": {
        "id": "Oo5gCywM38Vj"
      },
      "execution_count": null,
      "outputs": []
    },
    {
      "cell_type": "code",
      "source": [
        "# sort the pareto front by x-coordinate\n",
        "pareto_front_fitness.sort(key=lambda p: p[0])\n",
        "\n",
        "# extract the sorted x and y coordinates from the tuples\n",
        "x = [p[0] for p in pareto_front_fitness]\n",
        "y = [p[1] for p in pareto_front_fitness]\n",
        "\n",
        "# extract the sorted x and y coordinates from the tuples of dominated solutions\n",
        "x_dom = [p[0] for p in dominated_solutions_fitness]\n",
        "y_dom = [p[1] for p in dominated_solutions_fitness]\n",
        "\n",
        "# create a line plot with dots at each point on the x and y coordinates\n",
        "plt.plot(x, y, 'o-', color='blue')\n",
        "plt.plot(x_dom, y_dom, 'o', color='red', linestyle='None')\n",
        "\n",
        "# set the labels for the x and y axes\n",
        "plt.xlabel('CWC1')\n",
        "plt.ylabel('CWC2')\n",
        "\n",
        "# show the plot\n",
        "plt.show()"
      ],
      "metadata": {
        "colab": {
          "base_uri": "https://localhost:8080/",
          "height": 449
        },
        "id": "QcwaikUj4acT",
        "outputId": "7f68af5f-f427-43b4-fcf5-b8553fe258f3"
      },
      "execution_count": null,
      "outputs": [
        {
          "output_type": "display_data",
          "data": {
            "text/plain": [
              "<Figure size 640x480 with 1 Axes>"
            ],
            "image/png": "[encoded data removed]"
          },
          "metadata": {}
        }
      ]
    },
    {
      "cell_type": "code",
      "source": [
        "# Make predictions\n",
        "y_pred = model.predict(X_test)\n",
        "y_pred = scaler.inverse_transform(y_pred)\n",
        "y_test = scaler.inverse_transform(y_test)"
      ],
      "metadata": {
        "id": "r8nSt7LN4pTd",
        "colab": {
          "base_uri": "https://localhost:8080/"
        },
        "outputId": "8f4e1d47-2cf3-496d-ab30-15151726cabc"
      },
      "execution_count": null,
      "outputs": [
        {
          "output_type": "stream",
          "name": "stdout",
          "text": [
            "5/5 [==============================] - 0s 7ms/step\n"
          ]
        }
      ]
    },
    {
      "cell_type": "code",
      "source": [
        "np.mean(y_test)"
      ],
      "metadata": {
        "id": "2SKAE6DLveFx"
      },
      "execution_count": null,
      "outputs": []
    },
    {
      "cell_type": "code",
      "source": [
        "np.std(y_test)"
      ],
      "metadata": {
        "id": "sp3CML-AvjUy"
      },
      "execution_count": null,
      "outputs": []
    },
    {
      "cell_type": "code",
      "source": [
        "# Plot the actual and predicted stock prices with the upper and lower bounds\n",
        "fig, ax = plt.subplots(figsize=(10, 6))\n",
        "ax.plot(test['<DATE>'][:-forecast_horizon-60], y_test[:, 0], label='Actual')\n",
        "ax.plot(test['<DATE>'][:-forecast_horizon-60], y_pred[:, 0], label='Predicted')\n",
        "ax.fill_between(test['<DATE>'][:-forecast_horizon-60], y_pred[:, 0], y_pred[:, 1], alpha=0.7, label='LB-UB Interval')\n",
        "ax.legend()\n",
        "plt.show()\n"
      ],
      "metadata": {
        "id": "1S9lIh6ZvP2_",
        "colab": {
          "base_uri": "https://localhost:8080/",
          "height": 895
        },
        "outputId": "00e5b2e0-fc35-463d-aa98-52ad409a9ee7"
      },
      "execution_count": null,
      "outputs": [
        {
          "output_type": "error",
          "ename": "ValueError",
          "evalue": "ignored",
          "traceback": [
            "\u001b[0;31m---------------------------------------------------------------------------\u001b[0m",
            "\u001b[0;31mValueError\u001b[0m                                Traceback (most recent call last)",
            "\u001b[0;32m<ipython-input-24-b69dc5cb11d9>\u001b[0m in \u001b[0;36m<cell line: 4>\u001b[0;34m()\u001b[0m\n\u001b[1;32m      2\u001b[0m \u001b[0mfig\u001b[0m\u001b[0;34m,\u001b[0m \u001b[0max\u001b[0m \u001b[0;34m=\u001b[0m \u001b[0mplt\u001b[0m\u001b[0;34m.\u001b[0m\u001b[0msubplots\u001b[0m\u001b[0;34m(\u001b[0m\u001b[0mfigsize\u001b[0m\u001b[0;34m=\u001b[0m\u001b[0;34m(\u001b[0m\u001b[0;36m10\u001b[0m\u001b[0;34m,\u001b[0m \u001b[0;36m6\u001b[0m\u001b[0;34m)\u001b[0m\u001b[0;34m)\u001b[0m\u001b[0;34m\u001b[0m\u001b[0;34m\u001b[0m\u001b[0m\n\u001b[1;32m      3\u001b[0m \u001b[0max\u001b[0m\u001b[0;34m.\u001b[0m\u001b[0mplot\u001b[0m\u001b[0;34m(\u001b[0m\u001b[0mtest\u001b[0m\u001b[0;34m[\u001b[0m\u001b[0;34m'<DATE>'\u001b[0m\u001b[0;34m]\u001b[0m\u001b[0;34m[\u001b[0m\u001b[0;34m:\u001b[0m\u001b[0;34m-\u001b[0m\u001b[0mforecast_horizon\u001b[0m\u001b[0;34m-\u001b[0m\u001b[0;36m60\u001b[0m\u001b[0;34m]\u001b[0m\u001b[0;34m,\u001b[0m \u001b[0my_test\u001b[0m\u001b[0;34m[\u001b[0m\u001b[0;34m:\u001b[0m\u001b[0;34m,\u001b[0m \u001b[0;36m0\u001b[0m\u001b[0;34m]\u001b[0m\u001b[0;34m,\u001b[0m \u001b[0mlabel\u001b[0m\u001b[0;34m=\u001b[0m\u001b[0;34m'Actual'\u001b[0m\u001b[0;34m)\u001b[0m\u001b[0;34m\u001b[0m\u001b[0;34m\u001b[0m\u001b[0m\n\u001b[0;32m----> 4\u001b[0;31m \u001b[0max\u001b[0m\u001b[0;34m.\u001b[0m\u001b[0mplot\u001b[0m\u001b[0;34m(\u001b[0m\u001b[0mtest\u001b[0m\u001b[0;34m[\u001b[0m\u001b[0;34m'<DATE>'\u001b[0m\u001b[0;34m]\u001b[0m\u001b[0;34m[\u001b[0m\u001b[0;34m:\u001b[0m\u001b[0;34m-\u001b[0m\u001b[0mforecast_horizon\u001b[0m\u001b[0;34m-\u001b[0m\u001b[0;36m60\u001b[0m\u001b[0;34m]\u001b[0m\u001b[0;34m,\u001b[0m \u001b[0my_pred\u001b[0m\u001b[0;34m[\u001b[0m\u001b[0;34m:\u001b[0m\u001b[0;34m,\u001b[0m \u001b[0;36m0\u001b[0m\u001b[0;34m]\u001b[0m\u001b[0;34m,\u001b[0m \u001b[0mlabel\u001b[0m\u001b[0;34m=\u001b[0m\u001b[0;34m'Predicted'\u001b[0m\u001b[0;34m)\u001b[0m\u001b[0;34m\u001b[0m\u001b[0;34m\u001b[0m\u001b[0m\n\u001b[0m\u001b[1;32m      5\u001b[0m \u001b[0max\u001b[0m\u001b[0;34m.\u001b[0m\u001b[0mfill_between\u001b[0m\u001b[0;34m(\u001b[0m\u001b[0mtest\u001b[0m\u001b[0;34m[\u001b[0m\u001b[0;34m'<DATE>'\u001b[0m\u001b[0;34m]\u001b[0m\u001b[0;34m[\u001b[0m\u001b[0;34m:\u001b[0m\u001b[0;34m-\u001b[0m\u001b[0mforecast_horizon\u001b[0m\u001b[0;34m-\u001b[0m\u001b[0;36m60\u001b[0m\u001b[0;34m]\u001b[0m\u001b[0;34m,\u001b[0m \u001b[0my_pred\u001b[0m\u001b[0;34m[\u001b[0m\u001b[0;34m:\u001b[0m\u001b[0;34m,\u001b[0m \u001b[0;36m0\u001b[0m\u001b[0;34m]\u001b[0m\u001b[0;34m,\u001b[0m \u001b[0my_pred\u001b[0m\u001b[0;34m[\u001b[0m\u001b[0;34m:\u001b[0m\u001b[0;34m,\u001b[0m \u001b[0;36m1\u001b[0m\u001b[0;34m]\u001b[0m\u001b[0;34m,\u001b[0m \u001b[0malpha\u001b[0m\u001b[0;34m=\u001b[0m\u001b[0;36m0.7\u001b[0m\u001b[0;34m,\u001b[0m \u001b[0mlabel\u001b[0m\u001b[0;34m=\u001b[0m\u001b[0;34m'LB-UB Interval'\u001b[0m\u001b[0;34m)\u001b[0m\u001b[0;34m\u001b[0m\u001b[0;34m\u001b[0m\u001b[0m\n\u001b[1;32m      6\u001b[0m \u001b[0max\u001b[0m\u001b[0;34m.\u001b[0m\u001b[0mlegend\u001b[0m\u001b[0;34m(\u001b[0m\u001b[0;34m)\u001b[0m\u001b[0;34m\u001b[0m\u001b[0;34m\u001b[0m\u001b[0m\n",
            "\u001b[0;32m/usr/local/lib/python3.10/dist-packages/matplotlib/axes/_axes.py\u001b[0m in \u001b[0;36mplot\u001b[0;34m(self, scalex, scaley, data, *args, **kwargs)\u001b[0m\n\u001b[1;32m   1686\u001b[0m         \"\"\"\n\u001b[1;32m   1687\u001b[0m         \u001b[0mkwargs\u001b[0m \u001b[0;34m=\u001b[0m \u001b[0mcbook\u001b[0m\u001b[0;34m.\u001b[0m\u001b[0mnormalize_kwargs\u001b[0m\u001b[0;34m(\u001b[0m\u001b[0mkwargs\u001b[0m\u001b[0;34m,\u001b[0m \u001b[0mmlines\u001b[0m\u001b[0;34m.\u001b[0m\u001b[0mLine2D\u001b[0m\u001b[0;34m)\u001b[0m\u001b[0;34m\u001b[0m\u001b[0;34m\u001b[0m\u001b[0m\n\u001b[0;32m-> 1688\u001b[0;31m         \u001b[0mlines\u001b[0m \u001b[0;34m=\u001b[0m \u001b[0;34m[\u001b[0m\u001b[0;34m*\u001b[0m\u001b[0mself\u001b[0m\u001b[0;34m.\u001b[0m\u001b[0m_get_lines\u001b[0m\u001b[0;34m(\u001b[0m\u001b[0;34m*\u001b[0m\u001b[0margs\u001b[0m\u001b[0;34m,\u001b[0m \u001b[0mdata\u001b[0m\u001b[0;34m=\u001b[0m\u001b[0mdata\u001b[0m\u001b[0;34m,\u001b[0m \u001b[0;34m**\u001b[0m\u001b[0mkwargs\u001b[0m\u001b[0;34m)\u001b[0m\u001b[0;34m]\u001b[0m\u001b[0;34m\u001b[0m\u001b[0;34m\u001b[0m\u001b[0m\n\u001b[0m\u001b[1;32m   1689\u001b[0m         \u001b[0;32mfor\u001b[0m \u001b[0mline\u001b[0m \u001b[0;32min\u001b[0m \u001b[0mlines\u001b[0m\u001b[0;34m:\u001b[0m\u001b[0;34m\u001b[0m\u001b[0;34m\u001b[0m\u001b[0m\n\u001b[1;32m   1690\u001b[0m             \u001b[0mself\u001b[0m\u001b[0;34m.\u001b[0m\u001b[0madd_line\u001b[0m\u001b[0;34m(\u001b[0m\u001b[0mline\u001b[0m\u001b[0;34m)\u001b[0m\u001b[0;34m\u001b[0m\u001b[0;34m\u001b[0m\u001b[0m\n",
            "\u001b[0;32m/usr/local/lib/python3.10/dist-packages/matplotlib/axes/_base.py\u001b[0m in \u001b[0;36m__call__\u001b[0;34m(self, data, *args, **kwargs)\u001b[0m\n\u001b[1;32m    309\u001b[0m                 \u001b[0mthis\u001b[0m \u001b[0;34m+=\u001b[0m \u001b[0margs\u001b[0m\u001b[0;34m[\u001b[0m\u001b[0;36m0\u001b[0m\u001b[0;34m]\u001b[0m\u001b[0;34m,\u001b[0m\u001b[0;34m\u001b[0m\u001b[0;34m\u001b[0m\u001b[0m\n\u001b[1;32m    310\u001b[0m                 \u001b[0margs\u001b[0m \u001b[0;34m=\u001b[0m \u001b[0margs\u001b[0m\u001b[0;34m[\u001b[0m\u001b[0;36m1\u001b[0m\u001b[0;34m:\u001b[0m\u001b[0;34m]\u001b[0m\u001b[0;34m\u001b[0m\u001b[0;34m\u001b[0m\u001b[0m\n\u001b[0;32m--> 311\u001b[0;31m             yield from self._plot_args(\n\u001b[0m\u001b[1;32m    312\u001b[0m                 this, kwargs, ambiguous_fmt_datakey=ambiguous_fmt_datakey)\n\u001b[1;32m    313\u001b[0m \u001b[0;34m\u001b[0m\u001b[0m\n",
            "\u001b[0;32m/usr/local/lib/python3.10/dist-packages/matplotlib/axes/_base.py\u001b[0m in \u001b[0;36m_plot_args\u001b[0;34m(self, tup, kwargs, return_kwargs, ambiguous_fmt_datakey)\u001b[0m\n\u001b[1;32m    502\u001b[0m \u001b[0;34m\u001b[0m\u001b[0m\n\u001b[1;32m    503\u001b[0m         \u001b[0;32mif\u001b[0m \u001b[0mx\u001b[0m\u001b[0;34m.\u001b[0m\u001b[0mshape\u001b[0m\u001b[0;34m[\u001b[0m\u001b[0;36m0\u001b[0m\u001b[0;34m]\u001b[0m \u001b[0;34m!=\u001b[0m \u001b[0my\u001b[0m\u001b[0;34m.\u001b[0m\u001b[0mshape\u001b[0m\u001b[0;34m[\u001b[0m\u001b[0;36m0\u001b[0m\u001b[0;34m]\u001b[0m\u001b[0;34m:\u001b[0m\u001b[0;34m\u001b[0m\u001b[0;34m\u001b[0m\u001b[0m\n\u001b[0;32m--> 504\u001b[0;31m             raise ValueError(f\"x and y must have same first dimension, but \"\n\u001b[0m\u001b[1;32m    505\u001b[0m                              f\"have shapes {x.shape} and {y.shape}\")\n\u001b[1;32m    506\u001b[0m         \u001b[0;32mif\u001b[0m \u001b[0mx\u001b[0m\u001b[0;34m.\u001b[0m\u001b[0mndim\u001b[0m \u001b[0;34m>\u001b[0m \u001b[0;36m2\u001b[0m \u001b[0;32mor\u001b[0m \u001b[0my\u001b[0m\u001b[0;34m.\u001b[0m\u001b[0mndim\u001b[0m \u001b[0;34m>\u001b[0m \u001b[0;36m2\u001b[0m\u001b[0;34m:\u001b[0m\u001b[0;34m\u001b[0m\u001b[0;34m\u001b[0m\u001b[0m\n",
            "\u001b[0;31mValueError\u001b[0m: x and y must have same first dimension, but have shapes (912,) and (139,)"
          ]
        },
        {
          "output_type": "display_data",
          "data": {
            "text/plain": [
              "<Figure size 1000x600 with 1 Axes>"
            ],
            "image/png": "[encoded data removed]"
          },
          "metadata": {}
        }
      ]
    },
    {
      "cell_type": "code",
      "source": [
        "# the interval width\n",
        "plt.plot(y_pred[::forecast_horizon, 1]-y_pred[::forecast_horizon, 0])"
      ],
      "metadata": {
        "id": "CwRZx0x8so8k"
      },
      "execution_count": null,
      "outputs": []
    },
    {
      "cell_type": "code",
      "source": [
        "# Create the training data using the sliding window approach for all the data available\n",
        "train_scaled = scaler.fit_transform(df['<CLOSE>'].values.reshape(-1, 1))\n",
        "\n",
        "X_train = []\n",
        "y_train = []\n",
        "for i in range(window_size, len(train_scaled)):\n",
        "    X_train.append(train_scaled[i-window_size:i, 0])\n",
        "    y_train.append(train_scaled[i, 0])\n",
        "X_train, y_train = np.array(X_train), np.array(y_train)\n"
      ],
      "metadata": {
        "id": "rHtMpZrXZERB"
      },
      "execution_count": null,
      "outputs": []
    },
    {
      "cell_type": "code",
      "source": [
        "model.fit(X_train, y_train, epochs=100, batch_size=32, callbacks=[early_stop])"
      ],
      "metadata": {
        "id": "A3Yhigxx_pZO"
      },
      "execution_count": null,
      "outputs": []
    },
    {
      "cell_type": "code",
      "source": [
        "last_window_forecast = scaler.inverse_transform(model.predict(X_test[-window_size].reshape(-1,1)))"
      ],
      "metadata": {
        "id": "MATTKmGa9Bux"
      },
      "execution_count": null,
      "outputs": []
    },
    {
      "cell_type": "code",
      "source": [
        "plt.plot(last_window_forecast[1])"
      ],
      "metadata": {
        "id": "sWIDmlVs-Bss"
      },
      "execution_count": null,
      "outputs": []
    },
    {
      "cell_type": "code",
      "source": [
        "import datetime\n",
        "import matplotlib.pyplot as plt\n",
        "import matplotlib.dates as mdates\n",
        "\n",
        "start_date = test['<DATE>'].iloc[-1].date()\n",
        "N = 10 # replace with the number of dates you want to generate\n",
        "\n",
        "dates = []\n",
        "for i in range(N):\n",
        "    date = start_date + datetime.timedelta(days=i)\n",
        "    day = date.weekday()\n",
        "    if day < 5: # Add only weekdays\n",
        "        dates.append(date)\n",
        "\n",
        "fig, ax = plt.subplots(figsize=(10, 6))\n",
        "ax.fill_between(dates, last_window_forecast[1,:len(dates)], last_window_forecast[0, :len(dates)], alpha=1, label='LB-UB Interval Forecast')\n",
        "# filter out weekends from dates list\n",
        "weekdays = [date for date in dates if date.weekday() < 5]\n",
        "weekdays_fmt = mdates.DateFormatter('%Y-%m-%d')\n",
        "ax.xaxis.set_major_formatter(weekdays_fmt)\n",
        "ax.set_xticks(weekdays)\n",
        "\n",
        "# rotate the x-axis tick labels\n",
        "plt.xticks(rotation=90)\n",
        "ax.legend()\n",
        "plt.show()\n"
      ],
      "metadata": {
        "id": "kSKQ4P8Q5nYr"
      },
      "execution_count": null,
      "outputs": []
    }
  ]
}