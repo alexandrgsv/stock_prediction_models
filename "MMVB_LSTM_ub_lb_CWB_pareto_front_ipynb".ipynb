{
  "nbformat": 4,
  "nbformat_minor": 0,
  "metadata": {
    "colab": {
      "provenance": [],
      "authorship_tag": "ABX9TyNzNwDy7StACT6JYJHX0ewK",
      "include_colab_link": true
    },
    "kernelspec": {
      "name": "python3",
      "display_name": "Python 3"
    },
    "language_info": {
      "name": "python"
    }
  },
  "cells": [
    {
      "cell_type": "markdown",
      "metadata": {
        "id": "view-in-github",
        "colab_type": "text"
      },
      "source": [
        "<a href=\"https://colab.research.google.com/github/alexandrgsv/stock_prediction_models/blob/main/%22MMVB_LSTM_ub_lb_CWB_pareto_front_ipynb%22.ipynb\" target=\"_parent\"><img src=\"https://colab.research.google.com/assets/colab-badge.svg\" alt=\"Open In Colab\"/></a>"
      ]
    },
    {
      "cell_type": "code",
      "execution_count": 1,
      "metadata": {
        "id": "JXtLurca38We"
      },
      "outputs": [],
      "source": [
        "import pandas as pd\n",
        "import numpy as np\n",
        "import matplotlib.pyplot as plt\n",
        "from sklearn.preprocessing import MinMaxScaler\n",
        "from tensorflow.keras.models import Sequential\n",
        "from tensorflow.keras.layers import Dense, LSTM, Dropout\n",
        "from tensorflow.keras.optimizers import Adam\n",
        "from tensorflow.keras import backend as K\n"
      ]
    },
    {
      "cell_type": "code",
      "source": [
        "# Load the data\n",
        "#data = pd.read_csv('https://drive.google.com/uc?id=18RjIb6w6OXLPeKYJ-UJKUNtmY71RpP5D', header=0, usecols=['<DATE>', '<CLOSE>'], date_parser=True)\n",
        "data = pd.read_csv('https://drive.google.com/uc?id=18RjIb6w6OXLPeKYJ-UJKUNtmY71RpP5D',\n",
        "                   header=0, \n",
        "                   usecols=['<DATE>', '<CLOSE>'], \n",
        "                   parse_dates=['<DATE>'], \n",
        "                   date_parser=lambda x: pd.to_datetime(x, format='%d/%m/%y'))\n",
        "\n",
        "df = data[['<DATE>', '<CLOSE>']].copy()"
      ],
      "metadata": {
        "id": "xb9swMtr4Bpf"
      },
      "execution_count": 2,
      "outputs": []
    },
    {
      "cell_type": "code",
      "source": [
        "df = df.sort_values('<DATE>')\n",
        "df = df.reset_index(drop=True)\n",
        "#df = df.set_index('<DATE>').sort_index()\n",
        "\n"
      ],
      "metadata": {
        "id": "vJqjdTOL4INF"
      },
      "execution_count": 3,
      "outputs": []
    },
    {
      "cell_type": "code",
      "source": [
        "# Split the data into training and test sets\n",
        "train_size = int(len(df) * 0.8)\n",
        "train = df[:train_size]\n",
        "#test = df[train_size-window_size:]\n",
        "test = df[train_size:]"
      ],
      "metadata": {
        "id": "tpiTHakmRahB"
      },
      "execution_count": 4,
      "outputs": []
    },
    {
      "cell_type": "code",
      "source": [
        "# Scale the data\n",
        "scaler = MinMaxScaler()\n",
        "train_scaled = scaler.fit_transform(train['<CLOSE>'].values.reshape(-1, 1))\n",
        "test_scaled = scaler.transform(test['<CLOSE>'].values.reshape(-1, 1))\n"
      ],
      "metadata": {
        "id": "U7fTkLxURb62"
      },
      "execution_count": 5,
      "outputs": []
    },
    {
      "cell_type": "code",
      "source": [
        "\n",
        "def picp(y_true, y_pred):\n",
        "    lower = y_pred[..., 1]\n",
        "    upper = y_pred[..., 0]\n",
        "    real_l = y_true[..., 1]\n",
        "    real_u = y_true[..., 0]\n",
        "    return np.mean(np.logical_and(real_u <= upper, real_l >= lower))\n",
        " "
      ],
      "metadata": {
        "id": "wFv-gzcN5j2j"
      },
      "execution_count": 6,
      "outputs": []
    },
    {
      "cell_type": "code",
      "source": [
        "import tensorflow_probability as tfp\n",
        "\n",
        "def coverage_loss(y_true, y_pred, width=0.1):\n",
        "    q = (1 - width) / 2\n",
        "    e = y_true - y_pred\n",
        "    coverage = K.cast(K.abs(e) < tfp.stats.percentile(K.abs(e), q + width * 100), dtype='float32')\n",
        "    coverage_error = K.mean((1 - coverage) * K.abs(e))\n",
        "    prediction_error = K.mean(coverage * K.abs(e))\n",
        "    return coverage_error + prediction_error"
      ],
      "metadata": {
        "id": "C-Ch4V8eH5t-"
      },
      "execution_count": 7,
      "outputs": []
    },
    {
      "cell_type": "code",
      "source": [
        "# Define sliding window size and stride length\n",
        "window_size = 1\n",
        "stride_length = 1\n",
        "forecast_horizon = 10\n",
        "\n",
        "# Function to generate sliding windows for both training and test sets\n",
        "def generate_sliding_windows(data, window_size, stride_length):\n",
        "    X = []\n",
        "    y_upper = []\n",
        "    y_lower = []\n",
        "    for i in range(0, len(data) - window_size - forecast_horizon + 1, stride_length):\n",
        "        window = data[i:i+window_size]\n",
        "        upper_bounds = [[window.mean() + j*window.std() for j in range(1, forecast_horizon+1)]] #* forecast_horizon\n",
        "        lower_bounds = [[window.mean() - j*window.std() for j in range(1, forecast_horizon+1)]] #* forecast_horizon\n",
        "        X.append(window)\n",
        "        y_upper.append(upper_bounds)\n",
        "        y_lower.append(lower_bounds)\n",
        "    return np.array(X), np.array(y_upper).reshape((-1, forecast_horizon)), np.array(y_lower).reshape((-1, forecast_horizon))\n",
        "\n",
        "# Generate sliding windows for both training and test sets\n",
        "X_train, y_train_upper, y_train_lower = generate_sliding_windows(train_scaled, window_size, stride_length)\n",
        "X_test, y_test_upper, y_test_lower = generate_sliding_windows(test_scaled, window_size, stride_length)\n"
      ],
      "metadata": {
        "id": "1ZmDIwwg-suE"
      },
      "execution_count": 10,
      "outputs": []
    },
    {
      "cell_type": "code",
      "source": [
        "# Split train data into two complementary parts\n",
        "split_index = len(X_train) // 2\n",
        "X1_train, X2_train = X_train[:split_index], X_train[split_index:]\n",
        "y1_train_upper, y2_train_upper = y_train_upper[:split_index], y_train_upper[split_index:]\n",
        "y1_train_lower, y2_train_lower = y_train_lower[:split_index], y_train_lower[split_index:]\n"
      ],
      "metadata": {
        "id": "1jN1HcMsJNUG"
      },
      "execution_count": 16,
      "outputs": []
    },
    {
      "cell_type": "code",
      "source": [
        "# Define the model\n",
        "model = Sequential([\n",
        "    LSTM(units=5, return_sequences=False, input_shape=(window_size, 1)),\n",
        "    Dense(units=forecast_horizon*2)\n",
        "])\n"
      ],
      "metadata": {
        "id": "VuJ__nu8BefC"
      },
      "execution_count": 25,
      "outputs": []
    },
    {
      "cell_type": "code",
      "source": [
        "from tensorflow.keras.callbacks import EarlyStopping\n",
        "\n",
        "early_stop = EarlyStopping(monitor='loss', patience=5, mode='min', verbose=0)\n"
      ],
      "metadata": {
        "id": "1D8-p7Pppjjm"
      },
      "execution_count": 26,
      "outputs": []
    },
    {
      "cell_type": "code",
      "source": [
        "def fitness_function(params, X_train, y_train_lower, y_train_upper, X_val, y_val_lower, y_val_upper):\n",
        "  lr = max(1e-5, abs(params[0]))\n",
        "  batch_size = max(8, abs(int(params[1])))\n",
        "  epochs = max(1, abs(int(params[2])))\n",
        "  print(\"       Particle position is \", lr, \" \", batch_size, \" \", epochs, \" (lr, batch_size, epochs)\")\n",
        "  model.compile(optimizer=Adam(learning_rate=lr), loss=coverage_loss)\n",
        "  # Train the model\n",
        "  history = model.fit(X_train.reshape((X_train.shape[0], X_train.shape[1], 1)), np.column_stack((y_train_upper, y_train_lower)), epochs=epochs, batch_size=batch_size, callbacks = [early_stop], verbose = 0)\n",
        "  #return history.history['val_loss'][-1]\n",
        "  return model.evaluate(X_val.reshape((X_val.shape[0], X_val.shape[1], 1)), np.column_stack((y_val_upper, y_val_lower)), batch_size=batch_size, verbose = 0)"
      ],
      "metadata": {
        "id": "s6q6IZN3B4Ui"
      },
      "execution_count": 28,
      "outputs": []
    },
    {
      "cell_type": "code",
      "source": [
        "import random\n",
        "\n",
        "# Step 1:\n",
        "\n",
        "# Set the PSO parameters\n",
        "lb = [1e-5, 16, 20]  # Lower bounds for learning rate, batch size, and epochs\n",
        "ub = [1e-2, 32, 100]  # Upper bounds for learning rate, batch size, and epochs\n",
        "\n",
        "# Number of particles and iterations\n",
        "n_particles = 5\n",
        "n_iterations = 2\n",
        "n_dimensions = 3\n",
        "\n",
        "\n",
        "# Step 2: Initialize particle swarm\n",
        "class Particle:\n",
        "    def __init__(self):\n",
        "        self.position = np.random.uniform(low=lb, high=ub, size=(n_dimensions))\n",
        "        self.velocity = np.random.uniform(low=-1*(np.array(ub)-np.array(lb)), high=np.array(ub)-np.array(lb), size=(n_dimensions))\n",
        "        self.pbest_position = self.position.copy()\n",
        "        self.pbest_fitness = None\n",
        "        self.domination_count = 0\n",
        "        self.dominated_solutions = []\n",
        "        self.fitness = (0,0)\n",
        "\n",
        "swarm = [Particle() for _ in range(n_particles)]\n",
        "gbest_position = None\n",
        "gbest_fitness = None\n",
        "\n",
        "for p in swarm:\n",
        "  p.fitness = (10,10)\n",
        "\n",
        "# Step 3-6: Evaluate, update, and iterate\n",
        "for i in range(n_iterations):\n",
        "    print(\"Iteration number \", i+1, \" of \", n_iterations)\n",
        "    current_p = 1\n",
        "    for p in swarm:\n",
        "        print(\"     Particle number \", current_p, \" of \", n_particles)\n",
        "        current_p = current_p + 1\n",
        "        # Evaluate fitness\n",
        "        fitness1 = fitness_function(p.position, X1_train, y1_train_lower, y1_train_upper, X_test, y_test_lower, y_test_upper)\n",
        "        fitness2 = fitness_function(p.position, X2_train, y2_train_lower, y2_train_upper, X_test, y_test_lower, y_test_upper)\n",
        "        p.fitness = (fitness1, fitness2)\n",
        "\n",
        "        # Update personal best\n",
        "        if p.pbest_fitness is None or p.fitness < p.pbest_fitness:\n",
        "            p.pbest_position = p.position.copy()\n",
        "            p.pbest_fitness = p.fitness\n",
        "\n",
        "        # Update global best\n",
        "        if gbest_fitness is None or p.fitness < gbest_fitness:\n",
        "            gbest_position = p.position.copy()\n",
        "            gbest_fitness = p.fitness\n",
        "\n",
        "        \n",
        "        # Update velocity and position\n",
        "        for j in range(n_dimensions):\n",
        "            rp = random.uniform(0, 1)\n",
        "            rg = random.uniform(0, 1)\n",
        "            vel_cognitive = 2 * rp * (p.pbest_position[j] - p.position[j])\n",
        "            vel_social = 2 * rg * (gbest_position[j] - p.position[j])\n",
        "            p.velocity[j] = 0.5 * p.velocity[j] + vel_cognitive + vel_social\n",
        "            p.position[j] += p.velocity[j]\n",
        "    \n",
        "   # Calculate domination count and dominated solutions\n",
        "\n",
        "    for p in swarm:\n",
        "      p.domination_count = 0\n",
        "      p.dominated_solutions = []\n",
        "      for q in swarm:\n",
        "        if all(p.fitness[i] < q.fitness[i] for i in range(len(p.fitness))):\n",
        "          p.dominated_solutions.append(q)\n",
        "        elif all(q.fitness[i] < p.fitness[i] for i in range(len(q.fitness))):\n",
        "          p.domination_count += 1\n",
        "\n",
        "    # Step 7: Select non-dominated solutions\n",
        "    pareto_front = []\n",
        "    dominated_solutions = []\n",
        "    for p in swarm:\n",
        "        if p.domination_count == 0:\n",
        "            pareto_front.append(p)\n",
        "        else:\n",
        "           dominated_solutions.append(p)\n",
        "\n",
        "# Print Pareto front\n",
        "for p in pareto_front:\n",
        "    print(p.position, p.fitness)"
      ],
      "metadata": {
        "colab": {
          "base_uri": "https://localhost:8080/"
        },
        "id": "qsHWiAulrWsz",
        "outputId": "b2e33ce6-c275-4e0c-ee27-1cbbddd959f9"
      },
      "execution_count": 29,
      "outputs": [
        {
          "output_type": "stream",
          "name": "stdout",
          "text": [
            "Iteration number  1  of  2\n",
            "     Particle number  1  of  5\n",
            "       Particle position is  0.005994425076842192   21   97  (lr, batch_size, epochs)\n",
            "       Particle position is  0.005994425076842192   21   97  (lr, batch_size, epochs)\n",
            "     Particle number  2  of  5\n",
            "       Particle position is  0.005154971437013191   20   72  (lr, batch_size, epochs)\n",
            "       Particle position is  0.005154971437013191   20   72  (lr, batch_size, epochs)\n",
            "     Particle number  3  of  5\n",
            "       Particle position is  0.0030374083007416973   30   66  (lr, batch_size, epochs)\n",
            "       Particle position is  0.0030374083007416973   30   66  (lr, batch_size, epochs)\n",
            "     Particle number  4  of  5\n",
            "       Particle position is  0.00507398657778957   19   84  (lr, batch_size, epochs)\n",
            "       Particle position is  0.00507398657778957   19   84  (lr, batch_size, epochs)\n",
            "     Particle number  5  of  5\n",
            "       Particle position is  0.0035590616699247672   22   97  (lr, batch_size, epochs)\n",
            "       Particle position is  0.0035590616699247672   22   97  (lr, batch_size, epochs)\n",
            "Iteration number  2  of  2\n",
            "     Particle number  1  of  5\n",
            "       Particle position is  0.010957486020740786   29   112  (lr, batch_size, epochs)\n",
            "       Particle position is  0.010957486020740786   29   112  (lr, batch_size, epochs)\n",
            "     Particle number  2  of  5\n",
            "       Particle position is  0.005183744159495654   13   62  (lr, batch_size, epochs)\n",
            "       Particle position is  0.005183744159495654   13   62  (lr, batch_size, epochs)\n",
            "     Particle number  3  of  5\n",
            "       Particle position is  0.0008042791178411927   27   59  (lr, batch_size, epochs)\n",
            "       Particle position is  0.0008042791178411927   27   59  (lr, batch_size, epochs)\n",
            "     Particle number  4  of  5\n",
            "       Particle position is  0.004201313743259916   24   94  (lr, batch_size, epochs)\n",
            "       Particle position is  0.004201313743259916   24   94  (lr, batch_size, epochs)\n",
            "     Particle number  5  of  5\n",
            "       Particle position is  0.004384256408194106   16   71  (lr, batch_size, epochs)\n",
            "       Particle position is  0.004384256408194106   16   71  (lr, batch_size, epochs)\n",
            "[3.76497733e-03 2.62277784e+01 1.00001566e+02] (0.03923175856471062, 0.018100831657648087)\n",
            "[4.79685378e-03 1.32745889e+01 5.83281190e+01] (0.03222711384296417, 0.01910576969385147)\n"
          ]
        }
      ]
    },
    {
      "cell_type": "code",
      "source": [
        "pareto_front_fitness = []\n",
        "dominated_solutions_fitness = []\n",
        "\n",
        "for p in pareto_front:\n",
        "    pareto_front_fitness.append(p.fitness)\n",
        "\n",
        "for q in dominated_solutions:\n",
        "    dominated_solutions_fitness.append(q.fitness)\n",
        "\n",
        "print(pareto_front_fitness)\n",
        "print(dominated_solutions_fitness)"
      ],
      "metadata": {
        "colab": {
          "base_uri": "https://localhost:8080/"
        },
        "id": "bDxSmNt03tWy",
        "outputId": "15dcd13d-7d16-4ac6-ff3a-ef95a3daa764"
      },
      "execution_count": 30,
      "outputs": [
        {
          "output_type": "stream",
          "name": "stdout",
          "text": [
            "[(0.03923175856471062, 0.018100831657648087), (0.03222711384296417, 0.01910576969385147)]\n",
            "[(0.06681765615940094, 0.024499837309122086), (0.058374565094709396, 0.020810965448617935), (0.04559486731886864, 0.01926988922059536)]\n"
          ]
        }
      ]
    },
    {
      "cell_type": "code",
      "source": [
        "# sort the pareto front by x-coordinate\n",
        "pareto_front_fitness.sort(key=lambda p: p[0])\n",
        "\n",
        "# extract the sorted x and y coordinates from the tuples\n",
        "x = [p[0] for p in pareto_front_fitness]\n",
        "y = [p[1] for p in pareto_front_fitness]\n",
        "\n",
        "# extract the sorted x and y coordinates from the tuples of dominated solutions\n",
        "x_dom = [p[0] for p in dominated_solutions_fitness]\n",
        "y_dom = [p[1] for p in dominated_solutions_fitness]\n",
        "\n",
        "# create a line plot with dots at each point on the x and y coordinates\n",
        "plt.plot(x, y, 'o-', color='blue')\n",
        "plt.plot(x_dom, y_dom, 'o', color='red', linestyle='None')\n",
        "\n",
        "# set the labels for the x and y axes\n",
        "plt.xlabel('CWC1')\n",
        "plt.ylabel('CWC2')\n",
        "\n",
        "# show the plot\n",
        "plt.show()"
      ],
      "metadata": {
        "colab": {
          "base_uri": "https://localhost:8080/",
          "height": 449
        },
        "id": "QcwaikUj4acT",
        "outputId": "5e85c874-c3a7-446c-c9a9-f14a764966e9"
      },
      "execution_count": 31,
      "outputs": [
        {
          "output_type": "display_data",
          "data": {
            "text/plain": [
              "<Figure size 640x480 with 1 Axes>"
            ],
            "image/png": "[encoded data removed]"
          },
          "metadata": {}
        }
      ]
    },
    {
      "cell_type": "code",
      "source": [
        "#compile the model for the chosen Pareto point\n",
        "  \n",
        "params = pareto_front[0].position\n",
        "\n",
        "lr = abs(params[0])\n",
        "batch_size = abs(int(params[1]))\n",
        "epochs = abs(int(params[2]))\n",
        "\n",
        "model.compile(optimizer=Adam(learning_rate=lr), loss=coverage_loss)\n",
        "# Train the model\n",
        "history = model.fit(X_train.reshape((X_train.shape[0], X_train.shape[1], 1)), np.column_stack((y_train_upper, y_train_lower)), epochs=epochs, batch_size=batch_size, callbacks = [early_stop], verbose = 1)"
      ],
      "metadata": {
        "colab": {
          "base_uri": "https://localhost:8080/"
        },
        "id": "WL3jyl6ShJ72",
        "outputId": "2fddb6bf-4b6a-4e6e-9ea7-2aa239c3ebd8"
      },
      "execution_count": 36,
      "outputs": [
        {
          "output_type": "stream",
          "name": "stdout",
          "text": [
            "Epoch 1/100\n",
            "154/154 [==============================] - 3s 3ms/step - loss: 0.0014\n",
            "Epoch 2/100\n",
            "154/154 [==============================] - 1s 4ms/step - loss: 7.9014e-04\n",
            "Epoch 3/100\n",
            "154/154 [==============================] - 0s 3ms/step - loss: 8.3877e-04\n",
            "Epoch 4/100\n",
            "154/154 [==============================] - 0s 3ms/step - loss: 8.6229e-04\n",
            "Epoch 5/100\n",
            "154/154 [==============================] - 1s 3ms/step - loss: 7.2033e-04\n",
            "Epoch 6/100\n",
            "154/154 [==============================] - 1s 6ms/step - loss: 8.2815e-04\n",
            "Epoch 7/100\n",
            "154/154 [==============================] - 1s 4ms/step - loss: 8.0101e-04\n",
            "Epoch 8/100\n",
            "154/154 [==============================] - 1s 3ms/step - loss: 8.0719e-04\n",
            "Epoch 9/100\n",
            "154/154 [==============================] - 0s 3ms/step - loss: 9.5373e-04\n",
            "Epoch 10/100\n",
            "154/154 [==============================] - 0s 2ms/step - loss: 8.0460e-04\n"
          ]
        }
      ]
    },
    {
      "cell_type": "code",
      "source": [
        "# Assuming you have already trained the model and have X_test and y_test data, and a scaler object named \"scaler\"\n",
        "y_pred = model.predict(X_test.reshape((X_test.shape[0], X_test.shape[1], 1)))\n",
        "# The output will be a numpy array with shape (num_samples, 2)\n",
        "# where the first column contains upper bound predictions and the second column contains lower bound predictions\n",
        "\n",
        "# Inverse transform the predicted values and actual values\n",
        "y_pred_actual = scaler.inverse_transform(y_pred)\n",
        "y_test_actual = scaler.inverse_transform(np.column_stack((y_test_upper, y_test_lower)))\n",
        "\n",
        "# You can then use these actual values for further analysis or evaluation of the model's performance"
      ],
      "metadata": {
        "id": "r8nSt7LN4pTd",
        "colab": {
          "base_uri": "https://localhost:8080/"
        },
        "outputId": "b303b894-7d1d-4516-c8f8-5d2120decaca"
      },
      "execution_count": 37,
      "outputs": [
        {
          "output_type": "stream",
          "name": "stdout",
          "text": [
            "31/31 [==============================] - 1s 3ms/step\n"
          ]
        }
      ]
    },
    {
      "cell_type": "code",
      "source": [
        "# Plot predicted vs actual intervals with filling between lower and upper bounds\n",
        "\n",
        "plt.figure(figsize=(10, 5))\n",
        "plt.plot(y_pred_actual[:, 0], label='Predicted Upper Bound')\n",
        "plt.plot(y_pred_actual[:, 1], label='Predicted Lower Bound')\n",
        "#plt.plot(y_test_actual[:, 0], label='Actual Upper Bound')\n",
        "#plt.plot(y_test_actual[:, 1], label='Actual Lower Bound')\n",
        "plt.plot(test['<CLOSE>'].values.reshape(-1, 1), label = 'Test')\n",
        "plt.fill_between(range(len(y_test_actual)), y_pred_actual[:, 0], y_pred_actual[:, 1], alpha=0.2)\n",
        "plt.legend()\n",
        "plt.show()\n"
      ],
      "metadata": {
        "colab": {
          "base_uri": "https://localhost:8080/",
          "height": 445
        },
        "id": "-nHw9npjlYM_",
        "outputId": "37c2f08c-3750-4ce0-ba8a-3a70117730ab"
      },
      "execution_count": 38,
      "outputs": [
        {
          "output_type": "display_data",
          "data": {
            "text/plain": [
              "<Figure size 1000x500 with 1 Axes>"
            ],
            "image/png": "[encoded data removed]"
          },
          "metadata": {}
        }
      ]
    }
  ]
}