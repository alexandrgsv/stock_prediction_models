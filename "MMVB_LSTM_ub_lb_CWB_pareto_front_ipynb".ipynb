{
  "nbformat": 4,
  "nbformat_minor": 0,
  "metadata": {
    "colab": {
      "provenance": [],
      "authorship_tag": "ABX9TyN/W9PBDlwG0XNoniquFr2U",
      "include_colab_link": true
    },
    "kernelspec": {
      "name": "python3",
      "display_name": "Python 3"
    },
    "language_info": {
      "name": "python"
    }
  },
  "cells": [
    {
      "cell_type": "markdown",
      "metadata": {
        "id": "view-in-github",
        "colab_type": "text"
      },
      "source": [
        "<a href=\"https://colab.research.google.com/github/alexandrgsv/stock_prediction_models/blob/main/%22MMVB_LSTM_ub_lb_CWB_pareto_front_ipynb%22.ipynb\" target=\"_parent\"><img src=\"https://colab.research.google.com/assets/colab-badge.svg\" alt=\"Open In Colab\"/></a>"
      ]
    },
    {
      "cell_type": "code",
      "execution_count": 1,
      "metadata": {
        "id": "JXtLurca38We"
      },
      "outputs": [],
      "source": [
        "import pandas as pd\n",
        "import numpy as np\n",
        "import matplotlib.pyplot as plt\n",
        "from sklearn.preprocessing import MinMaxScaler\n",
        "from tensorflow.keras.models import Sequential\n",
        "from tensorflow.keras.layers import Dense, LSTM, Dropout\n",
        "from tensorflow.keras.optimizers import Adam\n",
        "from tensorflow.keras import backend as K\n"
      ]
    },
    {
      "cell_type": "code",
      "source": [
        "# Load the data\n",
        "#data = pd.read_csv('https://drive.google.com/uc?id=18RjIb6w6OXLPeKYJ-UJKUNtmY71RpP5D', header=0, usecols=['<DATE>', '<CLOSE>'], date_parser=True)\n",
        "data = pd.read_csv('https://drive.google.com/uc?id=18RjIb6w6OXLPeKYJ-UJKUNtmY71RpP5D',\n",
        "                   header=0, \n",
        "                   usecols=['<DATE>', '<CLOSE>'], \n",
        "                   parse_dates=['<DATE>'], \n",
        "                   date_parser=lambda x: pd.to_datetime(x, format='%d/%m/%y'))\n",
        "\n",
        "df = data[['<DATE>', '<CLOSE>']].copy()"
      ],
      "metadata": {
        "id": "xb9swMtr4Bpf"
      },
      "execution_count": 2,
      "outputs": []
    },
    {
      "cell_type": "code",
      "source": [
        "df = df.sort_values('<DATE>')\n",
        "df = df.reset_index(drop=True)\n",
        "#df = df.set_index('<DATE>').sort_index()\n",
        "\n"
      ],
      "metadata": {
        "id": "vJqjdTOL4INF"
      },
      "execution_count": 3,
      "outputs": []
    },
    {
      "cell_type": "code",
      "source": [
        "import tensorflow.keras.backend as K\n",
        "\n",
        "def cwbc_loss(y_true, y_pred, alpha=0.05):\n",
        "    \"\"\"\n",
        "    Computes the Coverage Width-Based Criterion (CWBC) as a combination of the\n",
        "    Prediction Interval Normalized Root-mean-square Width (PINRW) and the\n",
        "    Prediction Interval Coverage Probability (PICP).\n",
        "\n",
        "    Parameters:\n",
        "        - y_true: tensor of shape (batch_size, seq_len, 1) containing the true values\n",
        "        - y_pred: tensor of shape (batch_size, seq_len, 2) containing the predicted intervals\n",
        "        - alpha: float, significance level for the prediction intervals (default: 0.05)\n",
        "\n",
        "    Returns:\n",
        "        - cwbc: tensor of shape (batch_size,) representing the CWBC loss\n",
        "    \"\"\"\n",
        "    print(y_pred)\n",
        "    print(y_true)\n",
        "    y_lower = y_pred[:, :, 0]\n",
        "    y_upper = y_pred[:, :, 1]\n",
        "    y_true = K.squeeze(y_true, axis=-1)\n",
        "    y_range = K.max(y_true, axis=1) - K.min(y_true, axis=1)\n",
        "    interval_widths = y_upper - y_lower\n",
        "    avg_widths = K.mean(interval_widths, axis=1)\n",
        "    pinrw = K.sqrt(K.mean(K.square(interval_widths), axis=1)) / y_range\n",
        "    picp = K.mean(K.cast(K.all(K.stack([y_true >= y_lower, y_true <= y_upper], axis=-1), axis=-1), dtype='float32'), axis=1)\n",
        "    cwbc = pinrw + alpha * K.maximum(0.0, 1.0 - picp)\n",
        "    return cwbc\n"
      ],
      "metadata": {
        "id": "_4Gd8_GqgPQe"
      },
      "execution_count": 4,
      "outputs": []
    },
    {
      "cell_type": "code",
      "source": [
        "# Split the data into training and test sets\n",
        "train_size = int(len(df) * 0.8)\n",
        "train = df[:train_size]\n",
        "#test = df[train_size-window_size:]\n",
        "test = df[train_size:]"
      ],
      "metadata": {
        "id": "tpiTHakmRahB"
      },
      "execution_count": 5,
      "outputs": []
    },
    {
      "cell_type": "code",
      "source": [
        "# Scale the data\n",
        "scaler = MinMaxScaler()\n",
        "train_scaled = scaler.fit_transform(train['<CLOSE>'].values.reshape(-1, 1))\n",
        "test_scaled = scaler.transform(test['<CLOSE>'].values.reshape(-1, 1))\n"
      ],
      "metadata": {
        "id": "U7fTkLxURb62"
      },
      "execution_count": 6,
      "outputs": []
    },
    {
      "cell_type": "code",
      "source": [
        "import tensorflow_probability as tfp\n",
        "\n",
        "def coverage_loss(y_true, y_pred, width):\n",
        "    q = (1 - width) / 2\n",
        "    e = y_true - y_pred\n",
        "    coverage = K.cast(K.abs(e) < tfp.stats.percentile(K.abs(e), q + width * 100), dtype='float32')\n",
        "    coverage_error = K.mean((1 - coverage) * K.abs(e))\n",
        "    prediction_error = K.mean(coverage * K.abs(e))\n",
        "    return coverage_error + prediction_error\n"
      ],
      "metadata": {
        "id": "_widdlve2PMh"
      },
      "execution_count": 7,
      "outputs": []
    },
    {
      "cell_type": "code",
      "source": [
        "# Define sliding window size and stride length\n",
        "window_size = 30\n",
        "stride_length = 7\n",
        "forecast_horizon = 10\n",
        "\n",
        "# Function to generate sliding windows for both training and test sets\n",
        "def generate_sliding_windows(data, window_size, stride_length):\n",
        "    X = []\n",
        "    y_upper = []\n",
        "    y_lower = []\n",
        "    for i in range(0, len(data) - window_size - forecast_horizon + 1, stride_length):\n",
        "        window = data[i:i+window_size]\n",
        "        upper_bounds = [[window.mean() + j*window.std() for j in range(1, forecast_horizon+1)]] #* forecast_horizon\n",
        "        lower_bounds = [[window.mean() - j*window.std() for j in range(1, forecast_horizon+1)]] #* forecast_horizon\n",
        "        X.append(window)\n",
        "        y_upper.append(upper_bounds)\n",
        "        y_lower.append(lower_bounds)\n",
        "    return np.array(X), np.array(y_upper).reshape((-1, forecast_horizon)), np.array(y_lower).reshape((-1, forecast_horizon))\n",
        "\n",
        "# Generate sliding windows for both training and test sets\n",
        "X_train, y_train_upper, y_train_lower = generate_sliding_windows(train_scaled, window_size, stride_length)\n",
        "X_test, y_test_upper, y_test_lower = generate_sliding_windows(test_scaled, window_size, stride_length)\n"
      ],
      "metadata": {
        "id": "1ZmDIwwg-suE"
      },
      "execution_count": 8,
      "outputs": []
    },
    {
      "cell_type": "code",
      "source": [
        "X_train.shape"
      ],
      "metadata": {
        "colab": {
          "base_uri": "https://localhost:8080/"
        },
        "id": "mZkNsMkYGxmA",
        "outputId": "9d68f356-f1e7-443d-fdb8-815874c3036a"
      },
      "execution_count": null,
      "outputs": [
        {
          "output_type": "execute_result",
          "data": {
            "text/plain": [
              "(567, 30, 1)"
            ]
          },
          "metadata": {},
          "execution_count": 35
        }
      ]
    },
    {
      "cell_type": "code",
      "source": [
        "X_test.shape"
      ],
      "metadata": {
        "colab": {
          "base_uri": "https://localhost:8080/"
        },
        "id": "ngbh0ZvLG0qt",
        "outputId": "59c5b6e3-9d79-468b-eaeb-8d80c11dc383"
      },
      "execution_count": null,
      "outputs": [
        {
          "output_type": "execute_result",
          "data": {
            "text/plain": [
              "(138, 30, 1)"
            ]
          },
          "metadata": {},
          "execution_count": 36
        }
      ]
    },
    {
      "cell_type": "code",
      "source": [
        "y_train_upper.shape"
      ],
      "metadata": {
        "colab": {
          "base_uri": "https://localhost:8080/"
        },
        "id": "g5QhQDK_G4Se",
        "outputId": "e68d08b0-94aa-4d1b-f457-bc6bacba3acb"
      },
      "execution_count": null,
      "outputs": [
        {
          "output_type": "execute_result",
          "data": {
            "text/plain": [
              "(567, 10)"
            ]
          },
          "metadata": {},
          "execution_count": 37
        }
      ]
    },
    {
      "cell_type": "code",
      "source": [
        "y_test_upper.shape"
      ],
      "metadata": {
        "colab": {
          "base_uri": "https://localhost:8080/"
        },
        "id": "cX-tTJwnG7Od",
        "outputId": "606b3dc7-ea95-4a03-ee8e-ed77261a95d3"
      },
      "execution_count": null,
      "outputs": [
        {
          "output_type": "execute_result",
          "data": {
            "text/plain": [
              "(138, 10)"
            ]
          },
          "metadata": {},
          "execution_count": 38
        }
      ]
    },
    {
      "cell_type": "code",
      "source": [
        "# Split validation data into two complementary parts\n",
        "split_index = len(X_test) // 2\n",
        "X1_test, X2_test = X_test[:split_index], X_test[split_index:]\n",
        "y1_test_upper, y2_test_upper = y_test_upper[:split_index], y_test_upper[split_index:]\n",
        "y1_test_lower, y2_test_lower = y_test_lower[:split_index], y_test_lower[split_index:]\n"
      ],
      "metadata": {
        "id": "41vPAHUKq9tF"
      },
      "execution_count": 9,
      "outputs": []
    },
    {
      "cell_type": "code",
      "source": [
        "# Split train data into two complementary parts\n",
        "split_index = len(X_train) // 2\n",
        "X1_train, X2_train = X_train[:split_index], X_train[split_index:]\n",
        "y1_train_upper, y2_train_upper = y_train_upper[:split_index], y_train_upper[split_index:]\n",
        "y1_train_lower, y2_train_lower = y_train_lower[:split_index], y_train_lower[split_index:]\n"
      ],
      "metadata": {
        "id": "1jN1HcMsJNUG"
      },
      "execution_count": 10,
      "outputs": []
    },
    {
      "cell_type": "code",
      "source": [
        "print(X1_train.shape)\n",
        "print(X2_train.shape)\n",
        "print(y1_train_upper.shape)\n",
        "print(y1_train_lower.shape)\n",
        "print(y2_train_upper.shape)\n",
        "print(y2_train_lower.shape)\n",
        "print(y_train_lower.shape)\n",
        "print(y_train_upper.shape)\n",
        "print(X_train.shape)"
      ],
      "metadata": {
        "colab": {
          "base_uri": "https://localhost:8080/"
        },
        "id": "mn1B0rdOJ43b",
        "outputId": "3f8a20b3-cb8f-4a44-f082-634d24eee335"
      },
      "execution_count": null,
      "outputs": [
        {
          "output_type": "stream",
          "name": "stdout",
          "text": [
            "(283, 30, 1)\n",
            "(284, 30, 1)\n",
            "(283, 10)\n",
            "(283, 10)\n",
            "(284, 10)\n",
            "(284, 10)\n",
            "(567, 10)\n",
            "(567, 10)\n",
            "(567, 30, 1)\n"
          ]
        }
      ]
    },
    {
      "cell_type": "code",
      "source": [
        "print(X1_train)"
      ],
      "metadata": {
        "id": "Ik6TLMN5INPL"
      },
      "execution_count": null,
      "outputs": []
    },
    {
      "cell_type": "code",
      "source": [
        "np.isnan(X1_train).any()"
      ],
      "metadata": {
        "colab": {
          "base_uri": "https://localhost:8080/"
        },
        "id": "1UwqVh8Hy1Va",
        "outputId": "5d180b97-03cf-4c48-9ea7-59961e8250cf"
      },
      "execution_count": null,
      "outputs": [
        {
          "output_type": "execute_result",
          "data": {
            "text/plain": [
              "False"
            ]
          },
          "metadata": {},
          "execution_count": 19
        }
      ]
    },
    {
      "cell_type": "code",
      "source": [
        "np.isnan(X2_train).any()"
      ],
      "metadata": {
        "colab": {
          "base_uri": "https://localhost:8080/"
        },
        "id": "ih4RNaPEzLoA",
        "outputId": "acf47bb5-f62c-4443-a65f-dc058fb8edbc"
      },
      "execution_count": null,
      "outputs": [
        {
          "output_type": "execute_result",
          "data": {
            "text/plain": [
              "False"
            ]
          },
          "metadata": {},
          "execution_count": 20
        }
      ]
    },
    {
      "cell_type": "code",
      "source": [
        "np.isnan(y1_train_upper).any()"
      ],
      "metadata": {
        "colab": {
          "base_uri": "https://localhost:8080/"
        },
        "id": "YlK5kvcTzOxN",
        "outputId": "2f156cf1-aae4-4f13-ccf5-77709e0d2e60"
      },
      "execution_count": null,
      "outputs": [
        {
          "output_type": "execute_result",
          "data": {
            "text/plain": [
              "False"
            ]
          },
          "metadata": {},
          "execution_count": 20
        }
      ]
    },
    {
      "cell_type": "code",
      "source": [
        "np.isnan(y1_train_lower).any()"
      ],
      "metadata": {
        "colab": {
          "base_uri": "https://localhost:8080/"
        },
        "id": "2bPAUCNFzTbF",
        "outputId": "f97ff863-f56d-4bf4-ebe9-e83a814738bb"
      },
      "execution_count": null,
      "outputs": [
        {
          "output_type": "execute_result",
          "data": {
            "text/plain": [
              "False"
            ]
          },
          "metadata": {},
          "execution_count": 21
        }
      ]
    },
    {
      "cell_type": "code",
      "source": [
        "np.isnan(y2_train_upper).any()"
      ],
      "metadata": {
        "colab": {
          "base_uri": "https://localhost:8080/"
        },
        "id": "LNZH34GhzWZ2",
        "outputId": "3a381140-8f1e-41df-ad58-2a4c2e82c1fa"
      },
      "execution_count": null,
      "outputs": [
        {
          "output_type": "execute_result",
          "data": {
            "text/plain": [
              "False"
            ]
          },
          "metadata": {},
          "execution_count": 22
        }
      ]
    },
    {
      "cell_type": "code",
      "source": [
        "np.isnan(y2_train_lower).any()"
      ],
      "metadata": {
        "colab": {
          "base_uri": "https://localhost:8080/"
        },
        "id": "BWKyL86QzZGF",
        "outputId": "2fef2f8a-5b9f-4ed4-c945-6249859a710a"
      },
      "execution_count": null,
      "outputs": [
        {
          "output_type": "execute_result",
          "data": {
            "text/plain": [
              "False"
            ]
          },
          "metadata": {},
          "execution_count": 23
        }
      ]
    },
    {
      "cell_type": "code",
      "source": [
        "# Define the model\n",
        "model = Sequential([\n",
        "    LSTM(units=50, return_sequences=True, input_shape=(window_size, 1)),\n",
        "    Dropout(0.2),\n",
        "    LSTM(units=50, return_sequences=True),\n",
        "    Dropout(0.2),\n",
        "    LSTM(units=50),\n",
        "    Dropout(0.2),\n",
        "    Dense(units=forecast_horizon*2)\n",
        "])\n",
        "model.compile(optimizer='adam', loss='mse')\n"
      ],
      "metadata": {
        "id": "VuJ__nu8BefC"
      },
      "execution_count": 11,
      "outputs": []
    },
    {
      "cell_type": "code",
      "source": [
        "from tensorflow.keras.callbacks import EarlyStopping\n",
        "\n",
        "early_stop = EarlyStopping(monitor='loss', patience=5, mode='min', verbose=0)\n"
      ],
      "metadata": {
        "id": "1D8-p7Pppjjm"
      },
      "execution_count": 12,
      "outputs": []
    },
    {
      "cell_type": "code",
      "source": [
        "def fitness_function(params, X_train, y_train_lower, y_train_upper, X_val, y_val_lower, y_val_upper):\n",
        "  lr = max(1e-5, abs(params[0]))\n",
        "  batch_size = max(8, abs(int(params[1])))\n",
        "  epochs = max(1, abs(int(params[2])))\n",
        "  print(\"       Particle position is \", lr, \" \", batch_size, \" \", epochs, \" (lr, batch_size, epochs)\")\n",
        "  model.compile(optimizer=Adam(learning_rate=lr), loss='mse')\n",
        "  # Train the model\n",
        "  history = model.fit(X_train.reshape((X_train.shape[0], X_train.shape[1], 1)), np.column_stack((y_train_upper, y_train_lower)), epochs=epochs, batch_size=batch_size, callbacks = [early_stop], verbose = 0)\n",
        "  #return history.history['val_loss'][-1]\n",
        "  return model.evaluate(X_val.reshape((X_val.shape[0], X_val.shape[1], 1)), np.column_stack((y_val_upper, y_val_lower)), batch_size=batch_size, verbose = 0)"
      ],
      "metadata": {
        "id": "s6q6IZN3B4Ui"
      },
      "execution_count": 15,
      "outputs": []
    },
    {
      "cell_type": "code",
      "source": [
        "import random\n",
        "\n",
        "# Step 1:\n",
        "\n",
        "# Set the PSO parameters\n",
        "lb = [1e-5, 16, 20]  # Lower bounds for learning rate, batch size, and epochs\n",
        "ub = [1e-2, 32, 100]  # Upper bounds for learning rate, batch size, and epochs\n",
        "\n",
        "# Number of particles and iterations\n",
        "n_particles = 10\n",
        "n_iterations = 3\n",
        "n_dimensions = 3\n",
        "\n",
        "\n",
        "# Step 2: Initialize particle swarm\n",
        "class Particle:\n",
        "    def __init__(self):\n",
        "        self.position = np.random.uniform(low=lb, high=ub, size=(n_dimensions))\n",
        "        self.velocity = np.random.uniform(low=-1*(np.array(ub)-np.array(lb)), high=np.array(ub)-np.array(lb), size=(n_dimensions))\n",
        "        self.pbest_position = self.position.copy()\n",
        "        self.pbest_fitness = None\n",
        "        self.domination_count = 0\n",
        "        self.dominated_solutions = []\n",
        "        self.fitness = (0,0)\n",
        "\n",
        "swarm = [Particle() for _ in range(n_particles)]\n",
        "gbest_position = None\n",
        "gbest_fitness = None\n",
        "\n",
        "for p in swarm:\n",
        "  p.fitness = (10,10)\n",
        "\n",
        "# Step 3-6: Evaluate, update, and iterate\n",
        "for i in range(n_iterations):\n",
        "    print(\"Iteration number \", i+1, \" of \", n_iterations)\n",
        "    current_p = 1\n",
        "    for p in swarm:\n",
        "        print(\"     Particle number \", current_p, \" of \", n_particles)\n",
        "        current_p = current_p + 1\n",
        "        # Evaluate fitness\n",
        "        fitness1 = fitness_function(p.position, X1_train, y1_train_lower, y1_train_upper, X1_test, y1_test_lower, y1_test_upper)\n",
        "        fitness2 = fitness_function(p.position, X2_train, y2_train_lower, y2_train_upper, X2_test, y2_test_lower, y2_test_upper)\n",
        "        p.fitness = (fitness1, fitness2)\n",
        "\n",
        "        # Update personal best\n",
        "        if p.pbest_fitness is None or p.fitness < p.pbest_fitness:\n",
        "            p.pbest_position = p.position.copy()\n",
        "            p.pbest_fitness = p.fitness\n",
        "\n",
        "        # Update global best\n",
        "        if gbest_fitness is None or p.fitness < gbest_fitness:\n",
        "            gbest_position = p.position.copy()\n",
        "            gbest_fitness = p.fitness\n",
        "\n",
        "        \n",
        "        # Update velocity and position\n",
        "        for j in range(n_dimensions):\n",
        "            rp = random.uniform(0, 1)\n",
        "            rg = random.uniform(0, 1)\n",
        "            vel_cognitive = 2 * rp * (p.pbest_position[j] - p.position[j])\n",
        "            vel_social = 2 * rg * (gbest_position[j] - p.position[j])\n",
        "            p.velocity[j] = 0.5 * p.velocity[j] + vel_cognitive + vel_social\n",
        "            p.position[j] += p.velocity[j]\n",
        "    \n",
        "   # Calculate domination count and dominated solutions\n",
        "\n",
        "    for p in swarm:\n",
        "      p.domination_count = 0\n",
        "      p.dominated_solutions = []\n",
        "      for q in swarm:\n",
        "        if all(p.fitness[i] < q.fitness[i] for i in range(len(p.fitness))):\n",
        "          p.dominated_solutions.append(q)\n",
        "        elif all(q.fitness[i] < p.fitness[i] for i in range(len(q.fitness))):\n",
        "          p.domination_count += 1\n",
        "\n",
        "    # Step 7: Select non-dominated solutions\n",
        "    pareto_front = []\n",
        "    dominated_solutions = []\n",
        "    for p in swarm:\n",
        "        if p.domination_count == 0:\n",
        "            pareto_front.append(p)\n",
        "        else:\n",
        "           dominated_solutions.append(p)\n",
        "\n",
        "# Print Pareto front\n",
        "for p in pareto_front:\n",
        "    print(p.position, p.fitness)"
      ],
      "metadata": {
        "colab": {
          "base_uri": "https://localhost:8080/"
        },
        "id": "qsHWiAulrWsz",
        "outputId": "0cbe5d5e-2456-4382-e8af-fbd4e5c8717b"
      },
      "execution_count": 16,
      "outputs": [
        {
          "output_type": "stream",
          "name": "stdout",
          "text": [
            "Iteration number  1  of  3\n",
            "     Particle number  1  of  10\n",
            "       Particle position is  0.004664833102150252   31   66  (lr, batch_size, epochs)\n",
            "       Particle position is  0.004664833102150252   31   66  (lr, batch_size, epochs)\n",
            "     Particle number  2  of  10\n",
            "       Particle position is  0.004440097109510686   21   76  (lr, batch_size, epochs)\n",
            "       Particle position is  0.004440097109510686   21   76  (lr, batch_size, epochs)\n",
            "     Particle number  3  of  10\n",
            "       Particle position is  0.007274221362191294   23   53  (lr, batch_size, epochs)\n",
            "       Particle position is  0.007274221362191294   23   53  (lr, batch_size, epochs)\n",
            "     Particle number  4  of  10\n",
            "       Particle position is  0.0065014036410644275   31   91  (lr, batch_size, epochs)\n",
            "       Particle position is  0.0065014036410644275   31   91  (lr, batch_size, epochs)\n",
            "     Particle number  5  of  10\n",
            "       Particle position is  0.005788481908127461   17   39  (lr, batch_size, epochs)\n",
            "       Particle position is  0.005788481908127461   17   39  (lr, batch_size, epochs)\n",
            "     Particle number  6  of  10\n",
            "       Particle position is  0.009413189847770956   23   73  (lr, batch_size, epochs)\n",
            "       Particle position is  0.009413189847770956   23   73  (lr, batch_size, epochs)\n",
            "     Particle number  7  of  10\n",
            "       Particle position is  0.008206580785577927   20   87  (lr, batch_size, epochs)\n",
            "       Particle position is  0.008206580785577927   20   87  (lr, batch_size, epochs)\n",
            "     Particle number  8  of  10\n",
            "       Particle position is  0.00038472316861032466   28   99  (lr, batch_size, epochs)\n",
            "       Particle position is  0.00038472316861032466   28   99  (lr, batch_size, epochs)\n",
            "     Particle number  9  of  10\n",
            "       Particle position is  0.003134801509381525   19   73  (lr, batch_size, epochs)\n",
            "       Particle position is  0.003134801509381525   19   73  (lr, batch_size, epochs)\n",
            "     Particle number  10  of  10\n",
            "       Particle position is  0.008509387456693848   26   53  (lr, batch_size, epochs)\n",
            "       Particle position is  0.008509387456693848   26   53  (lr, batch_size, epochs)\n",
            "Iteration number  2  of  3\n",
            "     Particle number  1  of  10\n",
            "       Particle position is  0.0016086742261018547   32   95  (lr, batch_size, epochs)\n",
            "       Particle position is  0.0016086742261018547   32   95  (lr, batch_size, epochs)\n",
            "     Particle number  2  of  10\n",
            "       Particle position is  0.00555111538789363   27   101  (lr, batch_size, epochs)\n",
            "       Particle position is  0.00555111538789363   27   101  (lr, batch_size, epochs)\n",
            "     Particle number  3  of  10\n",
            "       Particle position is  0.0009341220501581423   24   35  (lr, batch_size, epochs)\n",
            "       Particle position is  0.0009341220501581423   24   35  (lr, batch_size, epochs)\n",
            "     Particle number  4  of  10\n",
            "       Particle position is  0.010523422898263931   23   53  (lr, batch_size, epochs)\n",
            "       Particle position is  0.010523422898263931   23   53  (lr, batch_size, epochs)\n",
            "     Particle number  5  of  10\n",
            "       Particle position is  0.0052528368345134855   31   95  (lr, batch_size, epochs)\n",
            "       Particle position is  0.0052528368345134855   31   95  (lr, batch_size, epochs)\n",
            "     Particle number  6  of  10\n",
            "       Particle position is  0.003964192388823536   32   82  (lr, batch_size, epochs)\n",
            "       Particle position is  0.003964192388823536   32   82  (lr, batch_size, epochs)\n",
            "     Particle number  7  of  10\n",
            "       Particle position is  0.008666398640942064   28   61  (lr, batch_size, epochs)\n",
            "       Particle position is  0.008666398640942064   28   61  (lr, batch_size, epochs)\n",
            "     Particle number  8  of  10\n",
            "       Particle position is  0.0022851088634496895   26   110  (lr, batch_size, epochs)\n",
            "       Particle position is  0.0022851088634496895   26   110  (lr, batch_size, epochs)\n",
            "     Particle number  9  of  10\n",
            "       Particle position is  0.006233551351099077   31   52  (lr, batch_size, epochs)\n",
            "       Particle position is  0.006233551351099077   31   52  (lr, batch_size, epochs)\n",
            "     Particle number  10  of  10\n",
            "       Particle position is  0.011571363065242488   31   145  (lr, batch_size, epochs)\n",
            "       Particle position is  0.011571363065242488   31   145  (lr, batch_size, epochs)\n",
            "Iteration number  3  of  3\n",
            "     Particle number  1  of  10\n",
            "       Particle position is  0.0003598825522932703   33   110  (lr, batch_size, epochs)\n",
            "       Particle position is  0.0003598825522932703   33   110  (lr, batch_size, epochs)\n",
            "     Particle number  2  of  10\n",
            "       Particle position is  0.0010946937108622474   30   112  (lr, batch_size, epochs)\n",
            "       Particle position is  0.0010946937108622474   30   112  (lr, batch_size, epochs)\n",
            "     Particle number  3  of  10\n",
            "       Particle position is  0.0029254604200373378   26   94  (lr, batch_size, epochs)\n",
            "       Particle position is  0.0029254604200373378   26   94  (lr, batch_size, epochs)\n",
            "     Particle number  4  of  10\n",
            "       Particle position is  0.0115883385950458   23   130  (lr, batch_size, epochs)\n",
            "       Particle position is  0.0115883385950458   23   130  (lr, batch_size, epochs)\n",
            "     Particle number  5  of  10\n",
            "       Particle position is  0.002811347648959077   34   125  (lr, batch_size, epochs)\n",
            "       Particle position is  0.002811347648959077   34   125  (lr, batch_size, epochs)\n",
            "     Particle number  6  of  10\n",
            "       Particle position is  0.003924540399128479   37   115  (lr, batch_size, epochs)\n",
            "       Particle position is  0.003924540399128479   37   115  (lr, batch_size, epochs)\n",
            "     Particle number  7  of  10\n",
            "       Particle position is  0.003534660709852565   33   86  (lr, batch_size, epochs)\n",
            "       Particle position is  0.003534660709852565   33   86  (lr, batch_size, epochs)\n",
            "     Particle number  8  of  10\n",
            "       Particle position is  0.0012615354573943967   29   99  (lr, batch_size, epochs)\n",
            "       Particle position is  0.0012615354573943967   29   99  (lr, batch_size, epochs)\n",
            "     Particle number  9  of  10\n",
            "       Particle position is  0.00012065855327656177   34   71  (lr, batch_size, epochs)\n",
            "       Particle position is  0.00012065855327656177   34   71  (lr, batch_size, epochs)\n",
            "     Particle number  10  of  10\n",
            "       Particle position is  0.008259844453816449   28   73  (lr, batch_size, epochs)\n",
            "       Particle position is  0.008259844453816449   28   73  (lr, batch_size, epochs)\n",
            "[-1.34416094e-03  3.33406478e+01  1.17390515e+02] (0.04312245175242424, 0.2924080193042755)\n",
            "[-3.51563100e-03  3.28334688e+01  1.17519912e+02] (0.05601954087615013, 0.2715645134449005)\n",
            "[2.65861674e-03 3.27404384e+01 9.48108227e+01] (0.12247899919748306, 0.18704532086849213)\n",
            "[8.84356276e-04 3.12248020e+01 1.34318353e+02] (0.07226087898015976, 0.18822437524795532)\n",
            "[1.68456748e-03 3.07907440e+01 8.59789813e+01] (0.29786133766174316, 0.13298413157463074)\n"
          ]
        }
      ]
    },
    {
      "cell_type": "code",
      "source": [
        "pareto_front_fitness = []\n",
        "dominated_solutions_fitness = []\n",
        "\n",
        "for p in pareto_front:\n",
        "    pareto_front_fitness.append(p.fitness)\n",
        "\n",
        "for q in dominated_solutions:\n",
        "    dominated_solutions_fitness.append(q.fitness)\n",
        "\n",
        "print(pareto_front_fitness)\n",
        "print(dominated_solutions_fitness)"
      ],
      "metadata": {
        "colab": {
          "base_uri": "https://localhost:8080/"
        },
        "id": "bDxSmNt03tWy",
        "outputId": "24e59245-8a55-4283-a4ea-204a66b30578"
      },
      "execution_count": 17,
      "outputs": [
        {
          "output_type": "stream",
          "name": "stdout",
          "text": [
            "[(0.04312245175242424, 0.2924080193042755), (0.05601954087615013, 0.2715645134449005), (0.12247899919748306, 0.18704532086849213), (0.07226087898015976, 0.18822437524795532), (0.29786133766174316, 0.13298413157463074)]\n",
            "[(0.12556302547454834, 0.21195344626903534), (0.16191129386425018, 0.5464283227920532), (0.25265762209892273, 0.26227065920829773), (0.35776829719543457, 0.2594144940376282), (0.200753852725029, 0.27669715881347656)]\n"
          ]
        }
      ]
    },
    {
      "cell_type": "code",
      "source": [
        "# sort the pareto front by x-coordinate\n",
        "pareto_front_fitness.sort(key=lambda p: p[0])\n",
        "\n",
        "# extract the sorted x and y coordinates from the tuples\n",
        "x = [p[0] for p in pareto_front_fitness]\n",
        "y = [p[1] for p in pareto_front_fitness]\n",
        "\n",
        "# extract the sorted x and y coordinates from the tuples of dominated solutions\n",
        "x_dom = [p[0] for p in dominated_solutions_fitness]\n",
        "y_dom = [p[1] for p in dominated_solutions_fitness]\n",
        "\n",
        "# create a line plot with dots at each point on the x and y coordinates\n",
        "plt.plot(x, y, 'o-', color='blue')\n",
        "plt.plot(x_dom, y_dom, 'o', color='red', linestyle='None')\n",
        "\n",
        "# set the labels for the x and y axes\n",
        "plt.xlabel('CWC1')\n",
        "plt.ylabel('CWC2')\n",
        "\n",
        "# show the plot\n",
        "plt.show()"
      ],
      "metadata": {
        "colab": {
          "base_uri": "https://localhost:8080/",
          "height": 449
        },
        "id": "QcwaikUj4acT",
        "outputId": "16f359b7-6eb6-41e5-99c9-e653bebfe8c0"
      },
      "execution_count": 18,
      "outputs": [
        {
          "output_type": "display_data",
          "data": {
            "text/plain": [
              "<Figure size 640x480 with 1 Axes>"
            ],
            "image/png": "[encoded data removed]"
          },
          "metadata": {}
        }
      ]
    },
    {
      "cell_type": "code",
      "source": [
        "#compile the model for the chosen Pareto point\n",
        "  \n",
        "params = pareto_front[2].position\n",
        "\n",
        "lr = abs(params[0])\n",
        "batch_size = abs(int(params[1]))\n",
        "epochs = abs(int(params[2]))\n",
        "\n",
        "model.compile(optimizer=Adam(learning_rate=lr), loss='mse')\n",
        "# Train the model\n",
        "history = model.fit(X_train.reshape((X_train.shape[0], X_train.shape[1], 1)), np.column_stack((y_train_upper, y_train_lower)), epochs=epochs, batch_size=batch_size, callbacks = [early_stop], verbose = 1)"
      ],
      "metadata": {
        "colab": {
          "base_uri": "https://localhost:8080/"
        },
        "id": "WL3jyl6ShJ72",
        "outputId": "fc6a099e-025a-47fe-f6ab-8fd9237a83aa"
      },
      "execution_count": 23,
      "outputs": [
        {
          "output_type": "stream",
          "name": "stdout",
          "text": [
            "Epoch 1/94\n",
            "18/18 [==============================] - 8s 51ms/step - loss: 0.0020\n",
            "Epoch 2/94\n",
            "18/18 [==============================] - 1s 52ms/step - loss: 0.0011\n",
            "Epoch 3/94\n",
            "18/18 [==============================] - 1s 52ms/step - loss: 9.1875e-04\n",
            "Epoch 4/94\n",
            "18/18 [==============================] - 1s 49ms/step - loss: 8.2027e-04\n",
            "Epoch 5/94\n",
            "18/18 [==============================] - 1s 50ms/step - loss: 8.3705e-04\n",
            "Epoch 6/94\n",
            "18/18 [==============================] - 1s 52ms/step - loss: 8.8267e-04\n",
            "Epoch 7/94\n",
            "18/18 [==============================] - 1s 51ms/step - loss: 8.0116e-04\n",
            "Epoch 8/94\n",
            "18/18 [==============================] - 1s 58ms/step - loss: 8.2739e-04\n",
            "Epoch 9/94\n",
            "18/18 [==============================] - 2s 87ms/step - loss: 8.2439e-04\n",
            "Epoch 10/94\n",
            "18/18 [==============================] - 1s 78ms/step - loss: 9.1959e-04\n",
            "Epoch 11/94\n",
            "18/18 [==============================] - 1s 50ms/step - loss: 8.1854e-04\n",
            "Epoch 12/94\n",
            "18/18 [==============================] - 1s 54ms/step - loss: 8.8743e-04\n"
          ]
        }
      ]
    },
    {
      "cell_type": "code",
      "source": [
        "# Assuming you have already trained the model and have X_test and y_test data, and a scaler object named \"scaler\"\n",
        "y_pred = model.predict(X_test.reshape((X_test.shape[0], X_test.shape[1], 1)))\n",
        "# The output will be a numpy array with shape (num_samples, 2)\n",
        "# where the first column contains upper bound predictions and the second column contains lower bound predictions\n",
        "\n",
        "# Inverse transform the predicted values and actual values\n",
        "y_pred_actual = scaler.inverse_transform(y_pred)\n",
        "y_test_actual = scaler.inverse_transform(np.column_stack((y_test_upper, y_test_lower)))\n",
        "\n",
        "# You can then use these actual values for further analysis or evaluation of the model's performance"
      ],
      "metadata": {
        "id": "r8nSt7LN4pTd",
        "colab": {
          "base_uri": "https://localhost:8080/"
        },
        "outputId": "bc825af4-9ff6-407e-f4a2-74a7ed5bc7ce"
      },
      "execution_count": 26,
      "outputs": [
        {
          "output_type": "stream",
          "name": "stdout",
          "text": [
            "5/5 [==============================] - 0s 16ms/step\n"
          ]
        }
      ]
    },
    {
      "cell_type": "code",
      "source": [
        "# Plot predicted vs actual intervals with filling between lower and upper bounds\n",
        "\n",
        "plt.figure(figsize=(10, 5))\n",
        "plt.plot(y_pred_actual[:, 0], label='Predicted Upper Bound')\n",
        "plt.plot(y_pred_actual[:, 1], label='Predicted Lower Bound')\n",
        "plt.plot(y_test_actual[:, 0], label='Actual Upper Bound')\n",
        "plt.plot(y_test_actual[:, 1], label='Actual Lower Bound')\n",
        "plt.fill_between(range(len(y_test_actual)), y_pred_actual[:, 0], y_pred_actual[:, 1], alpha=0.2)\n",
        "plt.legend()\n",
        "plt.show()\n"
      ],
      "metadata": {
        "colab": {
          "base_uri": "https://localhost:8080/",
          "height": 445
        },
        "id": "-nHw9npjlYM_",
        "outputId": "23f16501-d617-41bf-8998-d5427fb9e061"
      },
      "execution_count": 34,
      "outputs": [
        {
          "output_type": "display_data",
          "data": {
            "text/plain": [
              "<Figure size 1000x500 with 1 Axes>"
            ],
            "image/png": "[encoded data removed]"
          },
          "metadata": {}
        }
      ]
    },
    {
      "cell_type": "code",
      "source": [
        "np.mean(y_test)"
      ],
      "metadata": {
        "id": "2SKAE6DLveFx"
      },
      "execution_count": null,
      "outputs": []
    },
    {
      "cell_type": "code",
      "source": [
        "np.std(y_test)"
      ],
      "metadata": {
        "id": "sp3CML-AvjUy"
      },
      "execution_count": null,
      "outputs": []
    },
    {
      "cell_type": "code",
      "source": [
        "# Create the training data using the sliding window approach for all the data available\n",
        "train_scaled = scaler.fit_transform(df['<CLOSE>'].values.reshape(-1, 1))\n",
        "\n",
        "X_train = []\n",
        "y_train = []\n",
        "for i in range(window_size, len(train_scaled)):\n",
        "    X_train.append(train_scaled[i-window_size:i, 0])\n",
        "    y_train.append(train_scaled[i, 0])\n",
        "X_train, y_train = np.array(X_train), np.array(y_train)\n"
      ],
      "metadata": {
        "id": "rHtMpZrXZERB"
      },
      "execution_count": null,
      "outputs": []
    },
    {
      "cell_type": "code",
      "source": [
        "model.fit(X_train, y_train, epochs=100, batch_size=32, callbacks=[early_stop])"
      ],
      "metadata": {
        "id": "A3Yhigxx_pZO"
      },
      "execution_count": null,
      "outputs": []
    },
    {
      "cell_type": "code",
      "source": [
        "last_window_forecast = scaler.inverse_transform(model.predict(X_test[-window_size].reshape(-1,1)))"
      ],
      "metadata": {
        "id": "MATTKmGa9Bux"
      },
      "execution_count": null,
      "outputs": []
    },
    {
      "cell_type": "code",
      "source": [
        "plt.plot(last_window_forecast[1])"
      ],
      "metadata": {
        "id": "sWIDmlVs-Bss"
      },
      "execution_count": null,
      "outputs": []
    },
    {
      "cell_type": "code",
      "source": [
        "import datetime\n",
        "import matplotlib.pyplot as plt\n",
        "import matplotlib.dates as mdates\n",
        "\n",
        "start_date = test['<DATE>'].iloc[-1].date()\n",
        "N = 10 # replace with the number of dates you want to generate\n",
        "\n",
        "dates = []\n",
        "for i in range(N):\n",
        "    date = start_date + datetime.timedelta(days=i)\n",
        "    day = date.weekday()\n",
        "    if day < 5: # Add only weekdays\n",
        "        dates.append(date)\n",
        "\n",
        "fig, ax = plt.subplots(figsize=(10, 6))\n",
        "ax.fill_between(dates, last_window_forecast[1,:len(dates)], last_window_forecast[0, :len(dates)], alpha=1, label='LB-UB Interval Forecast')\n",
        "# filter out weekends from dates list\n",
        "weekdays = [date for date in dates if date.weekday() < 5]\n",
        "weekdays_fmt = mdates.DateFormatter('%Y-%m-%d')\n",
        "ax.xaxis.set_major_formatter(weekdays_fmt)\n",
        "ax.set_xticks(weekdays)\n",
        "\n",
        "# rotate the x-axis tick labels\n",
        "plt.xticks(rotation=90)\n",
        "ax.legend()\n",
        "plt.show()\n"
      ],
      "metadata": {
        "id": "kSKQ4P8Q5nYr"
      },
      "execution_count": null,
      "outputs": []
    }
  ]
}