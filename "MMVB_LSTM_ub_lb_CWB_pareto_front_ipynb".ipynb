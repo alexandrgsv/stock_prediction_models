{
  "nbformat": 4,
  "nbformat_minor": 0,
  "metadata": {
    "colab": {
      "provenance": [],
      "authorship_tag": "ABX9TyOSn4c/fqJEQ2IABf2cE+MG",
      "include_colab_link": true
    },
    "kernelspec": {
      "name": "python3",
      "display_name": "Python 3"
    },
    "language_info": {
      "name": "python"
    }
  },
  "cells": [
    {
      "cell_type": "markdown",
      "metadata": {
        "id": "view-in-github",
        "colab_type": "text"
      },
      "source": [
        "<a href=\"https://colab.research.google.com/github/alexandrgsv/stock_prediction_models/blob/main/%22MMVB_LSTM_ub_lb_CWB_pareto_front_ipynb%22.ipynb\" target=\"_parent\"><img src=\"https://colab.research.google.com/assets/colab-badge.svg\" alt=\"Open In Colab\"/></a>"
      ]
    },
    {
      "cell_type": "code",
      "execution_count": 1,
      "metadata": {
        "id": "JXtLurca38We"
      },
      "outputs": [],
      "source": [
        "import pandas as pd\n",
        "import numpy as np\n",
        "import matplotlib.pyplot as plt\n",
        "from sklearn.preprocessing import MinMaxScaler\n",
        "from tensorflow.keras.models import Sequential\n",
        "from tensorflow.keras.layers import Dense, LSTM, Dropout\n",
        "from tensorflow.keras.optimizers import Adam\n",
        "from tensorflow.keras import backend as K\n"
      ]
    },
    {
      "cell_type": "code",
      "source": [
        "# Load the data\n",
        "#data = pd.read_csv('https://drive.google.com/uc?id=18RjIb6w6OXLPeKYJ-UJKUNtmY71RpP5D', header=0, usecols=['<DATE>', '<CLOSE>'], date_parser=True)\n",
        "data = pd.read_csv('https://drive.google.com/uc?id=18RjIb6w6OXLPeKYJ-UJKUNtmY71RpP5D',\n",
        "                   header=0, \n",
        "                   usecols=['<DATE>', '<CLOSE>'], \n",
        "                   parse_dates=['<DATE>'], \n",
        "                   date_parser=lambda x: pd.to_datetime(x, format='%d/%m/%y'))\n",
        "\n",
        "df = data[['<DATE>', '<CLOSE>']].copy()"
      ],
      "metadata": {
        "id": "xb9swMtr4Bpf"
      },
      "execution_count": 2,
      "outputs": []
    },
    {
      "cell_type": "code",
      "source": [
        "df = df.sort_values('<DATE>')\n",
        "df = df.reset_index(drop=True)\n",
        "#df = df.set_index('<DATE>').sort_index()\n",
        "\n"
      ],
      "metadata": {
        "id": "vJqjdTOL4INF"
      },
      "execution_count": 3,
      "outputs": []
    },
    {
      "cell_type": "code",
      "source": [
        "import tensorflow.keras.backend as K\n",
        "\n",
        "def cwbc_loss(y_true, y_pred, alpha=0.05):\n",
        "    \"\"\"\n",
        "    Computes the Coverage Width-Based Criterion (CWBC) as a combination of the\n",
        "    Prediction Interval Normalized Root-mean-square Width (PINRW) and the\n",
        "    Prediction Interval Coverage Probability (PICP).\n",
        "\n",
        "    Parameters:\n",
        "        - y_true: tensor of shape (batch_size, seq_len, 1) containing the true values\n",
        "        - y_pred: tensor of shape (batch_size, seq_len, 2) containing the predicted intervals\n",
        "        - alpha: float, significance level for the prediction intervals (default: 0.05)\n",
        "\n",
        "    Returns:\n",
        "        - cwbc: tensor of shape (batch_size,) representing the CWBC loss\n",
        "    \"\"\"\n",
        "    print(y_pred)\n",
        "    print(y_true)\n",
        "    y_lower = y_pred[:, :, 0]\n",
        "    y_upper = y_pred[:, :, 1]\n",
        "    y_true = K.squeeze(y_true, axis=-1)\n",
        "    y_range = K.max(y_true, axis=1) - K.min(y_true, axis=1)\n",
        "    interval_widths = y_upper - y_lower\n",
        "    avg_widths = K.mean(interval_widths, axis=1)\n",
        "    pinrw = K.sqrt(K.mean(K.square(interval_widths), axis=1)) / y_range\n",
        "    picp = K.mean(K.cast(K.all(K.stack([y_true >= y_lower, y_true <= y_upper], axis=-1), axis=-1), dtype='float32'), axis=1)\n",
        "    cwbc = pinrw + alpha * K.maximum(0.0, 1.0 - picp)\n",
        "    return cwbc\n"
      ],
      "metadata": {
        "id": "_4Gd8_GqgPQe"
      },
      "execution_count": 4,
      "outputs": []
    },
    {
      "cell_type": "code",
      "source": [
        "# Split the data into training and test sets\n",
        "train_size = int(len(df) * 0.8)\n",
        "train = df[:train_size]\n",
        "#test = df[train_size-window_size:]\n",
        "test = df[train_size:]"
      ],
      "metadata": {
        "id": "tpiTHakmRahB"
      },
      "execution_count": 5,
      "outputs": []
    },
    {
      "cell_type": "code",
      "source": [
        "# Scale the data\n",
        "scaler = MinMaxScaler()\n",
        "train_scaled = scaler.fit_transform(train['<CLOSE>'].values.reshape(-1, 1))\n",
        "test_scaled = scaler.transform(test['<CLOSE>'].values.reshape(-1, 1))\n"
      ],
      "metadata": {
        "id": "U7fTkLxURb62"
      },
      "execution_count": 6,
      "outputs": []
    },
    {
      "cell_type": "code",
      "source": [
        "import tensorflow_probability as tfp\n",
        "\n",
        "def coverage_loss(y_true, y_pred, width):\n",
        "    q = (1 - width) / 2\n",
        "    e = y_true - y_pred\n",
        "    coverage = K.cast(K.abs(e) < tfp.stats.percentile(K.abs(e), q + width * 100), dtype='float32')\n",
        "    coverage_error = K.mean((1 - coverage) * K.abs(e))\n",
        "    prediction_error = K.mean(coverage * K.abs(e))\n",
        "    return coverage_error + prediction_error\n"
      ],
      "metadata": {
        "id": "_widdlve2PMh"
      },
      "execution_count": 7,
      "outputs": []
    },
    {
      "cell_type": "code",
      "source": [
        "# Define sliding window size and stride length\n",
        "window_size = 30\n",
        "stride_length = 7\n",
        "\n",
        "# Function to generate sliding windows for both training and test sets\n",
        "def generate_sliding_windows(data, window_size, stride_length):\n",
        "    X = []\n",
        "    y_upper = []\n",
        "    y_lower = []\n",
        "    for i in range(0, len(data) - window_size + 1, stride_length):\n",
        "        window = data[i:i+window_size]\n",
        "        upper_bound = window.mean() + window.std()\n",
        "        lower_bound = window.mean() - window.std()\n",
        "        X.append(window)\n",
        "        y_upper.append(upper_bound)\n",
        "        y_lower.append(lower_bound)\n",
        "    return np.array(X), np.array(y_upper), np.array(y_lower)\n",
        "    \n",
        "# Generate sliding windows for both training and test sets\n",
        "X_train, y_train_upper, y_train_lower = generate_sliding_windows(train_scaled, window_size, stride_length)\n",
        "X_test, y_test_upper, y_test_lower = generate_sliding_windows(test_scaled, window_size, stride_length)\n"
      ],
      "metadata": {
        "id": "1ZmDIwwg-suE"
      },
      "execution_count": 8,
      "outputs": []
    },
    {
      "cell_type": "code",
      "source": [
        "# Split training data into two complementary parts\n",
        "from sklearn.model_selection import train_test_split\n",
        "X1_train, X2_train, y1_train_upper, y2_train_upper = train_test_split(X_train, y_train_upper, test_size=0.5)\n",
        "X1_train, X2_train, y1_train_lower, y2_train_lower = train_test_split(X_train, y_train_lower, test_size=0.5)"
      ],
      "metadata": {
        "id": "41vPAHUKq9tF"
      },
      "execution_count": 9,
      "outputs": []
    },
    {
      "cell_type": "code",
      "source": [
        "np.isnan(X1_train).any()"
      ],
      "metadata": {
        "colab": {
          "base_uri": "https://localhost:8080/"
        },
        "id": "1UwqVh8Hy1Va",
        "outputId": "5d180b97-03cf-4c48-9ea7-59961e8250cf"
      },
      "execution_count": 19,
      "outputs": [
        {
          "output_type": "execute_result",
          "data": {
            "text/plain": [
              "False"
            ]
          },
          "metadata": {},
          "execution_count": 19
        }
      ]
    },
    {
      "cell_type": "code",
      "source": [
        "np.isnan(X2_train).any()"
      ],
      "metadata": {
        "colab": {
          "base_uri": "https://localhost:8080/"
        },
        "id": "ih4RNaPEzLoA",
        "outputId": "acf47bb5-f62c-4443-a65f-dc058fb8edbc"
      },
      "execution_count": 20,
      "outputs": [
        {
          "output_type": "execute_result",
          "data": {
            "text/plain": [
              "False"
            ]
          },
          "metadata": {},
          "execution_count": 20
        }
      ]
    },
    {
      "cell_type": "code",
      "source": [
        "np.isnan(y1_train_upper).any()"
      ],
      "metadata": {
        "colab": {
          "base_uri": "https://localhost:8080/"
        },
        "id": "YlK5kvcTzOxN",
        "outputId": "2f156cf1-aae4-4f13-ccf5-77709e0d2e60"
      },
      "execution_count": null,
      "outputs": [
        {
          "output_type": "execute_result",
          "data": {
            "text/plain": [
              "False"
            ]
          },
          "metadata": {},
          "execution_count": 20
        }
      ]
    },
    {
      "cell_type": "code",
      "source": [
        "np.isnan(y1_train_lower).any()"
      ],
      "metadata": {
        "colab": {
          "base_uri": "https://localhost:8080/"
        },
        "id": "2bPAUCNFzTbF",
        "outputId": "f97ff863-f56d-4bf4-ebe9-e83a814738bb"
      },
      "execution_count": null,
      "outputs": [
        {
          "output_type": "execute_result",
          "data": {
            "text/plain": [
              "False"
            ]
          },
          "metadata": {},
          "execution_count": 21
        }
      ]
    },
    {
      "cell_type": "code",
      "source": [
        "np.isnan(y2_train_upper).any()"
      ],
      "metadata": {
        "colab": {
          "base_uri": "https://localhost:8080/"
        },
        "id": "LNZH34GhzWZ2",
        "outputId": "3a381140-8f1e-41df-ad58-2a4c2e82c1fa"
      },
      "execution_count": null,
      "outputs": [
        {
          "output_type": "execute_result",
          "data": {
            "text/plain": [
              "False"
            ]
          },
          "metadata": {},
          "execution_count": 22
        }
      ]
    },
    {
      "cell_type": "code",
      "source": [
        "np.isnan(y2_train_lower).any()"
      ],
      "metadata": {
        "colab": {
          "base_uri": "https://localhost:8080/"
        },
        "id": "BWKyL86QzZGF",
        "outputId": "2fef2f8a-5b9f-4ed4-c945-6249859a710a"
      },
      "execution_count": null,
      "outputs": [
        {
          "output_type": "execute_result",
          "data": {
            "text/plain": [
              "False"
            ]
          },
          "metadata": {},
          "execution_count": 23
        }
      ]
    },
    {
      "cell_type": "code",
      "source": [
        "# define LSTM model\n",
        "model = Sequential()\n",
        "model.add(LSTM(50, input_shape=(window_size, 1)))\n",
        "model.add(Dense(2))\n",
        "model.compile(loss='mse', optimizer='adam')\n"
      ],
      "metadata": {
        "id": "VuJ__nu8BefC"
      },
      "execution_count": 10,
      "outputs": []
    },
    {
      "cell_type": "code",
      "source": [
        "from tensorflow.keras.callbacks import EarlyStopping\n",
        "\n",
        "early_stop = EarlyStopping(monitor='loss', patience=5, mode='min', verbose=0)\n"
      ],
      "metadata": {
        "id": "1D8-p7Pppjjm"
      },
      "execution_count": 11,
      "outputs": []
    },
    {
      "cell_type": "code",
      "source": [
        "def fitness_function(params, X_train, y_train_lower, y_train_upper, X_val, y_val_lower, y_val_upper):\n",
        "  lr = max(1e-5, abs(params[0]))\n",
        "  batch_size = max(8, abs(int(params[1])))\n",
        "  epochs = max(1, abs(int(params[2])))\n",
        "  print(\"       Particle position is \", lr, \" \", batch_size, \" \", epochs, \" (lr, batch_size, epochs)\")\n",
        "  model.compile(optimizer=Adam(learning_rate=lr), loss='mse')\n",
        "  # Train the model\n",
        "  history = model.fit(X_train.reshape((X_train.shape[0], X_train.shape[1], 1)), np.column_stack((y_train_upper, y_train_lower)), epochs=epochs, batch_size=batch_size, callbacks = [early_stop], verbose = 0)\n",
        "  #return history.history['val_loss'][-1]\n",
        "  return model.evaluate(X_val.reshape((X_val.shape[0], X_val.shape[1], 1)), np.column_stack((y_val_upper, y_val_lower)), batch_size=batch_size, verbose = 0)"
      ],
      "metadata": {
        "id": "s6q6IZN3B4Ui"
      },
      "execution_count": 12,
      "outputs": []
    },
    {
      "cell_type": "code",
      "source": [
        "import random\n",
        "\n",
        "# Step 1:\n",
        "\n",
        "# Set the PSO parameters\n",
        "lb = [1e-5, 16, 20]  # Lower bounds for learning rate, batch size, and epochs\n",
        "ub = [1e-2, 32, 100]  # Upper bounds for learning rate, batch size, and epochs\n",
        "\n",
        "# Number of particles and iterations\n",
        "n_particles = 20\n",
        "n_iterations = 6\n",
        "n_dimensions = 3\n",
        "\n",
        "\n",
        "# Step 2: Initialize particle swarm\n",
        "class Particle:\n",
        "    def __init__(self):\n",
        "        self.position = np.random.uniform(low=lb, high=ub, size=(n_dimensions))\n",
        "        self.velocity = np.random.uniform(low=-1*(np.array(ub)-np.array(lb)), high=np.array(ub)-np.array(lb), size=(n_dimensions))\n",
        "        self.pbest_position = self.position.copy()\n",
        "        self.pbest_fitness = None\n",
        "        self.domination_count = 0\n",
        "        self.dominated_solutions = []\n",
        "        self.fitness = (0,0)\n",
        "\n",
        "swarm = [Particle() for _ in range(n_particles)]\n",
        "gbest_position = None\n",
        "gbest_fitness = None\n",
        "\n",
        "for p in swarm:\n",
        "  p.fitness = (10,10)\n",
        "\n",
        "# Step 3-6: Evaluate, update, and iterate\n",
        "for i in range(n_iterations):\n",
        "    print(\"Iteration number \", i+1, \" of \", n_iterations)\n",
        "    current_p = 1\n",
        "    for p in swarm:\n",
        "        print(\"     Particle number \", current_p, \" of \", n_particles)\n",
        "        current_p = current_p + 1\n",
        "        # Evaluate fitness\n",
        "        fitness1 = fitness_function(p.position, X1_train, y1_train_lower, y1_train_upper, X_test, y_test_lower, y_test_upper)\n",
        "        fitness2 = fitness_function(p.position, X2_train, y2_train_lower, y2_train_upper, X_test, y_test_lower, y_test_upper)\n",
        "        p.fitness = (fitness1, fitness2)\n",
        "\n",
        "        # Update personal best\n",
        "        if p.pbest_fitness is None or p.fitness < p.pbest_fitness:\n",
        "            p.pbest_position = p.position.copy()\n",
        "            p.pbest_fitness = p.fitness\n",
        "\n",
        "        # Update global best\n",
        "        if gbest_fitness is None or p.fitness < gbest_fitness:\n",
        "            gbest_position = p.position.copy()\n",
        "            gbest_fitness = p.fitness\n",
        "\n",
        "        \n",
        "        # Update velocity and position\n",
        "        for j in range(n_dimensions):\n",
        "            rp = random.uniform(0, 1)\n",
        "            rg = random.uniform(0, 1)\n",
        "            vel_cognitive = 2 * rp * (p.pbest_position[j] - p.position[j])\n",
        "            vel_social = 2 * rg * (gbest_position[j] - p.position[j])\n",
        "            p.velocity[j] = 0.5 * p.velocity[j] + vel_cognitive + vel_social\n",
        "            p.position[j] += p.velocity[j]\n",
        "    \n",
        "   # Calculate domination count and dominated solutions\n",
        "\n",
        "    for p in swarm:\n",
        "      p.domination_count = 0\n",
        "      p.dominated_solutions = []\n",
        "      for q in swarm:\n",
        "        if all(p.fitness[i] < q.fitness[i] for i in range(len(p.fitness))):\n",
        "          p.dominated_solutions.append(q)\n",
        "        elif all(q.fitness[i] < p.fitness[i] for i in range(len(q.fitness))):\n",
        "          p.domination_count += 1\n",
        "\n",
        "    # Step 7: Select non-dominated solutions\n",
        "    pareto_front = []\n",
        "    dominated_solutions = []\n",
        "    for p in swarm:\n",
        "        if p.domination_count == 0:\n",
        "            pareto_front.append(p)\n",
        "        else:\n",
        "           dominated_solutions.append(p)\n",
        "\n",
        "# Print Pareto front\n",
        "for p in pareto_front:\n",
        "    print(p.position, p.fitness)"
      ],
      "metadata": {
        "colab": {
          "base_uri": "https://localhost:8080/"
        },
        "id": "qsHWiAulrWsz",
        "outputId": "ddcfc2c1-0f0b-4202-d12b-b3438cbe054f"
      },
      "execution_count": 13,
      "outputs": [
        {
          "output_type": "stream",
          "name": "stdout",
          "text": [
            "Iteration number  1  of  6\n",
            "     Particle number  1  of  20\n",
            "       Particle position is  0.008947086491975233   19   97  (lr, batch_size, epochs)\n",
            "       Particle position is  0.008947086491975233   19   97  (lr, batch_size, epochs)\n",
            "     Particle number  2  of  20\n",
            "       Particle position is  0.004518707391258168   26   50  (lr, batch_size, epochs)\n",
            "       Particle position is  0.004518707391258168   26   50  (lr, batch_size, epochs)\n",
            "     Particle number  3  of  20\n",
            "       Particle position is  0.0037700292247643146   26   94  (lr, batch_size, epochs)\n",
            "       Particle position is  0.0037700292247643146   26   94  (lr, batch_size, epochs)\n",
            "     Particle number  4  of  20\n",
            "       Particle position is  0.007254651625873665   25   37  (lr, batch_size, epochs)\n",
            "       Particle position is  0.007254651625873665   25   37  (lr, batch_size, epochs)\n",
            "     Particle number  5  of  20\n",
            "       Particle position is  0.0086097440471671   18   63  (lr, batch_size, epochs)\n",
            "       Particle position is  0.0086097440471671   18   63  (lr, batch_size, epochs)\n",
            "     Particle number  6  of  20\n",
            "       Particle position is  0.003673945741467947   27   89  (lr, batch_size, epochs)\n",
            "       Particle position is  0.003673945741467947   27   89  (lr, batch_size, epochs)\n",
            "     Particle number  7  of  20\n",
            "       Particle position is  0.004355534553318424   27   68  (lr, batch_size, epochs)\n",
            "       Particle position is  0.004355534553318424   27   68  (lr, batch_size, epochs)\n",
            "     Particle number  8  of  20\n",
            "       Particle position is  0.007956738131484052   17   62  (lr, batch_size, epochs)\n",
            "       Particle position is  0.007956738131484052   17   62  (lr, batch_size, epochs)\n",
            "     Particle number  9  of  20\n",
            "       Particle position is  0.009572675290955228   17   96  (lr, batch_size, epochs)\n",
            "       Particle position is  0.009572675290955228   17   96  (lr, batch_size, epochs)\n",
            "     Particle number  10  of  20\n",
            "       Particle position is  0.009858983855366838   21   24  (lr, batch_size, epochs)\n",
            "       Particle position is  0.009858983855366838   21   24  (lr, batch_size, epochs)\n",
            "     Particle number  11  of  20\n",
            "       Particle position is  0.0016922370765114776   30   27  (lr, batch_size, epochs)\n",
            "       Particle position is  0.0016922370765114776   30   27  (lr, batch_size, epochs)\n",
            "     Particle number  12  of  20\n",
            "       Particle position is  0.0004983956623731465   20   20  (lr, batch_size, epochs)\n",
            "       Particle position is  0.0004983956623731465   20   20  (lr, batch_size, epochs)\n",
            "     Particle number  13  of  20\n",
            "       Particle position is  0.0005802857946932599   22   85  (lr, batch_size, epochs)\n",
            "       Particle position is  0.0005802857946932599   22   85  (lr, batch_size, epochs)\n",
            "     Particle number  14  of  20\n",
            "       Particle position is  0.0091070743047616   27   86  (lr, batch_size, epochs)\n",
            "       Particle position is  0.0091070743047616   27   86  (lr, batch_size, epochs)\n",
            "     Particle number  15  of  20\n",
            "       Particle position is  0.006989478292898348   19   82  (lr, batch_size, epochs)\n",
            "       Particle position is  0.006989478292898348   19   82  (lr, batch_size, epochs)\n",
            "     Particle number  16  of  20\n",
            "       Particle position is  0.004425574225478416   25   71  (lr, batch_size, epochs)\n",
            "       Particle position is  0.004425574225478416   25   71  (lr, batch_size, epochs)\n",
            "     Particle number  17  of  20\n",
            "       Particle position is  0.009926001105390348   29   40  (lr, batch_size, epochs)\n",
            "       Particle position is  0.009926001105390348   29   40  (lr, batch_size, epochs)\n",
            "     Particle number  18  of  20\n",
            "       Particle position is  8.334703014631691e-05   28   38  (lr, batch_size, epochs)\n",
            "       Particle position is  8.334703014631691e-05   28   38  (lr, batch_size, epochs)\n",
            "     Particle number  19  of  20\n",
            "       Particle position is  0.003946169529280759   26   45  (lr, batch_size, epochs)\n",
            "       Particle position is  0.003946169529280759   26   45  (lr, batch_size, epochs)\n",
            "     Particle number  20  of  20\n",
            "       Particle position is  0.007020929699428967   28   29  (lr, batch_size, epochs)\n",
            "       Particle position is  0.007020929699428967   28   29  (lr, batch_size, epochs)\n",
            "Iteration number  2  of  6\n",
            "     Particle number  1  of  20\n",
            "       Particle position is  0.010519514251745736   21   109  (lr, batch_size, epochs)\n",
            "       Particle position is  0.010519514251745736   21   109  (lr, batch_size, epochs)\n",
            "     Particle number  2  of  20\n",
            "       Particle position is  0.014286013685648712   21   73  (lr, batch_size, epochs)\n",
            "       Particle position is  0.014286013685648712   21   73  (lr, batch_size, epochs)\n",
            "     Particle number  3  of  20\n",
            "       Particle position is  0.010377651797303477   29   106  (lr, batch_size, epochs)\n",
            "       Particle position is  0.010377651797303477   29   106  (lr, batch_size, epochs)\n",
            "     Particle number  4  of  20\n",
            "       Particle position is  0.011527710226842288   31   71  (lr, batch_size, epochs)\n",
            "       Particle position is  0.011527710226842288   31   71  (lr, batch_size, epochs)\n",
            "     Particle number  5  of  20\n",
            "       Particle position is  0.012254747301911619   11   54  (lr, batch_size, epochs)\n",
            "       Particle position is  0.012254747301911619   11   54  (lr, batch_size, epochs)\n",
            "     Particle number  6  of  20\n",
            "       Particle position is  0.005922778196232147   32   78  (lr, batch_size, epochs)\n",
            "       Particle position is  0.005922778196232147   32   78  (lr, batch_size, epochs)\n",
            "     Particle number  7  of  20\n",
            "       Particle position is  0.00045738082317438224   22   71  (lr, batch_size, epochs)\n",
            "       Particle position is  0.00045738082317438224   22   71  (lr, batch_size, epochs)\n",
            "     Particle number  8  of  20\n",
            "       Particle position is  0.009311184750658421   25   74  (lr, batch_size, epochs)\n",
            "       Particle position is  0.009311184750658421   25   74  (lr, batch_size, epochs)\n",
            "     Particle number  9  of  20\n",
            "       Particle position is  0.010376744158487553   26   21  (lr, batch_size, epochs)\n",
            "       Particle position is  0.010376744158487553   26   21  (lr, batch_size, epochs)\n",
            "     Particle number  10  of  20\n",
            "       Particle position is  0.0025456739748030317   15   3  (lr, batch_size, epochs)\n",
            "       Particle position is  0.0025456739748030317   15   3  (lr, batch_size, epochs)\n",
            "     Particle number  11  of  20\n",
            "       Particle position is  0.006603260047662495   21   49  (lr, batch_size, epochs)\n",
            "       Particle position is  0.006603260047662495   21   49  (lr, batch_size, epochs)\n",
            "     Particle number  12  of  20\n",
            "       Particle position is  0.014440835563396133   26   59  (lr, batch_size, epochs)\n",
            "       Particle position is  0.014440835563396133   26   59  (lr, batch_size, epochs)\n",
            "     Particle number  13  of  20\n",
            "       Particle position is  0.00530269586496706   25   29  (lr, batch_size, epochs)\n",
            "       Particle position is  0.00530269586496706   25   29  (lr, batch_size, epochs)\n",
            "     Particle number  14  of  20\n",
            "       Particle position is  0.009096671361227085   19   16  (lr, batch_size, epochs)\n",
            "       Particle position is  0.009096671361227085   19   16  (lr, batch_size, epochs)\n",
            "     Particle number  15  of  20\n",
            "       Particle position is  0.0111605602742214   30   38  (lr, batch_size, epochs)\n",
            "       Particle position is  0.0111605602742214   30   38  (lr, batch_size, epochs)\n",
            "     Particle number  16  of  20\n",
            "       Particle position is  0.0011063079668272805   32   56  (lr, batch_size, epochs)\n",
            "       Particle position is  0.0011063079668272805   32   56  (lr, batch_size, epochs)\n",
            "     Particle number  17  of  20\n",
            "       Particle position is  0.010116253353449511   21   35  (lr, batch_size, epochs)\n",
            "       Particle position is  0.010116253353449511   21   35  (lr, batch_size, epochs)\n",
            "     Particle number  18  of  20\n",
            "       Particle position is  0.0006279370145331227   28   1  (lr, batch_size, epochs)\n",
            "       Particle position is  0.0006279370145331227   28   1  (lr, batch_size, epochs)\n",
            "     Particle number  19  of  20\n",
            "       Particle position is  0.007143434304317593   20   47  (lr, batch_size, epochs)\n",
            "       Particle position is  0.007143434304317593   20   47  (lr, batch_size, epochs)\n",
            "     Particle number  20  of  20\n",
            "       Particle position is  0.006429992138753497   27   19  (lr, batch_size, epochs)\n",
            "       Particle position is  0.006429992138753497   27   19  (lr, batch_size, epochs)\n",
            "Iteration number  3  of  6\n",
            "     Particle number  1  of  20\n",
            "       Particle position is  0.004750798519716687   26   83  (lr, batch_size, epochs)\n",
            "       Particle position is  0.004750798519716687   26   83  (lr, batch_size, epochs)\n",
            "     Particle number  2  of  20\n",
            "       Particle position is  0.008695379029353495   30   29  (lr, batch_size, epochs)\n",
            "       Particle position is  0.008695379029353495   30   29  (lr, batch_size, epochs)\n",
            "     Particle number  3  of  20\n",
            "       Particle position is  0.0003060912454795634   23   48  (lr, batch_size, epochs)\n",
            "       Particle position is  0.0003060912454795634   23   48  (lr, batch_size, epochs)\n",
            "     Particle number  4  of  20\n",
            "       Particle position is  0.0027997358848081064   28   3  (lr, batch_size, epochs)\n",
            "       Particle position is  0.0027997358848081064   28   3  (lr, batch_size, epochs)\n",
            "     Particle number  5  of  20\n",
            "       Particle position is  0.007257657428572976   23   41  (lr, batch_size, epochs)\n",
            "       Particle position is  0.007257657428572976   23   41  (lr, batch_size, epochs)\n",
            "     Particle number  6  of  20\n",
            "       Particle position is  0.008484445951174613   34   9  (lr, batch_size, epochs)\n",
            "       Particle position is  0.008484445951174613   34   9  (lr, batch_size, epochs)\n",
            "     Particle number  7  of  20\n",
            "       Particle position is  0.015150782367265938   31   58  (lr, batch_size, epochs)\n",
            "       Particle position is  0.015150782367265938   31   58  (lr, batch_size, epochs)\n",
            "     Particle number  8  of  20\n",
            "       Particle position is  0.005839962029015946   18   2  (lr, batch_size, epochs)\n",
            "       Particle position is  0.005839962029015946   18   2  (lr, batch_size, epochs)\n",
            "     Particle number  9  of  20\n",
            "       Particle position is  0.005899692387720891   24   170  (lr, batch_size, epochs)\n",
            "       Particle position is  0.005899692387720891   24   170  (lr, batch_size, epochs)\n",
            "     Particle number  10  of  20\n",
            "       Particle position is  0.01335678004675445   33   89  (lr, batch_size, epochs)\n",
            "       Particle position is  0.01335678004675445   33   89  (lr, batch_size, epochs)\n",
            "     Particle number  11  of  20\n",
            "       Particle position is  0.0004954747025499992   25   32  (lr, batch_size, epochs)\n",
            "       Particle position is  0.0004954747025499992   25   32  (lr, batch_size, epochs)\n",
            "     Particle number  12  of  20\n",
            "       Particle position is  0.0013363883925743992   20   30  (lr, batch_size, epochs)\n",
            "       Particle position is  0.0013363883925743992   20   30  (lr, batch_size, epochs)\n",
            "     Particle number  13  of  20\n",
            "       Particle position is  8.7757792674714e-05   25   117  (lr, batch_size, epochs)\n",
            "       Particle position is  8.7757792674714e-05   25   117  (lr, batch_size, epochs)\n",
            "     Particle number  14  of  20\n",
            "       Particle position is  0.00859184863055715   17   12  (lr, batch_size, epochs)\n",
            "       Particle position is  0.00859184863055715   17   12  (lr, batch_size, epochs)\n",
            "     Particle number  15  of  20\n",
            "       Particle position is  0.008418656913500872   9   67  (lr, batch_size, epochs)\n",
            "       Particle position is  0.008418656913500872   9   67  (lr, batch_size, epochs)\n",
            "     Particle number  16  of  20\n",
            "       Particle position is  0.0002099146391703751   27   36  (lr, batch_size, epochs)\n",
            "       Particle position is  0.0002099146391703751   27   36  (lr, batch_size, epochs)\n",
            "     Particle number  17  of  20\n",
            "       Particle position is  0.010211379477479094   18   32  (lr, batch_size, epochs)\n",
            "       Particle position is  0.010211379477479094   18   32  (lr, batch_size, epochs)\n",
            "     Particle number  18  of  20\n",
            "       Particle position is  0.018353380188436068   24   6  (lr, batch_size, epochs)\n",
            "       Particle position is  0.018353380188436068   24   6  (lr, batch_size, epochs)\n",
            "     Particle number  19  of  20\n",
            "       Particle position is  0.013709565640014028   17   40  (lr, batch_size, epochs)\n",
            "       Particle position is  0.013709565640014028   17   40  (lr, batch_size, epochs)\n",
            "     Particle number  20  of  20\n",
            "       Particle position is  0.006134523358415762   27   14  (lr, batch_size, epochs)\n",
            "       Particle position is  0.006134523358415762   27   14  (lr, batch_size, epochs)\n",
            "Iteration number  4  of  6\n",
            "     Particle number  1  of  20\n",
            "       Particle position is  0.003630980991104143   30   20  (lr, batch_size, epochs)\n",
            "       Particle position is  0.003630980991104143   30   20  (lr, batch_size, epochs)\n",
            "     Particle number  2  of  20\n",
            "       Particle position is  0.016361023885318716   33   3  (lr, batch_size, epochs)\n",
            "       Particle position is  0.016361023885318716   33   3  (lr, batch_size, epochs)\n",
            "     Particle number  3  of  20\n",
            "       Particle position is  0.00496528657951021   26   13  (lr, batch_size, epochs)\n",
            "       Particle position is  0.00496528657951021   26   13  (lr, batch_size, epochs)\n",
            "     Particle number  4  of  20\n",
            "       Particle position is  0.00021572932484969533   25   19  (lr, batch_size, epochs)\n",
            "       Particle position is  0.00021572932484969533   25   19  (lr, batch_size, epochs)\n",
            "     Particle number  5  of  20\n",
            "       Particle position is  0.0038163341257053405   33   23  (lr, batch_size, epochs)\n",
            "       Particle position is  0.0038163341257053405   33   23  (lr, batch_size, epochs)\n",
            "     Particle number  6  of  20\n",
            "       Particle position is  0.0063591932487400025   26   6  (lr, batch_size, epochs)\n",
            "       Particle position is  0.0063591932487400025   26   6  (lr, batch_size, epochs)\n",
            "     Particle number  7  of  20\n",
            "       Particle position is  0.010213950001245541   33   14  (lr, batch_size, epochs)\n",
            "       Particle position is  0.010213950001245541   33   14  (lr, batch_size, epochs)\n",
            "     Particle number  8  of  20\n",
            "       Particle position is  0.005179206327436091   26   4  (lr, batch_size, epochs)\n",
            "       Particle position is  0.005179206327436091   26   4  (lr, batch_size, epochs)\n",
            "     Particle number  9  of  20\n",
            "       Particle position is  0.004081214012107176   28   119  (lr, batch_size, epochs)\n",
            "       Particle position is  0.004081214012107176   28   119  (lr, batch_size, epochs)\n",
            "     Particle number  10  of  20\n",
            "       Particle position is  0.016448190755793443   34   69  (lr, batch_size, epochs)\n",
            "       Particle position is  0.016448190755793443   34   69  (lr, batch_size, epochs)\n",
            "     Particle number  11  of  20\n",
            "       Particle position is  0.002558417970006249   27   23  (lr, batch_size, epochs)\n",
            "       Particle position is  0.002558417970006249   27   23  (lr, batch_size, epochs)\n",
            "     Particle number  12  of  20\n",
            "       Particle position is  0.005792191372000853   20   16  (lr, batch_size, epochs)\n",
            "       Particle position is  0.005792191372000853   20   16  (lr, batch_size, epochs)\n",
            "     Particle number  13  of  20\n",
            "       Particle position is  0.002726777380644469   26   180  (lr, batch_size, epochs)\n",
            "       Particle position is  0.002726777380644469   26   180  (lr, batch_size, epochs)\n",
            "     Particle number  14  of  20\n",
            "       Particle position is  0.001963308060191765   20   21  (lr, batch_size, epochs)\n",
            "       Particle position is  0.001963308060191765   20   21  (lr, batch_size, epochs)\n",
            "     Particle number  15  of  20\n",
            "       Particle position is  0.0010133917326334216   30   81  (lr, batch_size, epochs)\n",
            "       Particle position is  0.0010133917326334216   30   81  (lr, batch_size, epochs)\n",
            "     Particle number  16  of  20\n",
            "       Particle position is  0.0002830818920968888   23   21  (lr, batch_size, epochs)\n",
            "       Particle position is  0.0002830818920968888   23   21  (lr, batch_size, epochs)\n",
            "     Particle number  17  of  20\n",
            "       Particle position is  0.0009534646018445649   18   31  (lr, batch_size, epochs)\n",
            "       Particle position is  0.0009534646018445649   18   31  (lr, batch_size, epochs)\n",
            "     Particle number  18  of  20\n",
            "       Particle position is  0.009290648388006214   23   13  (lr, batch_size, epochs)\n",
            "       Particle position is  0.009290648388006214   23   13  (lr, batch_size, epochs)\n",
            "     Particle number  19  of  20\n",
            "       Particle position is  0.00668302569236006   27   29  (lr, batch_size, epochs)\n",
            "       Particle position is  0.00668302569236006   27   29  (lr, batch_size, epochs)\n",
            "     Particle number  20  of  20\n",
            "       Particle position is  0.0054448032084501155   26   12  (lr, batch_size, epochs)\n",
            "       Particle position is  0.0054448032084501155   26   12  (lr, batch_size, epochs)\n",
            "Iteration number  5  of  6\n",
            "     Particle number  1  of  20\n",
            "       Particle position is  0.0005189236223277849   28   63  (lr, batch_size, epochs)\n",
            "       Particle position is  0.0005189236223277849   28   63  (lr, batch_size, epochs)\n",
            "     Particle number  2  of  20\n",
            "       Particle position is  0.003481888601351381   31   80  (lr, batch_size, epochs)\n",
            "       Particle position is  0.003481888601351381   31   80  (lr, batch_size, epochs)\n",
            "     Particle number  3  of  20\n",
            "       Particle position is  0.0009073489565315073   23   26  (lr, batch_size, epochs)\n",
            "       Particle position is  0.0009073489565315073   23   26  (lr, batch_size, epochs)\n",
            "     Particle number  4  of  20\n",
            "       Particle position is  0.0018795435948004576   25   85  (lr, batch_size, epochs)\n",
            "       Particle position is  0.0018795435948004576   25   85  (lr, batch_size, epochs)\n",
            "     Particle number  5  of  20\n",
            "       Particle position is  0.0065154008576539845   8   43  (lr, batch_size, epochs)\n",
            "       Particle position is  0.0065154008576539845   8   43  (lr, batch_size, epochs)\n",
            "     Particle number  6  of  20\n",
            "       Particle position is  0.0025536331202622954   31   20  (lr, batch_size, epochs)\n",
            "       Particle position is  0.0025536331202622954   31   20  (lr, batch_size, epochs)\n",
            "     Particle number  7  of  20\n",
            "       Particle position is  0.0009142975472656491   28   69  (lr, batch_size, epochs)\n",
            "       Particle position is  0.0009142975472656491   28   69  (lr, batch_size, epochs)\n",
            "     Particle number  8  of  20\n",
            "       Particle position is  0.0020703773085443944   27   15  (lr, batch_size, epochs)\n",
            "       Particle position is  0.0020703773085443944   27   15  (lr, batch_size, epochs)\n",
            "     Particle number  9  of  20\n",
            "       Particle position is  0.0023011641865187506   23   38  (lr, batch_size, epochs)\n",
            "       Particle position is  0.0023011641865187506   23   38  (lr, batch_size, epochs)\n",
            "     Particle number  10  of  20\n",
            "       Particle position is  0.01553549209834657   24   21  (lr, batch_size, epochs)\n",
            "       Particle position is  0.01553549209834657   24   21  (lr, batch_size, epochs)\n",
            "     Particle number  11  of  20\n",
            "       Particle position is  3.899252783641288e-05   24   36  (lr, batch_size, epochs)\n",
            "       Particle position is  3.899252783641288e-05   24   36  (lr, batch_size, epochs)\n",
            "     Particle number  12  of  20\n",
            "       Particle position is  0.0009744840911806068   21   31  (lr, batch_size, epochs)\n",
            "       Particle position is  0.0009744840911806068   21   31  (lr, batch_size, epochs)\n",
            "     Particle number  13  of  20\n",
            "       Particle position is  0.0014386239840009124   25   23  (lr, batch_size, epochs)\n",
            "       Particle position is  0.0014386239840009124   25   23  (lr, batch_size, epochs)\n",
            "     Particle number  14  of  20\n",
            "       Particle position is  0.007747810432333688   25   7  (lr, batch_size, epochs)\n",
            "       Particle position is  0.007747810432333688   25   7  (lr, batch_size, epochs)\n",
            "     Particle number  15  of  20\n",
            "       Particle position is  0.009716575454082218   23   73  (lr, batch_size, epochs)\n",
            "       Particle position is  0.009716575454082218   23   73  (lr, batch_size, epochs)\n",
            "     Particle number  16  of  20\n",
            "       Particle position is  0.0003193241128423438   29   52  (lr, batch_size, epochs)\n",
            "       Particle position is  0.0003193241128423438   29   52  (lr, batch_size, epochs)\n",
            "     Particle number  17  of  20\n",
            "       Particle position is  0.000697120111458716   29   33  (lr, batch_size, epochs)\n",
            "       Particle position is  0.000697120111458716   29   33  (lr, batch_size, epochs)\n",
            "     Particle number  18  of  20\n",
            "       Particle position is  0.004853306877474435   26   7  (lr, batch_size, epochs)\n",
            "       Particle position is  0.004853306877474435   26   7  (lr, batch_size, epochs)\n",
            "     Particle number  19  of  20\n",
            "       Particle position is  0.0026437507945466544   19   57  (lr, batch_size, epochs)\n",
            "       Particle position is  0.0026437507945466544   19   57  (lr, batch_size, epochs)\n",
            "     Particle number  20  of  20\n",
            "       Particle position is  0.005346227910999624   27   31  (lr, batch_size, epochs)\n",
            "       Particle position is  0.005346227910999624   27   31  (lr, batch_size, epochs)\n",
            "Iteration number  6  of  6\n",
            "     Particle number  1  of  20\n",
            "       Particle position is  0.0003796686237443976   22   50  (lr, batch_size, epochs)\n",
            "       Particle position is  0.0003796686237443976   22   50  (lr, batch_size, epochs)\n",
            "     Particle number  2  of  20\n",
            "       Particle position is  0.007367975784622869   21   60  (lr, batch_size, epochs)\n",
            "       Particle position is  0.007367975784622869   21   60  (lr, batch_size, epochs)\n",
            "     Particle number  3  of  20\n",
            "       Particle position is  0.0020451997665841075   24   66  (lr, batch_size, epochs)\n",
            "       Particle position is  0.0020451997665841075   24   66  (lr, batch_size, epochs)\n",
            "     Particle number  4  of  20\n",
            "       Particle position is  4.656129173591307e-05   25   68  (lr, batch_size, epochs)\n",
            "       Particle position is  4.656129173591307e-05   25   68  (lr, batch_size, epochs)\n",
            "     Particle number  5  of  20\n",
            "       Particle position is  0.002501095888819552   35   30  (lr, batch_size, epochs)\n",
            "       Particle position is  0.002501095888819552   35   30  (lr, batch_size, epochs)\n",
            "     Particle number  6  of  20\n",
            "       Particle position is  0.004847036876587794   24   35  (lr, batch_size, epochs)\n",
            "       Particle position is  0.004847036876587794   24   35  (lr, batch_size, epochs)\n",
            "     Particle number  7  of  20\n",
            "       Particle position is  0.0032773097866533023   25   80  (lr, batch_size, epochs)\n",
            "       Particle position is  0.0032773097866533023   25   80  (lr, batch_size, epochs)\n",
            "     Particle number  8  of  20\n",
            "       Particle position is  0.001767640199609638   16   43  (lr, batch_size, epochs)\n",
            "       Particle position is  0.001767640199609638   16   43  (lr, batch_size, epochs)\n",
            "     Particle number  9  of  20\n",
            "       Particle position is  0.0069654850453710355   24   228  (lr, batch_size, epochs)\n",
            "       Particle position is  0.0069654850453710355   24   228  (lr, batch_size, epochs)\n",
            "     Particle number  10  of  20\n",
            "       Particle position is  0.002741475902750026   25   144  (lr, batch_size, epochs)\n",
            "       Particle position is  0.002741475902750026   25   144  (lr, batch_size, epochs)\n",
            "     Particle number  11  of  20\n",
            "       Particle position is  0.0023991732913508307   24   31  (lr, batch_size, epochs)\n",
            "       Particle position is  0.0023991732913508307   24   31  (lr, batch_size, epochs)\n",
            "     Particle number  12  of  20\n",
            "       Particle position is  0.003764553469372979   24   37  (lr, batch_size, epochs)\n",
            "       Particle position is  0.003764553469372979   24   37  (lr, batch_size, epochs)\n",
            "     Particle number  13  of  20\n",
            "       Particle position is  0.0008708894295835993   26   52  (lr, batch_size, epochs)\n",
            "       Particle position is  0.0008708894295835993   26   52  (lr, batch_size, epochs)\n",
            "     Particle number  14  of  20\n",
            "       Particle position is  0.004432959166823473   22   4  (lr, batch_size, epochs)\n",
            "       Particle position is  0.004432959166823473   22   4  (lr, batch_size, epochs)\n",
            "     Particle number  15  of  20\n",
            "       Particle position is  0.0007295923871909853   20   9  (lr, batch_size, epochs)\n",
            "       Particle position is  0.0007295923871909853   20   9  (lr, batch_size, epochs)\n",
            "     Particle number  16  of  20\n",
            "       Particle position is  3.801731974401685e-05   29   40  (lr, batch_size, epochs)\n",
            "       Particle position is  3.801731974401685e-05   29   40  (lr, batch_size, epochs)\n",
            "     Particle number  17  of  20\n",
            "       Particle position is  0.004978860927353281   9   32  (lr, batch_size, epochs)\n",
            "       Particle position is  0.004978860927353281   9   32  (lr, batch_size, epochs)\n",
            "     Particle number  18  of  20\n",
            "       Particle position is  0.018576058356562633   24   41  (lr, batch_size, epochs)\n",
            "       Particle position is  0.018576058356562633   24   41  (lr, batch_size, epochs)\n",
            "     Particle number  19  of  20\n",
            "       Particle position is  0.011665936762368023   17   27  (lr, batch_size, epochs)\n",
            "       Particle position is  0.011665936762368023   17   27  (lr, batch_size, epochs)\n",
            "     Particle number  20  of  20\n",
            "       Particle position is  1.161381380669537e-05   26   29  (lr, batch_size, epochs)\n",
            "       Particle position is  1.161381380669537e-05   26   29  (lr, batch_size, epochs)\n",
            "[3.49279595e-03 2.65645722e+01 6.35550257e+01] (0.13127583265304565, 0.16583555936813354)\n",
            "[6.48619280e-03 4.09987198e+01 7.09722714e+01] (0.13793861865997314, 0.15707999467849731)\n",
            "[-7.11100661e-04  2.54429473e+01  3.07516350e+01] (0.14354319870471954, 0.14884550869464874)\n",
            "[-2.02587431e-03  2.47983329e+01  1.20355476e+02] (0.14177486300468445, 0.1533840298652649)\n",
            "[1.04669834e-02 3.23148066e+01 3.18978945e+01] (0.1457844376564026, 0.1330329328775406)\n"
          ]
        }
      ]
    },
    {
      "cell_type": "code",
      "source": [
        "pareto_front_fitness = []\n",
        "dominated_solutions_fitness = []\n",
        "\n",
        "for p in pareto_front:\n",
        "    pareto_front_fitness.append(p.fitness)\n",
        "\n",
        "for q in dominated_solutions:\n",
        "    dominated_solutions_fitness.append(q.fitness)\n",
        "\n",
        "print(pareto_front_fitness)\n",
        "print(dominated_solutions_fitness)"
      ],
      "metadata": {
        "colab": {
          "base_uri": "https://localhost:8080/"
        },
        "id": "bDxSmNt03tWy",
        "outputId": "826f2e32-cef4-452e-8273-78c7c4383850"
      },
      "execution_count": 14,
      "outputs": [
        {
          "output_type": "stream",
          "name": "stdout",
          "text": [
            "[(0.13127583265304565, 0.16583555936813354), (0.13793861865997314, 0.15707999467849731), (0.14354319870471954, 0.14884550869464874), (0.14177486300468445, 0.1533840298652649), (0.1457844376564026, 0.1330329328775406)]\n",
            "[(0.142700657248497, 0.16720451414585114), (0.18601751327514648, 0.13777956366539001), (0.1566750407218933, 0.18981653451919556), (0.17731910943984985, 0.17907725274562836), (0.13584116101264954, 0.1715044379234314), (0.15260161459445953, 0.17186731100082397), (0.13309624791145325, 0.16704398393630981), (0.13900457322597504, 0.16549928486347198), (0.14260931313037872, 0.16511739790439606), (0.14885984361171722, 0.17015030980110168), (0.14994360506534576, 0.16259226202964783), (0.15920600295066833, 0.15990011394023895), (0.23392219841480255, 0.23171700537204742), (0.19400137662887573, 0.21662607789039612), (0.21805500984191895, 0.21811822056770325)]\n"
          ]
        }
      ]
    },
    {
      "cell_type": "code",
      "source": [
        "# sort the pareto front by x-coordinate\n",
        "pareto_front_fitness.sort(key=lambda p: p[0])\n",
        "\n",
        "# extract the sorted x and y coordinates from the tuples\n",
        "x = [p[0] for p in pareto_front_fitness]\n",
        "y = [p[1] for p in pareto_front_fitness]\n",
        "\n",
        "# extract the sorted x and y coordinates from the tuples of dominated solutions\n",
        "x_dom = [p[0] for p in dominated_solutions_fitness]\n",
        "y_dom = [p[1] for p in dominated_solutions_fitness]\n",
        "\n",
        "# create a line plot with dots at each point on the x and y coordinates\n",
        "plt.plot(x, y, 'o-', color='blue')\n",
        "plt.plot(x_dom, y_dom, 'o', color='red', linestyle='None')\n",
        "\n",
        "# set the labels for the x and y axes\n",
        "plt.xlabel('CWC1')\n",
        "plt.ylabel('CWC2')\n",
        "\n",
        "# show the plot\n",
        "plt.show()"
      ],
      "metadata": {
        "colab": {
          "base_uri": "https://localhost:8080/",
          "height": 449
        },
        "id": "QcwaikUj4acT",
        "outputId": "eaff64de-f952-4c42-bfbe-92ab6050a46e"
      },
      "execution_count": 18,
      "outputs": [
        {
          "output_type": "display_data",
          "data": {
            "text/plain": [
              "<Figure size 640x480 with 1 Axes>"
            ],
            "image/png": "[encoded data removed]"
          },
          "metadata": {}
        }
      ]
    },
    {
      "cell_type": "code",
      "source": [
        "# Make predictions\n",
        "y_pred = model.predict(X_test)\n",
        "y_pred = scaler.inverse_transform(y_pred)\n",
        "y_test = scaler.inverse_transform(y_test)"
      ],
      "metadata": {
        "id": "r8nSt7LN4pTd",
        "colab": {
          "base_uri": "https://localhost:8080/"
        },
        "outputId": "8f4e1d47-2cf3-496d-ab30-15151726cabc"
      },
      "execution_count": null,
      "outputs": [
        {
          "output_type": "stream",
          "name": "stdout",
          "text": [
            "5/5 [==============================] - 0s 7ms/step\n"
          ]
        }
      ]
    },
    {
      "cell_type": "code",
      "source": [
        "np.mean(y_test)"
      ],
      "metadata": {
        "id": "2SKAE6DLveFx"
      },
      "execution_count": null,
      "outputs": []
    },
    {
      "cell_type": "code",
      "source": [
        "np.std(y_test)"
      ],
      "metadata": {
        "id": "sp3CML-AvjUy"
      },
      "execution_count": null,
      "outputs": []
    },
    {
      "cell_type": "code",
      "source": [
        "# Plot the actual and predicted stock prices with the upper and lower bounds\n",
        "fig, ax = plt.subplots(figsize=(10, 6))\n",
        "ax.plot(test['<DATE>'][:-forecast_horizon-60], y_test[:, 0], label='Actual')\n",
        "ax.plot(test['<DATE>'][:-forecast_horizon-60], y_pred[:, 0], label='Predicted')\n",
        "ax.fill_between(test['<DATE>'][:-forecast_horizon-60], y_pred[:, 0], y_pred[:, 1], alpha=0.7, label='LB-UB Interval')\n",
        "ax.legend()\n",
        "plt.show()\n"
      ],
      "metadata": {
        "id": "1S9lIh6ZvP2_",
        "colab": {
          "base_uri": "https://localhost:8080/",
          "height": 895
        },
        "outputId": "00e5b2e0-fc35-463d-aa98-52ad409a9ee7"
      },
      "execution_count": null,
      "outputs": [
        {
          "output_type": "error",
          "ename": "ValueError",
          "evalue": "ignored",
          "traceback": [
            "\u001b[0;31m---------------------------------------------------------------------------\u001b[0m",
            "\u001b[0;31mValueError\u001b[0m                                Traceback (most recent call last)",
            "\u001b[0;32m<ipython-input-24-b69dc5cb11d9>\u001b[0m in \u001b[0;36m<cell line: 4>\u001b[0;34m()\u001b[0m\n\u001b[1;32m      2\u001b[0m \u001b[0mfig\u001b[0m\u001b[0;34m,\u001b[0m \u001b[0max\u001b[0m \u001b[0;34m=\u001b[0m \u001b[0mplt\u001b[0m\u001b[0;34m.\u001b[0m\u001b[0msubplots\u001b[0m\u001b[0;34m(\u001b[0m\u001b[0mfigsize\u001b[0m\u001b[0;34m=\u001b[0m\u001b[0;34m(\u001b[0m\u001b[0;36m10\u001b[0m\u001b[0;34m,\u001b[0m \u001b[0;36m6\u001b[0m\u001b[0;34m)\u001b[0m\u001b[0;34m)\u001b[0m\u001b[0;34m\u001b[0m\u001b[0;34m\u001b[0m\u001b[0m\n\u001b[1;32m      3\u001b[0m \u001b[0max\u001b[0m\u001b[0;34m.\u001b[0m\u001b[0mplot\u001b[0m\u001b[0;34m(\u001b[0m\u001b[0mtest\u001b[0m\u001b[0;34m[\u001b[0m\u001b[0;34m'<DATE>'\u001b[0m\u001b[0;34m]\u001b[0m\u001b[0;34m[\u001b[0m\u001b[0;34m:\u001b[0m\u001b[0;34m-\u001b[0m\u001b[0mforecast_horizon\u001b[0m\u001b[0;34m-\u001b[0m\u001b[0;36m60\u001b[0m\u001b[0;34m]\u001b[0m\u001b[0;34m,\u001b[0m \u001b[0my_test\u001b[0m\u001b[0;34m[\u001b[0m\u001b[0;34m:\u001b[0m\u001b[0;34m,\u001b[0m \u001b[0;36m0\u001b[0m\u001b[0;34m]\u001b[0m\u001b[0;34m,\u001b[0m \u001b[0mlabel\u001b[0m\u001b[0;34m=\u001b[0m\u001b[0;34m'Actual'\u001b[0m\u001b[0;34m)\u001b[0m\u001b[0;34m\u001b[0m\u001b[0;34m\u001b[0m\u001b[0m\n\u001b[0;32m----> 4\u001b[0;31m \u001b[0max\u001b[0m\u001b[0;34m.\u001b[0m\u001b[0mplot\u001b[0m\u001b[0;34m(\u001b[0m\u001b[0mtest\u001b[0m\u001b[0;34m[\u001b[0m\u001b[0;34m'<DATE>'\u001b[0m\u001b[0;34m]\u001b[0m\u001b[0;34m[\u001b[0m\u001b[0;34m:\u001b[0m\u001b[0;34m-\u001b[0m\u001b[0mforecast_horizon\u001b[0m\u001b[0;34m-\u001b[0m\u001b[0;36m60\u001b[0m\u001b[0;34m]\u001b[0m\u001b[0;34m,\u001b[0m \u001b[0my_pred\u001b[0m\u001b[0;34m[\u001b[0m\u001b[0;34m:\u001b[0m\u001b[0;34m,\u001b[0m \u001b[0;36m0\u001b[0m\u001b[0;34m]\u001b[0m\u001b[0;34m,\u001b[0m \u001b[0mlabel\u001b[0m\u001b[0;34m=\u001b[0m\u001b[0;34m'Predicted'\u001b[0m\u001b[0;34m)\u001b[0m\u001b[0;34m\u001b[0m\u001b[0;34m\u001b[0m\u001b[0m\n\u001b[0m\u001b[1;32m      5\u001b[0m \u001b[0max\u001b[0m\u001b[0;34m.\u001b[0m\u001b[0mfill_between\u001b[0m\u001b[0;34m(\u001b[0m\u001b[0mtest\u001b[0m\u001b[0;34m[\u001b[0m\u001b[0;34m'<DATE>'\u001b[0m\u001b[0;34m]\u001b[0m\u001b[0;34m[\u001b[0m\u001b[0;34m:\u001b[0m\u001b[0;34m-\u001b[0m\u001b[0mforecast_horizon\u001b[0m\u001b[0;34m-\u001b[0m\u001b[0;36m60\u001b[0m\u001b[0;34m]\u001b[0m\u001b[0;34m,\u001b[0m \u001b[0my_pred\u001b[0m\u001b[0;34m[\u001b[0m\u001b[0;34m:\u001b[0m\u001b[0;34m,\u001b[0m \u001b[0;36m0\u001b[0m\u001b[0;34m]\u001b[0m\u001b[0;34m,\u001b[0m \u001b[0my_pred\u001b[0m\u001b[0;34m[\u001b[0m\u001b[0;34m:\u001b[0m\u001b[0;34m,\u001b[0m \u001b[0;36m1\u001b[0m\u001b[0;34m]\u001b[0m\u001b[0;34m,\u001b[0m \u001b[0malpha\u001b[0m\u001b[0;34m=\u001b[0m\u001b[0;36m0.7\u001b[0m\u001b[0;34m,\u001b[0m \u001b[0mlabel\u001b[0m\u001b[0;34m=\u001b[0m\u001b[0;34m'LB-UB Interval'\u001b[0m\u001b[0;34m)\u001b[0m\u001b[0;34m\u001b[0m\u001b[0;34m\u001b[0m\u001b[0m\n\u001b[1;32m      6\u001b[0m \u001b[0max\u001b[0m\u001b[0;34m.\u001b[0m\u001b[0mlegend\u001b[0m\u001b[0;34m(\u001b[0m\u001b[0;34m)\u001b[0m\u001b[0;34m\u001b[0m\u001b[0;34m\u001b[0m\u001b[0m\n",
            "\u001b[0;32m/usr/local/lib/python3.10/dist-packages/matplotlib/axes/_axes.py\u001b[0m in \u001b[0;36mplot\u001b[0;34m(self, scalex, scaley, data, *args, **kwargs)\u001b[0m\n\u001b[1;32m   1686\u001b[0m         \"\"\"\n\u001b[1;32m   1687\u001b[0m         \u001b[0mkwargs\u001b[0m \u001b[0;34m=\u001b[0m \u001b[0mcbook\u001b[0m\u001b[0;34m.\u001b[0m\u001b[0mnormalize_kwargs\u001b[0m\u001b[0;34m(\u001b[0m\u001b[0mkwargs\u001b[0m\u001b[0;34m,\u001b[0m \u001b[0mmlines\u001b[0m\u001b[0;34m.\u001b[0m\u001b[0mLine2D\u001b[0m\u001b[0;34m)\u001b[0m\u001b[0;34m\u001b[0m\u001b[0;34m\u001b[0m\u001b[0m\n\u001b[0;32m-> 1688\u001b[0;31m         \u001b[0mlines\u001b[0m \u001b[0;34m=\u001b[0m \u001b[0;34m[\u001b[0m\u001b[0;34m*\u001b[0m\u001b[0mself\u001b[0m\u001b[0;34m.\u001b[0m\u001b[0m_get_lines\u001b[0m\u001b[0;34m(\u001b[0m\u001b[0;34m*\u001b[0m\u001b[0margs\u001b[0m\u001b[0;34m,\u001b[0m \u001b[0mdata\u001b[0m\u001b[0;34m=\u001b[0m\u001b[0mdata\u001b[0m\u001b[0;34m,\u001b[0m \u001b[0;34m**\u001b[0m\u001b[0mkwargs\u001b[0m\u001b[0;34m)\u001b[0m\u001b[0;34m]\u001b[0m\u001b[0;34m\u001b[0m\u001b[0;34m\u001b[0m\u001b[0m\n\u001b[0m\u001b[1;32m   1689\u001b[0m         \u001b[0;32mfor\u001b[0m \u001b[0mline\u001b[0m \u001b[0;32min\u001b[0m \u001b[0mlines\u001b[0m\u001b[0;34m:\u001b[0m\u001b[0;34m\u001b[0m\u001b[0;34m\u001b[0m\u001b[0m\n\u001b[1;32m   1690\u001b[0m             \u001b[0mself\u001b[0m\u001b[0;34m.\u001b[0m\u001b[0madd_line\u001b[0m\u001b[0;34m(\u001b[0m\u001b[0mline\u001b[0m\u001b[0;34m)\u001b[0m\u001b[0;34m\u001b[0m\u001b[0;34m\u001b[0m\u001b[0m\n",
            "\u001b[0;32m/usr/local/lib/python3.10/dist-packages/matplotlib/axes/_base.py\u001b[0m in \u001b[0;36m__call__\u001b[0;34m(self, data, *args, **kwargs)\u001b[0m\n\u001b[1;32m    309\u001b[0m                 \u001b[0mthis\u001b[0m \u001b[0;34m+=\u001b[0m \u001b[0margs\u001b[0m\u001b[0;34m[\u001b[0m\u001b[0;36m0\u001b[0m\u001b[0;34m]\u001b[0m\u001b[0;34m,\u001b[0m\u001b[0;34m\u001b[0m\u001b[0;34m\u001b[0m\u001b[0m\n\u001b[1;32m    310\u001b[0m                 \u001b[0margs\u001b[0m \u001b[0;34m=\u001b[0m \u001b[0margs\u001b[0m\u001b[0;34m[\u001b[0m\u001b[0;36m1\u001b[0m\u001b[0;34m:\u001b[0m\u001b[0;34m]\u001b[0m\u001b[0;34m\u001b[0m\u001b[0;34m\u001b[0m\u001b[0m\n\u001b[0;32m--> 311\u001b[0;31m             yield from self._plot_args(\n\u001b[0m\u001b[1;32m    312\u001b[0m                 this, kwargs, ambiguous_fmt_datakey=ambiguous_fmt_datakey)\n\u001b[1;32m    313\u001b[0m \u001b[0;34m\u001b[0m\u001b[0m\n",
            "\u001b[0;32m/usr/local/lib/python3.10/dist-packages/matplotlib/axes/_base.py\u001b[0m in \u001b[0;36m_plot_args\u001b[0;34m(self, tup, kwargs, return_kwargs, ambiguous_fmt_datakey)\u001b[0m\n\u001b[1;32m    502\u001b[0m \u001b[0;34m\u001b[0m\u001b[0m\n\u001b[1;32m    503\u001b[0m         \u001b[0;32mif\u001b[0m \u001b[0mx\u001b[0m\u001b[0;34m.\u001b[0m\u001b[0mshape\u001b[0m\u001b[0;34m[\u001b[0m\u001b[0;36m0\u001b[0m\u001b[0;34m]\u001b[0m \u001b[0;34m!=\u001b[0m \u001b[0my\u001b[0m\u001b[0;34m.\u001b[0m\u001b[0mshape\u001b[0m\u001b[0;34m[\u001b[0m\u001b[0;36m0\u001b[0m\u001b[0;34m]\u001b[0m\u001b[0;34m:\u001b[0m\u001b[0;34m\u001b[0m\u001b[0;34m\u001b[0m\u001b[0m\n\u001b[0;32m--> 504\u001b[0;31m             raise ValueError(f\"x and y must have same first dimension, but \"\n\u001b[0m\u001b[1;32m    505\u001b[0m                              f\"have shapes {x.shape} and {y.shape}\")\n\u001b[1;32m    506\u001b[0m         \u001b[0;32mif\u001b[0m \u001b[0mx\u001b[0m\u001b[0;34m.\u001b[0m\u001b[0mndim\u001b[0m \u001b[0;34m>\u001b[0m \u001b[0;36m2\u001b[0m \u001b[0;32mor\u001b[0m \u001b[0my\u001b[0m\u001b[0;34m.\u001b[0m\u001b[0mndim\u001b[0m \u001b[0;34m>\u001b[0m \u001b[0;36m2\u001b[0m\u001b[0;34m:\u001b[0m\u001b[0;34m\u001b[0m\u001b[0;34m\u001b[0m\u001b[0m\n",
            "\u001b[0;31mValueError\u001b[0m: x and y must have same first dimension, but have shapes (912,) and (139,)"
          ]
        },
        {
          "output_type": "display_data",
          "data": {
            "text/plain": [
              "<Figure size 1000x600 with 1 Axes>"
            ],
            "image/png": "[encoded data removed]"
          },
          "metadata": {}
        }
      ]
    },
    {
      "cell_type": "code",
      "source": [
        "# the interval width\n",
        "plt.plot(y_pred[::forecast_horizon, 1]-y_pred[::forecast_horizon, 0])"
      ],
      "metadata": {
        "id": "CwRZx0x8so8k"
      },
      "execution_count": null,
      "outputs": []
    },
    {
      "cell_type": "code",
      "source": [
        "# Create the training data using the sliding window approach for all the data available\n",
        "train_scaled = scaler.fit_transform(df['<CLOSE>'].values.reshape(-1, 1))\n",
        "\n",
        "X_train = []\n",
        "y_train = []\n",
        "for i in range(window_size, len(train_scaled)):\n",
        "    X_train.append(train_scaled[i-window_size:i, 0])\n",
        "    y_train.append(train_scaled[i, 0])\n",
        "X_train, y_train = np.array(X_train), np.array(y_train)\n"
      ],
      "metadata": {
        "id": "rHtMpZrXZERB"
      },
      "execution_count": null,
      "outputs": []
    },
    {
      "cell_type": "code",
      "source": [
        "model.fit(X_train, y_train, epochs=100, batch_size=32, callbacks=[early_stop])"
      ],
      "metadata": {
        "id": "A3Yhigxx_pZO"
      },
      "execution_count": null,
      "outputs": []
    },
    {
      "cell_type": "code",
      "source": [
        "last_window_forecast = scaler.inverse_transform(model.predict(X_test[-window_size].reshape(-1,1)))"
      ],
      "metadata": {
        "id": "MATTKmGa9Bux"
      },
      "execution_count": null,
      "outputs": []
    },
    {
      "cell_type": "code",
      "source": [
        "plt.plot(last_window_forecast[1])"
      ],
      "metadata": {
        "id": "sWIDmlVs-Bss"
      },
      "execution_count": null,
      "outputs": []
    },
    {
      "cell_type": "code",
      "source": [
        "import datetime\n",
        "import matplotlib.pyplot as plt\n",
        "import matplotlib.dates as mdates\n",
        "\n",
        "start_date = test['<DATE>'].iloc[-1].date()\n",
        "N = 10 # replace with the number of dates you want to generate\n",
        "\n",
        "dates = []\n",
        "for i in range(N):\n",
        "    date = start_date + datetime.timedelta(days=i)\n",
        "    day = date.weekday()\n",
        "    if day < 5: # Add only weekdays\n",
        "        dates.append(date)\n",
        "\n",
        "fig, ax = plt.subplots(figsize=(10, 6))\n",
        "ax.fill_between(dates, last_window_forecast[1,:len(dates)], last_window_forecast[0, :len(dates)], alpha=1, label='LB-UB Interval Forecast')\n",
        "# filter out weekends from dates list\n",
        "weekdays = [date for date in dates if date.weekday() < 5]\n",
        "weekdays_fmt = mdates.DateFormatter('%Y-%m-%d')\n",
        "ax.xaxis.set_major_formatter(weekdays_fmt)\n",
        "ax.set_xticks(weekdays)\n",
        "\n",
        "# rotate the x-axis tick labels\n",
        "plt.xticks(rotation=90)\n",
        "ax.legend()\n",
        "plt.show()\n"
      ],
      "metadata": {
        "id": "kSKQ4P8Q5nYr"
      },
      "execution_count": null,
      "outputs": []
    }
  ]
}