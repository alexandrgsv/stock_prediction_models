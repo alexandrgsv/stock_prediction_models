{
 "cells": [
  {
   "cell_type": "markdown",
   "metadata": {},
   "source": [
    "In this notebook we counstruct an LSTM network to construct prediction intervals of financial time seires using batches of length 7. For the loss function we still use non-differentiable convolution of PICP and PINRW, which couldn't be optimized by gradient solvers and may be optimized with PSO. While the model has total of 10,573 parameters we need a good initial approximation of swarm positions. In order to obtain one we first train the network with adam solver and MSE as the loss function as if we wanted to obtain point predictions, not intervals. Then we use PSO to find the weights for the goal convolution of criteria and predict intervals. Rely on the markdowns above the blocks\n",
    "\n",
    "The authors are:\n",
    "\n",
    "Chervyakov A. - problem statement and analysis, methodology. <br>\n",
    "Nikulchev E. - results validation and criticism. <br>\n",
    "Gusev A. - data analysis, pipeline construction, code writing, tuning and testing. <br>"
   ]
  },
  {
   "cell_type": "code",
   "execution_count": 1,
   "metadata": {
    "id": "JXtLurca38We",
    "scrolled": true
   },
   "outputs": [
    {
     "name": "stdout",
     "output_type": "stream",
     "text": [
      "Name: pandas\n",
      "Version: 1.3.3\n",
      "Summary: Powerful data structures for data analysis, time series, and statistics\n",
      "Home-page: https://pandas.pydata.org\n",
      "Author: The Pandas Development Team\n",
      "Author-email: pandas-dev@python.org\n",
      "License: BSD-3-Clause\n",
      "Location: /home/alexander/mambaforge/lib/python3.9/site-packages\n",
      "Requires: numpy, python-dateutil, pytz\n",
      "Required-by: bio-embeddings, bio-embeddings-deepblast, bio-embeddings-plus, dask-cuda, deepnog, goatools, pmdarima, seaborn, statsmodels\n",
      "\u001b[33mWARNING: Package(s) not found: sklearn\u001b[0m\u001b[33m\n",
      "\u001b[0mRequirement already satisfied: scikit-learn in /home/alexander/mambaforge/lib/python3.9/site-packages (1.3.1)\n",
      "Requirement already satisfied: numpy<2.0,>=1.17.3 in /home/alexander/mambaforge/lib/python3.9/site-packages (from scikit-learn) (1.21.2)\n",
      "Requirement already satisfied: scipy>=1.5.0 in /home/alexander/mambaforge/lib/python3.9/site-packages (from scikit-learn) (1.7.1)\n",
      "Requirement already satisfied: joblib>=1.1.1 in /home/alexander/mambaforge/lib/python3.9/site-packages (from scikit-learn) (1.3.2)\n",
      "Requirement already satisfied: threadpoolctl>=2.0.0 in /home/alexander/mambaforge/lib/python3.9/site-packages (from scikit-learn) (3.0.0)\n",
      "\n",
      "\u001b[1m[\u001b[0m\u001b[34;49mnotice\u001b[0m\u001b[1;39;49m]\u001b[0m\u001b[39;49m A new release of pip is available: \u001b[0m\u001b[31;49m23.1.2\u001b[0m\u001b[39;49m -> \u001b[0m\u001b[32;49m23.2.1\u001b[0m\n",
      "\u001b[1m[\u001b[0m\u001b[34;49mnotice\u001b[0m\u001b[1;39;49m]\u001b[0m\u001b[39;49m To update, run: \u001b[0m\u001b[32;49mpip install --upgrade pip\u001b[0m\n",
      "Name: tensorflow\n",
      "Version: 2.11.0\n",
      "Summary: TensorFlow is an open source machine learning framework for everyone.\n",
      "Home-page: https://www.tensorflow.org/\n",
      "Author: Google Inc.\n",
      "Author-email: packages@tensorflow.org\n",
      "License: Apache 2.0\n",
      "Location: /home/alexander/mambaforge/lib/python3.9/site-packages\n",
      "Requires: absl-py, astunparse, flatbuffers, gast, google-pasta, grpcio, h5py, keras, libclang, numpy, opt-einsum, packaging, protobuf, setuptools, six, tensorboard, tensorflow-estimator, tensorflow-io-gcs-filesystem, termcolor, typing-extensions, wrapt\n",
      "Required-by: \n"
     ]
    },
    {
     "name": "stderr",
     "output_type": "stream",
     "text": [
      "2023-10-01 09:50:02.247940: I tensorflow/core/platform/cpu_feature_guard.cc:193] This TensorFlow binary is optimized with oneAPI Deep Neural Network Library (oneDNN) to use the following CPU instructions in performance-critical operations:  AVX2 FMA\n",
      "To enable them in other operations, rebuild TensorFlow with the appropriate compiler flags.\n",
      "2023-10-01 09:50:07.603260: W tensorflow/compiler/xla/stream_executor/platform/default/dso_loader.cc:64] Could not load dynamic library 'libcudart.so.11.0'; dlerror: libcudart.so.11.0: cannot open shared object file: No such file or directory; LD_LIBRARY_PATH: :/usr/lib64:/usr/local/lib\n",
      "2023-10-01 09:50:07.603306: I tensorflow/compiler/xla/stream_executor/cuda/cudart_stub.cc:29] Ignore above cudart dlerror if you do not have a GPU set up on your machine.\n",
      "2023-10-01 09:50:18.446134: W tensorflow/compiler/xla/stream_executor/platform/default/dso_loader.cc:64] Could not load dynamic library 'libnvinfer.so.7'; dlerror: libnvinfer.so.7: cannot open shared object file: No such file or directory; LD_LIBRARY_PATH: :/usr/lib64:/usr/local/lib\n",
      "2023-10-01 09:50:18.446544: W tensorflow/compiler/xla/stream_executor/platform/default/dso_loader.cc:64] Could not load dynamic library 'libnvinfer_plugin.so.7'; dlerror: libnvinfer_plugin.so.7: cannot open shared object file: No such file or directory; LD_LIBRARY_PATH: :/usr/lib64:/usr/local/lib\n",
      "2023-10-01 09:50:18.446576: W tensorflow/compiler/tf2tensorrt/utils/py_utils.cc:38] TF-TRT Warning: Cannot dlopen some TensorRT libraries. If you would like to use Nvidia GPU with TensorRT, please make sure the missing libraries mentioned above are installed properly.\n"
     ]
    }
   ],
   "source": [
    "!pip show pandas || pip install pandas\n",
    "!pip show sklearn || pip install -U scikit-learn\n",
    "!pip show tensorflow || pip install -U tensorflow\n",
    "\n",
    "import pandas as pd\n",
    "import numpy as np\n",
    "import matplotlib.pyplot as plt\n",
    "from sklearn.preprocessing import MinMaxScaler\n",
    "from tensorflow.keras.models import Sequential\n",
    "from tensorflow.keras.layers import Dense, LSTM, Flatten"
   ]
  },
  {
   "cell_type": "code",
   "execution_count": 2,
   "metadata": {
    "colab": {
     "base_uri": "https://localhost:8080/"
    },
    "id": "40ralX020hY7",
    "outputId": "83af0148-57fc-4ca0-c044-f74f76145131"
   },
   "outputs": [
    {
     "name": "stdout",
     "output_type": "stream",
     "text": [
      "Name: pyswarms\n",
      "Version: 1.3.0\n",
      "Summary: A Python-based Particle Swarm Optimization (PSO) library.\n",
      "Home-page: https://github.com/ljvmiranda921/pyswarms\n",
      "Author: Lester James V. Miranda\n",
      "Author-email: ljvmiranda@gmail.com\n",
      "License: MIT license\n",
      "Location: /home/alexander/mambaforge/lib/python3.9/site-packages\n",
      "Requires: attrs, future, matplotlib, numpy, pyyaml, scipy, tqdm\n",
      "Required-by: \n"
     ]
    }
   ],
   "source": [
    "!pip show pyswarms || pip install pyswarms\n"
   ]
  },
  {
   "cell_type": "code",
   "execution_count": 3,
   "metadata": {
    "id": "p1l3-47y0dW9"
   },
   "outputs": [],
   "source": [
    "import pyswarms as ps\n",
    "from pyswarms.single import GlobalBestPSO"
   ]
  },
  {
   "cell_type": "code",
   "execution_count": 4,
   "metadata": {
    "colab": {
     "base_uri": "https://localhost:8080/"
    },
    "id": "NfFW8ttEiO6l",
    "outputId": "80348059-ede3-45ee-d2b1-47f9e9ec80f2"
   },
   "outputs": [],
   "source": [
    "import tensorflow as tf\n",
    "import math\n",
    "#tf.executing_eagerly()"
   ]
  },
  {
   "cell_type": "code",
   "execution_count": 5,
   "metadata": {
    "id": "xb9swMtr4Bpf"
   },
   "outputs": [],
   "source": [
    "# Load the data\n",
    "data = pd.read_csv('https://drive.google.com/uc?id=18RjIb6w6OXLPeKYJ-UJKUNtmY71RpP5D',\n",
    "                   header=0,\n",
    "                   usecols=['<DATE>', '<CLOSE>'],\n",
    "                   parse_dates=['<DATE>'],\n",
    "                   date_parser=lambda x: pd.to_datetime(x, format='%d/%m/%y'))\n",
    "\n",
    "df = data[['<DATE>', '<CLOSE>']].copy()"
   ]
  },
  {
   "cell_type": "code",
   "execution_count": 6,
   "metadata": {
    "id": "vJqjdTOL4INF"
   },
   "outputs": [],
   "source": [
    "df = df.sort_values('<DATE>')\n",
    "df = df.reset_index(drop=True)\n",
    "\n"
   ]
  },
  {
   "cell_type": "code",
   "execution_count": 7,
   "metadata": {},
   "outputs": [
    {
     "data": {
      "text/html": [
       "<div>\n",
       "<style scoped>\n",
       "    .dataframe tbody tr th:only-of-type {\n",
       "        vertical-align: middle;\n",
       "    }\n",
       "\n",
       "    .dataframe tbody tr th {\n",
       "        vertical-align: top;\n",
       "    }\n",
       "\n",
       "    .dataframe thead th {\n",
       "        text-align: right;\n",
       "    }\n",
       "</style>\n",
       "<table border=\"1\" class=\"dataframe\">\n",
       "  <thead>\n",
       "    <tr style=\"text-align: right;\">\n",
       "      <th></th>\n",
       "      <th>&lt;DATE&gt;</th>\n",
       "      <th>&lt;CLOSE&gt;</th>\n",
       "    </tr>\n",
       "  </thead>\n",
       "  <tbody>\n",
       "    <tr>\n",
       "      <th>0</th>\n",
       "      <td>2003-03-03</td>\n",
       "      <td>352.24</td>\n",
       "    </tr>\n",
       "    <tr>\n",
       "      <th>1</th>\n",
       "      <td>2003-03-04</td>\n",
       "      <td>348.40</td>\n",
       "    </tr>\n",
       "    <tr>\n",
       "      <th>2</th>\n",
       "      <td>2003-03-05</td>\n",
       "      <td>357.65</td>\n",
       "    </tr>\n",
       "    <tr>\n",
       "      <th>3</th>\n",
       "      <td>2003-03-06</td>\n",
       "      <td>359.97</td>\n",
       "    </tr>\n",
       "    <tr>\n",
       "      <th>4</th>\n",
       "      <td>2003-03-07</td>\n",
       "      <td>354.87</td>\n",
       "    </tr>\n",
       "  </tbody>\n",
       "</table>\n",
       "</div>"
      ],
      "text/plain": [
       "      <DATE>  <CLOSE>\n",
       "0 2003-03-03   352.24\n",
       "1 2003-03-04   348.40\n",
       "2 2003-03-05   357.65\n",
       "3 2003-03-06   359.97\n",
       "4 2003-03-07   354.87"
      ]
     },
     "execution_count": 7,
     "metadata": {},
     "output_type": "execute_result"
    }
   ],
   "source": [
    "df.head()"
   ]
  },
  {
   "cell_type": "code",
   "execution_count": 8,
   "metadata": {},
   "outputs": [
    {
     "data": {
      "text/html": [
       "<div>\n",
       "<style scoped>\n",
       "    .dataframe tbody tr th:only-of-type {\n",
       "        vertical-align: middle;\n",
       "    }\n",
       "\n",
       "    .dataframe tbody tr th {\n",
       "        vertical-align: top;\n",
       "    }\n",
       "\n",
       "    .dataframe thead th {\n",
       "        text-align: right;\n",
       "    }\n",
       "</style>\n",
       "<table border=\"1\" class=\"dataframe\">\n",
       "  <thead>\n",
       "    <tr style=\"text-align: right;\">\n",
       "      <th></th>\n",
       "      <th>&lt;DATE&gt;</th>\n",
       "      <th>&lt;CLOSE&gt;</th>\n",
       "    </tr>\n",
       "  </thead>\n",
       "  <tbody>\n",
       "    <tr>\n",
       "      <th>5005</th>\n",
       "      <td>2023-03-23</td>\n",
       "      <td>2388.35</td>\n",
       "    </tr>\n",
       "    <tr>\n",
       "      <th>5006</th>\n",
       "      <td>2023-03-24</td>\n",
       "      <td>2391.53</td>\n",
       "    </tr>\n",
       "    <tr>\n",
       "      <th>5007</th>\n",
       "      <td>2023-03-27</td>\n",
       "      <td>2440.68</td>\n",
       "    </tr>\n",
       "    <tr>\n",
       "      <th>5008</th>\n",
       "      <td>2023-03-28</td>\n",
       "      <td>2442.19</td>\n",
       "    </tr>\n",
       "    <tr>\n",
       "      <th>5009</th>\n",
       "      <td>2023-03-29</td>\n",
       "      <td>2444.90</td>\n",
       "    </tr>\n",
       "  </tbody>\n",
       "</table>\n",
       "</div>"
      ],
      "text/plain": [
       "         <DATE>  <CLOSE>\n",
       "5005 2023-03-23  2388.35\n",
       "5006 2023-03-24  2391.53\n",
       "5007 2023-03-27  2440.68\n",
       "5008 2023-03-28  2442.19\n",
       "5009 2023-03-29  2444.90"
      ]
     },
     "execution_count": 8,
     "metadata": {},
     "output_type": "execute_result"
    }
   ],
   "source": [
    "df.tail()"
   ]
  },
  {
   "cell_type": "code",
   "execution_count": 9,
   "metadata": {
    "id": "tEhVXTo5jsfM"
   },
   "outputs": [],
   "source": [
    "def PICP(y_true, y_pred):\n",
    "\n",
    "    n = tf.shape(y_pred)[0]\n",
    "    c = tf.TensorArray(dtype=tf.float32, size=n)\n",
    "\n",
    "    for i in tf.range(n):\n",
    "        if y_true[i] >= y_pred[i][0] and y_true[i] <= y_pred[i][1]:\n",
    "            c = c.write(i, 1.0)\n",
    "        else:\n",
    "            c = c.write(i, 0.0)\n",
    "\n",
    "    return tf.reduce_sum(c.stack()) / tf.cast(n, dtype=tf.float32)"
   ]
  },
  {
   "cell_type": "code",
   "execution_count": 10,
   "metadata": {
    "id": "HtLIsJxfM0Rp"
   },
   "outputs": [],
   "source": [
    "def PINRW(y_pred, R = 1.00):\n",
    "    n = tf.shape(y_pred)[0]\n",
    "    sum_of_squared_diff = tf.reduce_sum(tf.square(y_pred[:, 1] - y_pred[:, 0]))\n",
    "    return tf.sqrt(sum_of_squared_diff / tf.cast(n, dtype=tf.float32)) / R\n"
   ]
  },
  {
   "cell_type": "code",
   "execution_count": 11,
   "metadata": {
    "colab": {
     "base_uri": "https://localhost:8080/",
     "height": 474
    },
    "id": "eFSCBZUKEqB8",
    "outputId": "351d0de6-3c63-4660-cdbb-52c0beb1510f"
   },
   "outputs": [
    {
     "data": {
      "image/png": "[encoded data removed]",
      "text/plain": [
       "<Figure size 432x288 with 1 Axes>"
      ]
     },
     "metadata": {
      "needs_background": "light"
     },
     "output_type": "display_data"
    },
    {
     "name": "stdout",
     "output_type": "stream",
     "text": [
      "Maximum value of Z: 1.1583539630298554\n",
      "Corresponding PICP and PINRW values: 0.999 0.0\n"
     ]
    }
   ],
   "source": [
    "#here we can investigate the etta and mu influence on the convolution surface shape\n",
    "\n",
    "from mpl_toolkits.mplot3d import Axes3D\n",
    "\n",
    "etta = 3\n",
    "mu = 0.95\n",
    "\n",
    "x = np.arange(0, 1, 0.001)\n",
    "y = np.arange(0, 1, 0.001)\n",
    "X, Y = np.meshgrid(x, y)\n",
    "Z = (1-Y) * (np.exp(etta * (X - mu)))\n",
    "\n",
    "fig = plt.figure()\n",
    "ax = fig.add_subplot(111, projection='3d')\n",
    "ax.plot_surface(X, Y, Z)\n",
    "\n",
    "ax.set_xlabel('PICP')\n",
    "ax.set_ylabel('PINRW')\n",
    "ax.set_zlabel('CWC(PICP, PINRW)')\n",
    "ax.set_title('Surface Plot of CWC')\n",
    "\n",
    "plt.show()\n",
    "\n",
    "max_value = np.max(Z)\n",
    "max_index = np.unravel_index(np.argmax(Z), Z.shape)\n",
    "max_x = X[max_index]\n",
    "max_y = Y[max_index]\n",
    "\n",
    "print(\"Maximum value of Z:\", max_value)\n",
    "print(\"Corresponding PICP and PINRW values:\", max_x, max_y)"
   ]
  },
  {
   "cell_type": "code",
   "execution_count": 12,
   "metadata": {
    "id": "4TBhKIn3Wgg8"
   },
   "outputs": [],
   "source": [
    "def CWC(y_true, y_pred, etta = 3, mu = 0.95):\n",
    "\n",
    "    return (1-PINRW(y_pred)) * (tf.exp(etta * (tf.subtract(PICP(y_true, y_pred), mu))))\n"
   ]
  },
  {
   "cell_type": "code",
   "execution_count": 13,
   "metadata": {},
   "outputs": [],
   "source": [
    "# Split the data into training and test sets\n",
    "train_size = int(len(df) * 0.8)\n",
    "test = df[train_size:]"
   ]
  },
  {
   "cell_type": "code",
   "execution_count": 14,
   "metadata": {
    "id": "U7fTkLxURb62"
   },
   "outputs": [],
   "source": [
    "# Scale the data\n",
    "scaler = MinMaxScaler(feature_range=(0, 1))\n",
    "df = scaler.fit_transform(df['<CLOSE>'].values.reshape(-1, 1))"
   ]
  },
  {
   "cell_type": "code",
   "execution_count": 15,
   "metadata": {
    "id": "tpiTHakmRahB"
   },
   "outputs": [],
   "source": [
    "train_scaled = df[:train_size]\n",
    "test_scaled = df[train_size:]"
   ]
  },
  {
   "cell_type": "code",
   "execution_count": 16,
   "metadata": {
    "id": "PHp8j9NeDNzZ"
   },
   "outputs": [],
   "source": [
    "X_test = test_scaled[:-1]\n",
    "y_test = test_scaled[1:]"
   ]
  },
  {
   "cell_type": "code",
   "execution_count": 17,
   "metadata": {
    "id": "E4yv6PoYDsrv"
   },
   "outputs": [],
   "source": [
    "X_train = train_scaled[:-1]\n",
    "y_train = train_scaled[1:]"
   ]
  },
  {
   "cell_type": "code",
   "execution_count": 18,
   "metadata": {
    "colab": {
     "base_uri": "https://localhost:8080/"
    },
    "id": "UFFgfOG5F1u7",
    "outputId": "21faa773-ee61-41d9-8606-90ad0eac86a0"
   },
   "outputs": [
    {
     "data": {
      "text/plain": [
       "(4007, 1)"
      ]
     },
     "execution_count": 18,
     "metadata": {},
     "output_type": "execute_result"
    }
   ],
   "source": [
    "X_train.shape"
   ]
  },
  {
   "cell_type": "code",
   "execution_count": 19,
   "metadata": {
    "colab": {
     "base_uri": "https://localhost:8080/"
    },
    "id": "4YhonwCmF3Z4",
    "outputId": "2b5468bc-7887-4005-b3c6-cbc3d33a91d8"
   },
   "outputs": [
    {
     "data": {
      "text/plain": [
       "(4007, 1)"
      ]
     },
     "execution_count": 19,
     "metadata": {},
     "output_type": "execute_result"
    }
   ],
   "source": [
    "y_train.shape"
   ]
  },
  {
   "cell_type": "code",
   "execution_count": 20,
   "metadata": {
    "colab": {
     "base_uri": "https://localhost:8080/"
    },
    "id": "AB8aEFkoDU-e",
    "outputId": "8b9224ac-8cff-4fdf-b161-72893834e915"
   },
   "outputs": [
    {
     "data": {
      "text/plain": [
       "(1001, 1)"
      ]
     },
     "execution_count": 20,
     "metadata": {},
     "output_type": "execute_result"
    }
   ],
   "source": [
    "X_test.shape"
   ]
  },
  {
   "cell_type": "code",
   "execution_count": 21,
   "metadata": {
    "colab": {
     "base_uri": "https://localhost:8080/"
    },
    "id": "IyTTzCRADW3p",
    "outputId": "fbf3dc54-bc6b-470d-9d94-e890df39722b"
   },
   "outputs": [
    {
     "data": {
      "text/plain": [
       "(1001, 1)"
      ]
     },
     "execution_count": 21,
     "metadata": {},
     "output_type": "execute_result"
    }
   ],
   "source": [
    "y_test.shape"
   ]
  },
  {
   "cell_type": "markdown",
   "metadata": {},
   "source": [
    "Check that y is shifted 1 point ahead of X:"
   ]
  },
  {
   "cell_type": "code",
   "execution_count": 22,
   "metadata": {},
   "outputs": [
    {
     "data": {
      "image/png": "[encoded data removed]",
      "text/plain": [
       "<Figure size 432x288 with 1 Axes>"
      ]
     },
     "metadata": {
      "needs_background": "light"
     },
     "output_type": "display_data"
    }
   ],
   "source": [
    "plt.plot(X_train[-6:], label='X_train')\n",
    "plt.plot(y_train[-7:-1], label='y_train')\n",
    "plt.legend()\n",
    "plt.show()"
   ]
  },
  {
   "cell_type": "code",
   "execution_count": 23,
   "metadata": {
    "colab": {
     "base_uri": "https://localhost:8080/",
     "height": 448
    },
    "id": "MBy7UzYb4Yaq",
    "outputId": "d249035a-3152-4645-d756-69d27fee7a14"
   },
   "outputs": [
    {
     "data": {
      "image/png": "[encoded data removed]",
      "text/plain": [
       "<Figure size 432x288 with 1 Axes>"
      ]
     },
     "metadata": {
      "needs_background": "light"
     },
     "output_type": "display_data"
    }
   ],
   "source": [
    "plt.plot(X_test[-6:], label='X_test')\n",
    "plt.plot(y_test[-7:-1], label='y_test')\n",
    "plt.legend()\n",
    "plt.show()"
   ]
  },
  {
   "cell_type": "code",
   "execution_count": 24,
   "metadata": {},
   "outputs": [],
   "source": [
    "def create_batches(data, batch_size):\n",
    "    output = []\n",
    "    for i in range(len(data)-batch_size+1):\n",
    "        output.append(data[i:i+batch_size])\n",
    "    return np.array(output)\n",
    "\n",
    "batch_size = 1  # length of each batch\n",
    "\n",
    "# Create batches\n",
    "batches = create_batches(X_train, batch_size)\n",
    "\n",
    "# Reshape to 3D\n",
    "batches = batches.reshape((batches.shape[0], batches.shape[1], 1))"
   ]
  },
  {
   "cell_type": "code",
   "execution_count": 25,
   "metadata": {},
   "outputs": [],
   "source": [
    "batches_test = create_batches(X_test, batch_size)\n",
    "batches_test = batches_test.reshape((batches_test.shape[0], batches_test.shape[1], 1))"
   ]
  },
  {
   "cell_type": "code",
   "execution_count": 26,
   "metadata": {},
   "outputs": [
    {
     "data": {
      "text/plain": [
       "(4007, 1, 1)"
      ]
     },
     "execution_count": 26,
     "metadata": {},
     "output_type": "execute_result"
    }
   ],
   "source": [
    "batches.shape"
   ]
  },
  {
   "cell_type": "code",
   "execution_count": 27,
   "metadata": {
    "colab": {
     "base_uri": "https://localhost:8080/",
     "height": 1000
    },
    "id": "JPN3jtfiXjWS",
    "outputId": "b34cbe13-3d92-47c5-e176-c7ad62d20ad2",
    "tags": []
   },
   "outputs": [
    {
     "name": "stderr",
     "output_type": "stream",
     "text": [
      "2023-10-01 09:50:47.649512: W tensorflow/compiler/xla/stream_executor/platform/default/dso_loader.cc:64] Could not load dynamic library 'libcudart.so.11.0'; dlerror: libcudart.so.11.0: cannot open shared object file: No such file or directory; LD_LIBRARY_PATH: :/usr/lib64:/usr/local/lib\n",
      "2023-10-01 09:50:47.649783: W tensorflow/compiler/xla/stream_executor/platform/default/dso_loader.cc:64] Could not load dynamic library 'libcublas.so.11'; dlerror: libcublas.so.11: cannot open shared object file: No such file or directory; LD_LIBRARY_PATH: :/usr/lib64:/usr/local/lib\n",
      "2023-10-01 09:50:47.650003: W tensorflow/compiler/xla/stream_executor/platform/default/dso_loader.cc:64] Could not load dynamic library 'libcublasLt.so.11'; dlerror: libcublasLt.so.11: cannot open shared object file: No such file or directory; LD_LIBRARY_PATH: :/usr/lib64:/usr/local/lib\n",
      "2023-10-01 09:50:47.650214: W tensorflow/compiler/xla/stream_executor/platform/default/dso_loader.cc:64] Could not load dynamic library 'libcufft.so.10'; dlerror: libcufft.so.10: cannot open shared object file: No such file or directory; LD_LIBRARY_PATH: :/usr/lib64:/usr/local/lib\n",
      "2023-10-01 09:50:47.877090: W tensorflow/compiler/xla/stream_executor/platform/default/dso_loader.cc:64] Could not load dynamic library 'libcusparse.so.11'; dlerror: libcusparse.so.11: cannot open shared object file: No such file or directory; LD_LIBRARY_PATH: :/usr/lib64:/usr/local/lib\n",
      "2023-10-01 09:50:47.877394: W tensorflow/compiler/xla/stream_executor/platform/default/dso_loader.cc:64] Could not load dynamic library 'libcudnn.so.8'; dlerror: libcudnn.so.8: cannot open shared object file: No such file or directory; LD_LIBRARY_PATH: :/usr/lib64:/usr/local/lib\n",
      "2023-10-01 09:50:47.877431: W tensorflow/core/common_runtime/gpu/gpu_device.cc:1934] Cannot dlopen some GPU libraries. Please make sure the missing libraries mentioned above are installed properly if you would like to use GPU. Follow the guide at https://www.tensorflow.org/install/gpu for how to download and setup the required libraries for your platform.\n",
      "Skipping registering GPU devices...\n",
      "2023-10-01 09:50:47.930842: I tensorflow/core/platform/cpu_feature_guard.cc:193] This TensorFlow binary is optimized with oneAPI Deep Neural Network Library (oneDNN) to use the following CPU instructions in performance-critical operations:  AVX2 FMA\n",
      "To enable them in other operations, rebuild TensorFlow with the appropriate compiler flags.\n"
     ]
    }
   ],
   "source": [
    "# Define the model\n",
    "model = Sequential([\n",
    "    LSTM(units=50),\n",
    "    Dense(units=3),\n",
    "    Dense(units=3),\n",
    "    Dense(units=2)\n",
    "])"
   ]
  },
  {
   "cell_type": "code",
   "execution_count": 28,
   "metadata": {
    "colab": {
     "base_uri": "https://localhost:8080/",
     "height": 1000
    },
    "id": "JPN3jtfiXjWS",
    "outputId": "b34cbe13-3d92-47c5-e176-c7ad62d20ad2",
    "tags": []
   },
   "outputs": [],
   "source": [
    "# Build the model\n",
    "input_shape = batches.shape[1:]\n",
    "model.build((None, *input_shape))\n",
    "\n",
    "def get_shape(model):\n",
    "    weights_layer = model.get_weights()\n",
    "    shapes = []\n",
    "    for weights in weights_layer:\n",
    "        shapes.append(weights.shape)\n",
    "    return shapes\n",
    "def set_shape(weights,shapes):\n",
    "    new_weights = []\n",
    "    index=0\n",
    "    for shape in shapes:\n",
    "        if(len(shape)>1):\n",
    "            n_nodes = np.prod(shape)+index\n",
    "        else:\n",
    "            n_nodes=shape[0]+index\n",
    "        tmp = np.array(weights[index:n_nodes]).reshape(shape)\n",
    "        new_weights.append(tmp)\n",
    "        index=n_nodes\n",
    "    return new_weights\n",
    "\n",
    "def evaluate_nn(W, shape,X_train=X_train, Y_train=y_train):\n",
    "    global model, max_value\n",
    "    results = []\n",
    "    for weights in W:\n",
    "        model.set_weights(set_shape(weights,shape))\n",
    "        predictions = model.predict(X_train)\n",
    "        solution_fitness = 1-CWC(Y_train, predictions).numpy() / max_value\n",
    "        results.append(solution_fitness)\n",
    "    return results"
   ]
  },
  {
   "cell_type": "code",
   "execution_count": 29,
   "metadata": {},
   "outputs": [
    {
     "name": "stdout",
     "output_type": "stream",
     "text": [
      "Model: \"sequential\"\n",
      "_________________________________________________________________\n",
      " Layer (type)                Output Shape              Param #   \n",
      "=================================================================\n",
      " lstm (LSTM)                 (None, 50)                10400     \n",
      "                                                                 \n",
      " dense (Dense)               (None, 3)                 153       \n",
      "                                                                 \n",
      " dense_1 (Dense)             (None, 3)                 12        \n",
      "                                                                 \n",
      " dense_2 (Dense)             (None, 2)                 8         \n",
      "                                                                 \n",
      "=================================================================\n",
      "Total params: 10,573\n",
      "Trainable params: 10,573\n",
      "Non-trainable params: 0\n",
      "_________________________________________________________________\n"
     ]
    }
   ],
   "source": [
    "model.summary()"
   ]
  },
  {
   "cell_type": "markdown",
   "metadata": {},
   "source": [
    "First find the initial approximation of parameters with MSE and adam solver:"
   ]
  },
  {
   "cell_type": "code",
   "execution_count": 30,
   "metadata": {},
   "outputs": [],
   "source": [
    "model.compile(loss = \"mse\", optimizer = 'adam')"
   ]
  },
  {
   "cell_type": "code",
   "execution_count": 31,
   "metadata": {
    "scrolled": true
   },
   "outputs": [
    {
     "name": "stdout",
     "output_type": "stream",
     "text": [
      "Epoch 1/100\n",
      "4007/4007 [==============================] - 7s 1ms/step - loss: 0.0012\n",
      "Epoch 2/100\n",
      "4007/4007 [==============================] - 5s 1ms/step - loss: 6.4217e-05\n",
      "Epoch 3/100\n",
      "4007/4007 [==============================] - 5s 1ms/step - loss: 6.3941e-05\n",
      "Epoch 4/100\n",
      "4007/4007 [==============================] - 5s 1ms/step - loss: 6.3199e-05\n",
      "Epoch 5/100\n",
      "4007/4007 [==============================] - 5s 1ms/step - loss: 6.0463e-05\n",
      "Epoch 6/100\n",
      "4007/4007 [==============================] - 5s 1ms/step - loss: 6.1460e-05\n",
      "Epoch 7/100\n",
      "4007/4007 [==============================] - 5s 1ms/step - loss: 6.0103e-05\n",
      "Epoch 8/100\n",
      "4007/4007 [==============================] - 5s 1ms/step - loss: 5.6449e-05\n",
      "Epoch 9/100\n",
      "4007/4007 [==============================] - 5s 1ms/step - loss: 5.7684e-05\n",
      "Epoch 10/100\n",
      "4007/4007 [==============================] - 5s 1ms/step - loss: 5.8639e-05\n",
      "Epoch 11/100\n",
      "4007/4007 [==============================] - 5s 1ms/step - loss: 5.8503e-05\n",
      "Epoch 12/100\n",
      "4007/4007 [==============================] - 5s 1ms/step - loss: 5.5840e-05\n",
      "Epoch 13/100\n",
      "4007/4007 [==============================] - 5s 1ms/step - loss: 5.6378e-05\n",
      "Epoch 14/100\n",
      "4007/4007 [==============================] - 5s 1ms/step - loss: 5.4448e-05\n",
      "Epoch 15/100\n",
      "4007/4007 [==============================] - 5s 1ms/step - loss: 5.6151e-05\n",
      "Epoch 16/100\n",
      "4007/4007 [==============================] - 5s 1ms/step - loss: 5.3780e-05\n",
      "Epoch 17/100\n",
      "4007/4007 [==============================] - 5s 1ms/step - loss: 5.4608e-05\n",
      "Epoch 18/100\n",
      "4007/4007 [==============================] - 5s 1ms/step - loss: 5.3489e-05\n",
      "Epoch 19/100\n",
      "4007/4007 [==============================] - 5s 1ms/step - loss: 5.3035e-05\n",
      "Epoch 20/100\n",
      "4007/4007 [==============================] - 5s 1ms/step - loss: 5.2461e-05\n",
      "Epoch 21/100\n",
      "4007/4007 [==============================] - 5s 1ms/step - loss: 5.2786e-05\n",
      "Epoch 22/100\n",
      "4007/4007 [==============================] - 5s 1ms/step - loss: 5.2617e-05\n",
      "Epoch 23/100\n",
      "4007/4007 [==============================] - 5s 1ms/step - loss: 5.2786e-05\n",
      "Epoch 24/100\n",
      "4007/4007 [==============================] - 5s 1ms/step - loss: 5.1693e-05\n",
      "Epoch 25/100\n",
      "4007/4007 [==============================] - 5s 1ms/step - loss: 5.3331e-05\n",
      "Epoch 26/100\n",
      "4007/4007 [==============================] - 5s 1ms/step - loss: 5.1657e-05\n",
      "Epoch 27/100\n",
      "4007/4007 [==============================] - 5s 1ms/step - loss: 5.1858e-05\n",
      "Epoch 28/100\n",
      "4007/4007 [==============================] - 5s 1ms/step - loss: 5.1246e-05\n",
      "Epoch 29/100\n",
      "4007/4007 [==============================] - 5s 1ms/step - loss: 5.1944e-05\n",
      "Epoch 30/100\n",
      "4007/4007 [==============================] - 5s 1ms/step - loss: 4.8791e-05\n",
      "Epoch 31/100\n",
      "4007/4007 [==============================] - 5s 1ms/step - loss: 5.0625e-05\n",
      "Epoch 32/100\n",
      "4007/4007 [==============================] - 5s 1ms/step - loss: 4.9963e-05\n",
      "Epoch 33/100\n",
      "4007/4007 [==============================] - 5s 1ms/step - loss: 4.9467e-05\n",
      "Epoch 34/100\n",
      "4007/4007 [==============================] - 5s 1ms/step - loss: 5.0244e-05\n",
      "Epoch 35/100\n",
      "4007/4007 [==============================] - 5s 1ms/step - loss: 4.9466e-05\n",
      "Epoch 36/100\n",
      "4007/4007 [==============================] - 5s 1ms/step - loss: 5.0882e-05\n",
      "Epoch 37/100\n",
      "4007/4007 [==============================] - 5s 1ms/step - loss: 5.1792e-05\n",
      "Epoch 38/100\n",
      "4007/4007 [==============================] - 5s 1ms/step - loss: 4.8637e-05\n",
      "Epoch 39/100\n",
      "4007/4007 [==============================] - 5s 1ms/step - loss: 4.9436e-05\n",
      "Epoch 40/100\n",
      "4007/4007 [==============================] - 5s 1ms/step - loss: 4.8223e-05\n",
      "Epoch 41/100\n",
      "4007/4007 [==============================] - 5s 1ms/step - loss: 4.9738e-05\n",
      "Epoch 42/100\n",
      "4007/4007 [==============================] - 5s 1ms/step - loss: 4.9764e-05\n",
      "Epoch 43/100\n",
      "4007/4007 [==============================] - 5s 1ms/step - loss: 4.9392e-05\n",
      "Epoch 44/100\n",
      "4007/4007 [==============================] - 5s 1ms/step - loss: 5.0895e-05\n",
      "Epoch 45/100\n",
      "4007/4007 [==============================] - 5s 1ms/step - loss: 4.9485e-05\n",
      "Epoch 46/100\n",
      "4007/4007 [==============================] - 5s 1ms/step - loss: 4.8342e-05\n",
      "Epoch 47/100\n",
      "4007/4007 [==============================] - 5s 1ms/step - loss: 4.8630e-05\n",
      "Epoch 48/100\n",
      "4007/4007 [==============================] - 5s 1ms/step - loss: 4.7875e-05\n",
      "Epoch 49/100\n",
      "4007/4007 [==============================] - 5s 1ms/step - loss: 4.8229e-05\n",
      "Epoch 50/100\n",
      "4007/4007 [==============================] - 5s 1ms/step - loss: 4.8704e-05\n",
      "Epoch 51/100\n",
      "4007/4007 [==============================] - 5s 1ms/step - loss: 4.9248e-05\n",
      "Epoch 52/100\n",
      "4007/4007 [==============================] - 5s 1ms/step - loss: 4.6962e-05\n",
      "Epoch 53/100\n",
      "4007/4007 [==============================] - 5s 1ms/step - loss: 5.0017e-05\n",
      "Epoch 54/100\n",
      "4007/4007 [==============================] - 5s 1ms/step - loss: 4.8613e-05\n",
      "Epoch 55/100\n",
      "4007/4007 [==============================] - 5s 1ms/step - loss: 4.8826e-05\n",
      "Epoch 56/100\n",
      "4007/4007 [==============================] - 5s 1ms/step - loss: 4.9129e-05\n",
      "Epoch 57/100\n",
      "4007/4007 [==============================] - 5s 1ms/step - loss: 4.7811e-05\n",
      "Epoch 58/100\n",
      "4007/4007 [==============================] - 5s 1ms/step - loss: 4.9202e-05\n",
      "Epoch 59/100\n",
      "4007/4007 [==============================] - 5s 1ms/step - loss: 4.7159e-05\n",
      "Epoch 60/100\n",
      "4007/4007 [==============================] - 5s 1ms/step - loss: 4.6872e-05\n",
      "Epoch 61/100\n",
      "4007/4007 [==============================] - 5s 1ms/step - loss: 4.8531e-05\n",
      "Epoch 62/100\n",
      "4007/4007 [==============================] - 5s 1ms/step - loss: 4.8547e-05\n",
      "Epoch 63/100\n",
      "4007/4007 [==============================] - 5s 1ms/step - loss: 4.8090e-05\n",
      "Epoch 64/100\n",
      "4007/4007 [==============================] - 5s 1ms/step - loss: 4.7964e-05\n",
      "Epoch 65/100\n",
      "4007/4007 [==============================] - 5s 1ms/step - loss: 4.6859e-05\n",
      "Epoch 66/100\n",
      "4007/4007 [==============================] - 5s 1ms/step - loss: 4.8504e-05\n",
      "Epoch 67/100\n",
      "4007/4007 [==============================] - 5s 1ms/step - loss: 4.7140e-05\n",
      "Epoch 68/100\n",
      "4007/4007 [==============================] - 5s 1ms/step - loss: 4.6575e-05\n",
      "Epoch 69/100\n",
      "4007/4007 [==============================] - 5s 1ms/step - loss: 4.7879e-05\n",
      "Epoch 70/100\n",
      "4007/4007 [==============================] - 5s 1ms/step - loss: 4.6669e-05\n",
      "Epoch 71/100\n",
      "4007/4007 [==============================] - 5s 1ms/step - loss: 4.6397e-05\n",
      "Epoch 72/100\n",
      "4007/4007 [==============================] - 5s 1ms/step - loss: 4.5110e-05\n",
      "Epoch 73/100\n",
      "4007/4007 [==============================] - 5s 1ms/step - loss: 4.6806e-05\n",
      "Epoch 74/100\n",
      "4007/4007 [==============================] - 5s 1ms/step - loss: 4.6539e-05\n",
      "Epoch 75/100\n",
      "4007/4007 [==============================] - 5s 1ms/step - loss: 4.5336e-05\n",
      "Epoch 76/100\n",
      "4007/4007 [==============================] - 5s 1ms/step - loss: 4.7333e-05\n",
      "Epoch 77/100\n",
      "4007/4007 [==============================] - 5s 1ms/step - loss: 4.5536e-05\n",
      "Epoch 78/100\n",
      "4007/4007 [==============================] - 5s 1ms/step - loss: 4.7696e-05\n",
      "Epoch 79/100\n",
      "4007/4007 [==============================] - 5s 1ms/step - loss: 4.6186e-05\n",
      "Epoch 80/100\n",
      "4007/4007 [==============================] - 5s 1ms/step - loss: 4.6608e-05\n",
      "Epoch 81/100\n",
      "4007/4007 [==============================] - 5s 1ms/step - loss: 4.5577e-05\n",
      "Epoch 82/100\n",
      "4007/4007 [==============================] - 5s 1ms/step - loss: 4.6688e-05\n",
      "Epoch 83/100\n",
      "4007/4007 [==============================] - 5s 1ms/step - loss: 4.5260e-05\n",
      "Epoch 84/100\n",
      "4007/4007 [==============================] - 5s 1ms/step - loss: 4.6485e-05\n",
      "Epoch 85/100\n",
      "4007/4007 [==============================] - 5s 1ms/step - loss: 4.7432e-05\n",
      "Epoch 86/100\n",
      "4007/4007 [==============================] - 5s 1ms/step - loss: 4.5492e-05\n",
      "Epoch 87/100\n",
      "4007/4007 [==============================] - 5s 1ms/step - loss: 4.6580e-05\n",
      "Epoch 88/100\n",
      "4007/4007 [==============================] - 5s 1ms/step - loss: 4.7625e-05\n",
      "Epoch 89/100\n",
      "4007/4007 [==============================] - 5s 1ms/step - loss: 4.6229e-05\n",
      "Epoch 90/100\n",
      "4007/4007 [==============================] - 5s 1ms/step - loss: 4.5893e-05\n",
      "Epoch 91/100\n",
      "4007/4007 [==============================] - 5s 1ms/step - loss: 4.5276e-05\n",
      "Epoch 92/100\n",
      "4007/4007 [==============================] - 5s 1ms/step - loss: 4.5919e-05\n",
      "Epoch 93/100\n",
      "4007/4007 [==============================] - 5s 1ms/step - loss: 4.6632e-05\n",
      "Epoch 94/100\n",
      "4007/4007 [==============================] - 5s 1ms/step - loss: 4.6539e-05\n",
      "Epoch 95/100\n",
      "4007/4007 [==============================] - 5s 1ms/step - loss: 4.5676e-05\n",
      "Epoch 96/100\n",
      "4007/4007 [==============================] - 5s 1ms/step - loss: 4.4218e-05\n",
      "Epoch 97/100\n",
      "4007/4007 [==============================] - 5s 1ms/step - loss: 4.5870e-05\n",
      "Epoch 98/100\n",
      "4007/4007 [==============================] - 5s 1ms/step - loss: 4.6540e-05\n",
      "Epoch 99/100\n",
      "4007/4007 [==============================] - 5s 1ms/step - loss: 4.5633e-05\n",
      "Epoch 100/100\n",
      "4007/4007 [==============================] - 5s 1ms/step - loss: 4.5477e-05\n"
     ]
    },
    {
     "data": {
      "text/plain": [
       "<keras.callbacks.History at 0x7fbf4e3be0d0>"
      ]
     },
     "execution_count": 31,
     "metadata": {},
     "output_type": "execute_result"
    }
   ],
   "source": [
    "model.fit(batches, y_train[batch_size-1:], batch_size=batch_size, epochs=100)"
   ]
  },
  {
   "cell_type": "code",
   "execution_count": 32,
   "metadata": {},
   "outputs": [],
   "source": [
    "def unpack_weights(model):\n",
    "    # Get the weights from the model\n",
    "    weights = model.get_weights()\n",
    "\n",
    "    # Initialize an empty list to store the flattened weights\n",
    "    flattened_weights = []\n",
    "\n",
    "    # Loop over each weight array in the list of weights\n",
    "    for weight_array in weights:\n",
    "        # Flatten the weight array and append it to the list\n",
    "        flattened_weights.append(weight_array.flatten())\n",
    "\n",
    "    # Concatenate all the flattened weight arrays into a single numpy array\n",
    "    unpacked_weights = np.concatenate(flattened_weights)\n",
    "\n",
    "    return unpacked_weights"
   ]
  },
  {
   "cell_type": "code",
   "execution_count": 33,
   "metadata": {},
   "outputs": [],
   "source": [
    "initial_positions = unpack_weights(model)"
   ]
  },
  {
   "cell_type": "markdown",
   "metadata": {},
   "source": [
    "Check whether we got as many unpacked weights as model has parameters"
   ]
  },
  {
   "cell_type": "code",
   "execution_count": 34,
   "metadata": {},
   "outputs": [
    {
     "data": {
      "text/plain": [
       "True"
      ]
     },
     "execution_count": 34,
     "metadata": {},
     "output_type": "execute_result"
    }
   ],
   "source": [
    "initial_positions.shape[0] == model.count_params()"
   ]
  },
  {
   "cell_type": "code",
   "execution_count": 35,
   "metadata": {
    "colab": {
     "base_uri": "https://localhost:8080/",
     "height": 1000
    },
    "id": "JPN3jtfiXjWS",
    "outputId": "b34cbe13-3d92-47c5-e176-c7ad62d20ad2",
    "tags": []
   },
   "outputs": [],
   "source": [
    "import random\n",
    "\n",
    "\n",
    "def evaluate_picp_pinrw(W, shape,X_train=X_train, Y_train=y_train):\n",
    "    global model, max_value\n",
    "    results = []\n",
    "    i = 1\n",
    "    for iteration in W:\n",
    "        print(\"=== Iteration number ===\", i)\n",
    "        #if i == 358:\n",
    "        #    break \n",
    "        i = i + 1\n",
    "            #random_number = random.randint(0, 29)\n",
    "        for weights in iteration:\n",
    "            #weights = iteration[random_number]\n",
    "            model.set_weights(set_shape(weights,shape))\n",
    "            predictions = model.predict(X_train)\n",
    "            picp = PICP(Y_train, predictions)\n",
    "            pinrw = PINRW(predictions)\n",
    "            results.append([picp.numpy(), pinrw.numpy()])\n",
    "    return results"
   ]
  },
  {
   "cell_type": "code",
   "execution_count": 36,
   "metadata": {
    "colab": {
     "base_uri": "https://localhost:8080/",
     "height": 1000
    },
    "id": "JPN3jtfiXjWS",
    "outputId": "b34cbe13-3d92-47c5-e176-c7ad62d20ad2",
    "tags": []
   },
   "outputs": [],
   "source": [
    "shape = get_shape(model)"
   ]
  },
  {
   "cell_type": "code",
   "execution_count": 37,
   "metadata": {},
   "outputs": [],
   "source": [
    "n_particles = 60 #number of particles of PSO"
   ]
  },
  {
   "cell_type": "code",
   "execution_count": 38,
   "metadata": {},
   "outputs": [],
   "source": [
    "# Generate the random initial positions for all n_particles points\n",
    "initial_positions1 = np.random.uniform(-0.01, 0.01, size=(n_particles, model.count_params()))"
   ]
  },
  {
   "cell_type": "code",
   "execution_count": 39,
   "metadata": {},
   "outputs": [],
   "source": [
    "initial_positions1 += initial_positions"
   ]
  },
  {
   "cell_type": "code",
   "execution_count": 40,
   "metadata": {
    "tags": []
   },
   "outputs": [],
   "source": [
    "options = {'c1': 1.5, 'c2': 1.5, 'w': 0.5}\n",
    "optimizer = GlobalBestPSO(n_particles= n_particles, dimensions=model.count_params(), init_pos = initial_positions1,\n",
    "                          options=options)#, bounds=bounds)#, velocity_clamp = vel_bounds)"
   ]
  },
  {
   "cell_type": "markdown",
   "metadata": {
    "tags": []
   },
   "source": [
    "Execute if you wish to perform the new search with PSO"
   ]
  },
  {
   "cell_type": "code",
   "execution_count": 41,
   "metadata": {},
   "outputs": [
    {
     "data": {
      "text/plain": [
       "True"
      ]
     },
     "execution_count": 41,
     "metadata": {},
     "output_type": "execute_result"
    }
   ],
   "source": [
    "tf.executing_eagerly()"
   ]
  },
  {
   "cell_type": "code",
   "execution_count": null,
   "metadata": {
    "scrolled": true,
    "tags": []
   },
   "outputs": [],
   "source": [
    "cost, pos = optimizer.optimize(evaluate_nn, 60, X_train=batches, Y_train=y_train,shape=shape)"
   ]
  },
  {
   "cell_type": "code",
   "execution_count": 43,
   "metadata": {},
   "outputs": [
    {
     "data": {
      "text/plain": [
       "(10573,)"
      ]
     },
     "execution_count": 43,
     "metadata": {},
     "output_type": "execute_result"
    }
   ],
   "source": [
    "pos.shape"
   ]
  },
  {
   "cell_type": "code",
   "execution_count": 44,
   "metadata": {},
   "outputs": [],
   "source": [
    "df = pd.DataFrame(pos)\n",
    "df.to_csv('best_pos.csv', index=False)"
   ]
  },
  {
   "cell_type": "code",
   "execution_count": 45,
   "metadata": {
    "tags": []
   },
   "outputs": [],
   "source": [
    "model.set_weights(set_shape(pos,shape))"
   ]
  },
  {
   "cell_type": "markdown",
   "metadata": {},
   "source": [
    "Execute if you wish to save the search сost history in a local file:"
   ]
  },
  {
   "cell_type": "code",
   "execution_count": 46,
   "metadata": {},
   "outputs": [],
   "source": [
    "import pandas as pd\n",
    "\n",
    "cost_history = optimizer.cost_history\n",
    "\n",
    "df = pd.DataFrame(cost_history)\n",
    "df.to_csv('cost_history.csv', index=False)"
   ]
  },
  {
   "cell_type": "markdown",
   "metadata": {},
   "source": [
    "Execute if you wish to save the search positions history in a local file:"
   ]
  },
  {
   "cell_type": "code",
   "execution_count": 47,
   "metadata": {},
   "outputs": [],
   "source": [
    "pos_history = optimizer.pos_history\n",
    "\n",
    "# Reshape pos_history to a 2D array\n",
    "pos_history_2d = np.array(pos_history).reshape((-1, len(pos_history[0])))\n",
    "\n",
    "df = pd.DataFrame(pos_history_2d)\n",
    "df.to_csv('pos_history.csv', index=False)\n",
    "\n"
   ]
  },
  {
   "cell_type": "markdown",
   "metadata": {},
   "source": [
    "Execute if you wish to read the precomputed positions history from a local file:"
   ]
  },
  {
   "cell_type": "code",
   "execution_count": null,
   "metadata": {},
   "outputs": [],
   "source": [
    "# Read the pos_history.csv file\n",
    "df = pd.read_csv('pos_history.csv')\n",
    "\n",
    "# Convert the DataFrame back to a 2D array\n",
    "pos_history_2d = df.to_numpy()\n",
    "\n",
    "# Reshape the 2D array to the desired shape\n",
    "pos_history = pos_history_2d.reshape((1300, 30, 26))\n"
   ]
  },
  {
   "cell_type": "markdown",
   "metadata": {},
   "source": [
    "<H1> Predictions section:"
   ]
  },
  {
   "cell_type": "code",
   "execution_count": 49,
   "metadata": {
    "id": "r8nSt7LN4pTd"
   },
   "outputs": [
    {
     "name": "stdout",
     "output_type": "stream",
     "text": [
      "32/32 [==============================] - 2s 5ms/step\n"
     ]
    }
   ],
   "source": [
    "y_pred = model.predict(batches_test)\n",
    "y_pred = scaler.inverse_transform(y_pred)"
   ]
  },
  {
   "cell_type": "code",
   "execution_count": 50,
   "metadata": {
    "id": "r8nSt7LN4pTd"
   },
   "outputs": [],
   "source": [
    "y_test_plot = scaler.inverse_transform(y_test)"
   ]
  },
  {
   "cell_type": "code",
   "execution_count": 51,
   "metadata": {
    "id": "K962hhjP43uM"
   },
   "outputs": [
    {
     "data": {
      "image/png": "[encoded data removed]",
      "text/plain": [
       "<Figure size 720x432 with 1 Axes>"
      ]
     },
     "metadata": {
      "needs_background": "light"
     },
     "output_type": "display_data"
    }
   ],
   "source": [
    "# Plot the actual and predicted stock prices with the upper and lower bounds\n",
    "fig, ax = plt.subplots(figsize=(10, 6))\n",
    "\n",
    "ax.plot(test['<DATE>'][2:], y_test_plot[1:], label='Actual')\n",
    "\n",
    "ax.plot(test['<DATE>'][batch_size:], y_pred[:,0], label='LB_pred')\n",
    "ax.plot(test['<DATE>'][batch_size:], y_pred[:,1], label='UB_pred')\n",
    "\n",
    "\n",
    "ax.legend()\n",
    "ax.set_xlabel('Date')\n",
    "ax.set_ylabel('Stock Price')\n",
    "plt.xticks(rotation=90)\n",
    "plt.show()"
   ]
  },
  {
   "cell_type": "code",
   "execution_count": 53,
   "metadata": {},
   "outputs": [
    {
     "name": "stderr",
     "output_type": "stream",
     "text": [
      "2023-10-01 12:29:45,310 - matplotlib.category - INFO - Using categorical units to plot a list of strings that are all parsable as floats or dates. If these strings should be plotted as numbers, cast to the appropriate data type before plotting.\n",
      "2023-10-01 12:29:45,313 - matplotlib.category - INFO - Using categorical units to plot a list of strings that are all parsable as floats or dates. If these strings should be plotted as numbers, cast to the appropriate data type before plotting.\n",
      "2023-10-01 12:29:45,355 - matplotlib.category - INFO - Using categorical units to plot a list of strings that are all parsable as floats or dates. If these strings should be plotted as numbers, cast to the appropriate data type before plotting.\n",
      "2023-10-01 12:29:45,356 - matplotlib.category - INFO - Using categorical units to plot a list of strings that are all parsable as floats or dates. If these strings should be plotted as numbers, cast to the appropriate data type before plotting.\n",
      "2023-10-01 12:29:45,358 - matplotlib.category - INFO - Using categorical units to plot a list of strings that are all parsable as floats or dates. If these strings should be plotted as numbers, cast to the appropriate data type before plotting.\n",
      "2023-10-01 12:29:45,360 - matplotlib.category - INFO - Using categorical units to plot a list of strings that are all parsable as floats or dates. If these strings should be plotted as numbers, cast to the appropriate data type before plotting.\n"
     ]
    },
    {
     "data": {
      "image/png": "[encoded data removed]",
      "text/plain": [
       "<Figure size 720x432 with 1 Axes>"
      ]
     },
     "metadata": {
      "needs_background": "light"
     },
     "output_type": "display_data"
    }
   ],
   "source": [
    "fig, ax = plt.subplots(figsize=(10, 6))\n",
    "\n",
    "last_dates = ('2023-03-22','2023-03-23','2023-03-24','2023-03-27','2023-03-28','2023-03-29')\n",
    "\n",
    "ax.plot(last_dates, y_test_plot[-6:], label='Actual')\n",
    "\n",
    "ax.plot(last_dates, y_pred[-6:,0], label='LB_pred')\n",
    "ax.plot(last_dates, y_pred[-6:,1], label='UB_pred')\n",
    "\n",
    "ax.legend()\n",
    "ax.set_xlabel('Date')\n",
    "ax.set_ylabel('Stock Price')\n",
    "plt.xticks(rotation=90)\n",
    "plt.show()"
   ]
  },
  {
   "cell_type": "code",
   "execution_count": null,
   "metadata": {},
   "outputs": [],
   "source": []
  }
 ],
 "metadata": {
  "colab": {
   "provenance": []
  },
  "kernelspec": {
   "display_name": "Python 3 (ipykernel)",
   "language": "python",
   "name": "python3"
  },
  "language_info": {
   "codemirror_mode": {
    "name": "ipython",
    "version": 3
   },
   "file_extension": ".py",
   "mimetype": "text/x-python",
   "name": "python",
   "nbconvert_exporter": "python",
   "pygments_lexer": "ipython3",
   "version": "3.9.7"
  }
 },
 "nbformat": 4,
 "nbformat_minor": 4
}
