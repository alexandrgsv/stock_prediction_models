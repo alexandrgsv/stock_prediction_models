{
  "nbformat": 4,
  "nbformat_minor": 0,
  "metadata": {
    "colab": {
      "provenance": [],
      "authorship_tag": "ABX9TyMJ0j19ypszs4fwE5o0hidy",
      "include_colab_link": true
    },
    "kernelspec": {
      "name": "python3",
      "display_name": "Python 3"
    },
    "language_info": {
      "name": "python"
    }
  },
  "cells": [
    {
      "cell_type": "markdown",
      "metadata": {
        "id": "view-in-github",
        "colab_type": "text"
      },
      "source": [
        "<a href=\"https://colab.research.google.com/github/alexandrgsv/stock_prediction_models/blob/main/MMVB.ipynb\" target=\"_parent\"><img src=\"https://colab.research.google.com/assets/colab-badge.svg\" alt=\"Open In Colab\"/></a>"
      ]
    },
    {
      "cell_type": "code",
      "execution_count": 65,
      "metadata": {
        "colab": {
          "base_uri": "https://localhost:8080/"
        },
        "id": "OHW8ek9VAcP3",
        "outputId": "4f347650-f62d-4b24-f07a-0d8d06be5489"
      },
      "outputs": [
        {
          "output_type": "stream",
          "name": "stdout",
          "text": [
            "Looking in indexes: https://pypi.org/simple, https://us-python.pkg.dev/colab-wheels/public/simple/\n",
            "Requirement already satisfied: pyswarm in /usr/local/lib/python3.9/dist-packages (0.6)\n",
            "Requirement already satisfied: numpy in /usr/local/lib/python3.9/dist-packages (from pyswarm) (1.22.4)\n"
          ]
        }
      ],
      "source": [
        "!pip install pyswarm\n"
      ]
    },
    {
      "cell_type": "code",
      "source": [
        "import numpy as np\n",
        "import pandas as pd\n",
        "from sklearn.neural_network import MLPRegressor\n",
        "from pyswarm import pso\n",
        "\n",
        "# Load data from CSV file\n",
        "data = pd.read_csv('https://drive.google.com/uc?id=18RjIb6w6OXLPeKYJ-UJKUNtmY71RpP5D', header=0)\n",
        "\n",
        "data.head()"
      ],
      "metadata": {
        "colab": {
          "base_uri": "https://localhost:8080/",
          "height": 206
        },
        "id": "0lk0mRGSVEJe",
        "outputId": "98e39e72-0720-40fe-86da-b45d236a3e31"
      },
      "execution_count": 66,
      "outputs": [
        {
          "output_type": "execute_result",
          "data": {
            "text/plain": [
              "     <DATE>  <TIME>  <OPEN>    <HIGH>     <LOW>  <CLOSE>       <VOL>\n",
              "0  03/03/03       0  341.69  352.4298  341.5213   352.24  5712759495\n",
              "1  04/03/03       0  352.70  353.3022  347.5480   348.40  4050061227\n",
              "2  05/03/03       0  348.38  358.3621  345.0087   357.65  6896025518\n",
              "3  06/03/03       0  357.92  363.3684  357.6532   359.97  7538987193\n",
              "4  07/03/03       0  359.83  359.9712  354.5339   354.87  4404810487"
            ],
            "text/html": [
              "\n",
              "  <div id=\"df-7cbd868a-13fe-4751-9278-9b01a3f6dff9\">\n",
              "    <div class=\"colab-df-container\">\n",
              "      <div>\n",
              "<style scoped>\n",
              "    .dataframe tbody tr th:only-of-type {\n",
              "        vertical-align: middle;\n",
              "    }\n",
              "\n",
              "    .dataframe tbody tr th {\n",
              "        vertical-align: top;\n",
              "    }\n",
              "\n",
              "    .dataframe thead th {\n",
              "        text-align: right;\n",
              "    }\n",
              "</style>\n",
              "<table border=\"1\" class=\"dataframe\">\n",
              "  <thead>\n",
              "    <tr style=\"text-align: right;\">\n",
              "      <th></th>\n",
              "      <th>&lt;DATE&gt;</th>\n",
              "      <th>&lt;TIME&gt;</th>\n",
              "      <th>&lt;OPEN&gt;</th>\n",
              "      <th>&lt;HIGH&gt;</th>\n",
              "      <th>&lt;LOW&gt;</th>\n",
              "      <th>&lt;CLOSE&gt;</th>\n",
              "      <th>&lt;VOL&gt;</th>\n",
              "    </tr>\n",
              "  </thead>\n",
              "  <tbody>\n",
              "    <tr>\n",
              "      <th>0</th>\n",
              "      <td>03/03/03</td>\n",
              "      <td>0</td>\n",
              "      <td>341.69</td>\n",
              "      <td>352.4298</td>\n",
              "      <td>341.5213</td>\n",
              "      <td>352.24</td>\n",
              "      <td>5712759495</td>\n",
              "    </tr>\n",
              "    <tr>\n",
              "      <th>1</th>\n",
              "      <td>04/03/03</td>\n",
              "      <td>0</td>\n",
              "      <td>352.70</td>\n",
              "      <td>353.3022</td>\n",
              "      <td>347.5480</td>\n",
              "      <td>348.40</td>\n",
              "      <td>4050061227</td>\n",
              "    </tr>\n",
              "    <tr>\n",
              "      <th>2</th>\n",
              "      <td>05/03/03</td>\n",
              "      <td>0</td>\n",
              "      <td>348.38</td>\n",
              "      <td>358.3621</td>\n",
              "      <td>345.0087</td>\n",
              "      <td>357.65</td>\n",
              "      <td>6896025518</td>\n",
              "    </tr>\n",
              "    <tr>\n",
              "      <th>3</th>\n",
              "      <td>06/03/03</td>\n",
              "      <td>0</td>\n",
              "      <td>357.92</td>\n",
              "      <td>363.3684</td>\n",
              "      <td>357.6532</td>\n",
              "      <td>359.97</td>\n",
              "      <td>7538987193</td>\n",
              "    </tr>\n",
              "    <tr>\n",
              "      <th>4</th>\n",
              "      <td>07/03/03</td>\n",
              "      <td>0</td>\n",
              "      <td>359.83</td>\n",
              "      <td>359.9712</td>\n",
              "      <td>354.5339</td>\n",
              "      <td>354.87</td>\n",
              "      <td>4404810487</td>\n",
              "    </tr>\n",
              "  </tbody>\n",
              "</table>\n",
              "</div>\n",
              "      <button class=\"colab-df-convert\" onclick=\"convertToInteractive('df-7cbd868a-13fe-4751-9278-9b01a3f6dff9')\"\n",
              "              title=\"Convert this dataframe to an interactive table.\"\n",
              "              style=\"display:none;\">\n",
              "        \n",
              "  <svg xmlns=\"http://www.w3.org/2000/svg\" height=\"24px\"viewBox=\"0 0 24 24\"\n",
              "       width=\"24px\">\n",
              "    <path d=\"M0 0h24v24H0V0z\" fill=\"none\"/>\n",
              "    <path d=\"M18.56 5.44l.94 2.06.94-2.06 2.06-.94-2.06-.94-.94-2.06-.94 2.06-2.06.94zm-11 1L8.5 8.5l.94-2.06 2.06-.94-2.06-.94L8.5 2.5l-.94 2.06-2.06.94zm10 10l.94 2.06.94-2.06 2.06-.94-2.06-.94-.94-2.06-.94 2.06-2.06.94z\"/><path d=\"M17.41 7.96l-1.37-1.37c-.4-.4-.92-.59-1.43-.59-.52 0-1.04.2-1.43.59L10.3 9.45l-7.72 7.72c-.78.78-.78 2.05 0 2.83L4 21.41c.39.39.9.59 1.41.59.51 0 1.02-.2 1.41-.59l7.78-7.78 2.81-2.81c.8-.78.8-2.07 0-2.86zM5.41 20L4 18.59l7.72-7.72 1.47 1.35L5.41 20z\"/>\n",
              "  </svg>\n",
              "      </button>\n",
              "      \n",
              "  <style>\n",
              "    .colab-df-container {\n",
              "      display:flex;\n",
              "      flex-wrap:wrap;\n",
              "      gap: 12px;\n",
              "    }\n",
              "\n",
              "    .colab-df-convert {\n",
              "      background-color: #E8F0FE;\n",
              "      border: none;\n",
              "      border-radius: 50%;\n",
              "      cursor: pointer;\n",
              "      display: none;\n",
              "      fill: #1967D2;\n",
              "      height: 32px;\n",
              "      padding: 0 0 0 0;\n",
              "      width: 32px;\n",
              "    }\n",
              "\n",
              "    .colab-df-convert:hover {\n",
              "      background-color: #E2EBFA;\n",
              "      box-shadow: 0px 1px 2px rgba(60, 64, 67, 0.3), 0px 1px 3px 1px rgba(60, 64, 67, 0.15);\n",
              "      fill: #174EA6;\n",
              "    }\n",
              "\n",
              "    [theme=dark] .colab-df-convert {\n",
              "      background-color: #3B4455;\n",
              "      fill: #D2E3FC;\n",
              "    }\n",
              "\n",
              "    [theme=dark] .colab-df-convert:hover {\n",
              "      background-color: #434B5C;\n",
              "      box-shadow: 0px 1px 3px 1px rgba(0, 0, 0, 0.15);\n",
              "      filter: drop-shadow(0px 1px 2px rgba(0, 0, 0, 0.3));\n",
              "      fill: #FFFFFF;\n",
              "    }\n",
              "  </style>\n",
              "\n",
              "      <script>\n",
              "        const buttonEl =\n",
              "          document.querySelector('#df-7cbd868a-13fe-4751-9278-9b01a3f6dff9 button.colab-df-convert');\n",
              "        buttonEl.style.display =\n",
              "          google.colab.kernel.accessAllowed ? 'block' : 'none';\n",
              "\n",
              "        async function convertToInteractive(key) {\n",
              "          const element = document.querySelector('#df-7cbd868a-13fe-4751-9278-9b01a3f6dff9');\n",
              "          const dataTable =\n",
              "            await google.colab.kernel.invokeFunction('convertToInteractive',\n",
              "                                                     [key], {});\n",
              "          if (!dataTable) return;\n",
              "\n",
              "          const docLinkHtml = 'Like what you see? Visit the ' +\n",
              "            '<a target=\"_blank\" href=https://colab.research.google.com/notebooks/data_table.ipynb>data table notebook</a>'\n",
              "            + ' to learn more about interactive tables.';\n",
              "          element.innerHTML = '';\n",
              "          dataTable['output_type'] = 'display_data';\n",
              "          await google.colab.output.renderOutput(dataTable, element);\n",
              "          const docLink = document.createElement('div');\n",
              "          docLink.innerHTML = docLinkHtml;\n",
              "          element.appendChild(docLink);\n",
              "        }\n",
              "      </script>\n",
              "    </div>\n",
              "  </div>\n",
              "  "
            ]
          },
          "metadata": {},
          "execution_count": 66
        }
      ]
    },
    {
      "cell_type": "code",
      "source": [
        "# Convert date strings to datetime objects\n",
        "data['<DATE>'] = pd.to_datetime(data['<DATE>'], format='%d/%m/%y')\n",
        "\n",
        "# Sort data by date\n",
        "data = data.sort_values('<DATE>')\n",
        "\n",
        "# Convert closing prices to a numpy array\n",
        "values = data['<CLOSE>'].values\n",
        "\n",
        "from sklearn.preprocessing import MinMaxScaler\n",
        "\n",
        "scaler = MinMaxScaler(feature_range=(0, 1))\n",
        "values = values.reshape(-1,1)\n",
        "values = scaler.fit_transform(values)\n",
        "\n"
      ],
      "metadata": {
        "id": "ceY8IvpgWPGc"
      },
      "execution_count": 67,
      "outputs": []
    },
    {
      "cell_type": "code",
      "source": [
        "# Split data into training and testing sets\n",
        "split_idx = int(0.99 * len(values))\n",
        "train_data = values[:split_idx]\n",
        "test_data = values[split_idx+1:]\n",
        "\n",
        "test_X_labels = data['<DATE>'].iloc[split_idx+1:-1]\n"
      ],
      "metadata": {
        "id": "NrpNHjEAxnIK"
      },
      "execution_count": 68,
      "outputs": []
    },
    {
      "cell_type": "code",
      "source": [
        "# Reshape data for input to MLPRegressor\n",
        "train_X = train_data[:-1].reshape(-1, 1)\n",
        "train_y = train_data[1:].reshape(-1, 1)\n",
        "\n",
        "test_X = test_data[:-1].reshape(-1, 1)\n",
        "test_y = test_data[1:].reshape(-1, 1)\n",
        "\n",
        "def constraint_function(x, ieqcons):\n",
        "    return np.min(ieqcons(x))\n",
        "\n",
        "\n",
        "# Define function to optimize\n",
        "def objective_function(params, train_X, train_y):\n",
        "    # Create ANN with specified parameters\n",
        "    hidden_layer_sizes = (int(params[0]), int(params[1]))\n",
        "    activation = 'relu' if params[2] < 0.5 else 'logistic'\n",
        "    solver = 'adam' if params[3] < 0.5 else 'lbfgs'\n",
        "    alpha = 10.0 ** -params[4]\n",
        "    learning_rate_init = 10.0 ** -params[5]\n",
        "    model = MLPRegressor(hidden_layer_sizes=hidden_layer_sizes, activation=activation, solver=solver, alpha=alpha, learning_rate_init=learning_rate_init)\n",
        "\n",
        "    # Train ANN and evaluate performance\n",
        "    model.fit(train_X, train_y.ravel())\n",
        "    y_pred = model.predict(test_X)\n",
        "    mse = np.mean((test_y - y_pred) ** 2)\n",
        "    return mse\n",
        "\n",
        "# Define optimization bounds and initial guess\n",
        "lb = [1, 1, 0, 0, -5, -5]\n",
        "ub = [10, 10, 1, 1, 0, 0]\n",
        "x0 = np.array([5, 5, 0.5, 0.5, -2.5, -2.5])\n",
        "\n",
        "def constraints(x, train_X, train_y):\n",
        "  return x[0] - x[1], x[1] - x[2] \n",
        "\n",
        "\n",
        "# Optimize function using FIPSO\n",
        "params, _ = pso(objective_function, lb, ub, ieqcons=[constraints], f_ieqcons=None, args=(train_X, train_y), swarmsize=40, maxiter=50, debug=True)\n",
        "\n",
        "\n",
        "# Create final ANN with optimized parameters\n",
        "hidden_layer_sizes = (int(params[0]), int(params[1]))\n",
        "activation = 'relu' if params[2] < 0.5 else 'logistic'\n",
        "solver = 'adam' if params[3] < 0.5 else 'lbfgs'\n",
        "alpha = 10.0 ** -params[4]\n",
        "learning_rate_init = 10.0 ** -params[5]\n",
        "model = MLPRegressor(hidden_layer_sizes=hidden_layer_sizes, activation=activation, solver=solver, alpha=alpha, learning_rate_init=learning_rate_init)\n",
        "\n",
        "# Train final ANN and predict closing prices intervals\n",
        "model.fit(train_X, train_y)\n",
        "y_pred = model.predict(test_X)\n"
      ],
      "metadata": {
        "colab": {
          "base_uri": "https://localhost:8080/"
        },
        "id": "AZSkb5HnfU2e",
        "outputId": "ea82794c-9b7e-4455-b6b5-76bffbabfd6a"
      },
      "execution_count": 70,
      "outputs": [
        {
          "output_type": "stream",
          "name": "stdout",
          "text": [
            "Converting ieqcons to a single constraint function\n"
          ]
        },
        {
          "output_type": "stream",
          "name": "stderr",
          "text": [
            "/usr/local/lib/python3.9/dist-packages/sklearn/neural_network/_multilayer_perceptron.py:686: ConvergenceWarning: Stochastic Optimizer: Maximum iterations (200) reached and the optimization hasn't converged yet.\n",
            "  warnings.warn(\n"
          ]
        },
        {
          "output_type": "stream",
          "name": "stdout",
          "text": [
            "New best for swarm at iteration 1: [ 7.37530904  1.          0.86800615  0.8932338  -0.13815902 -0.73001174] 0.0007541885771727447\n"
          ]
        },
        {
          "output_type": "stream",
          "name": "stderr",
          "text": [
            "/usr/local/lib/python3.9/dist-packages/sklearn/neural_network/_multilayer_perceptron.py:686: ConvergenceWarning: Stochastic Optimizer: Maximum iterations (200) reached and the optimization hasn't converged yet.\n",
            "  warnings.warn(\n"
          ]
        },
        {
          "output_type": "stream",
          "name": "stdout",
          "text": [
            "New best for swarm at iteration 1: [5.16604407 3.35344416 0.83170905 0.88620101 0.         0.        ] 0.0007450110227937467\n"
          ]
        },
        {
          "output_type": "stream",
          "name": "stderr",
          "text": [
            "/usr/local/lib/python3.9/dist-packages/sklearn/neural_network/_multilayer_perceptron.py:686: ConvergenceWarning: Stochastic Optimizer: Maximum iterations (200) reached and the optimization hasn't converged yet.\n",
            "  warnings.warn(\n",
            "/usr/local/lib/python3.9/dist-packages/sklearn/neural_network/_multilayer_perceptron.py:686: ConvergenceWarning: Stochastic Optimizer: Maximum iterations (200) reached and the optimization hasn't converged yet.\n",
            "  warnings.warn(\n"
          ]
        },
        {
          "output_type": "stream",
          "name": "stdout",
          "text": [
            "Best after iteration 1: [5.16604407 3.35344416 0.83170905 0.88620101 0.         0.        ] 0.0007450110227937467\n",
            "New best for swarm at iteration 2: [6.23562102 2.92604969 1.         1.         0.         0.        ] 0.0007431824009101204\n",
            "New best for swarm at iteration 2: [10.          3.92200052  1.          0.98967094  0.         -1.69005719] 0.0007353534593354859\n",
            "Best after iteration 2: [10.          3.92200052  1.          0.98967094  0.         -1.69005719] 0.0007353534593354859\n",
            "Best after iteration 3: [10.          3.92200052  1.          0.98967094  0.         -1.69005719] 0.0007353534593354859\n",
            "New best for swarm at iteration 4: [10.          3.93816023  0.56734198  1.          0.         -0.36297069] 0.0007341354264595378\n",
            "Best after iteration 4: [10.          3.93816023  0.56734198  1.          0.         -0.36297069] 0.0007341354264595378\n",
            "Best after iteration 5: [10.          3.93816023  0.56734198  1.          0.         -0.36297069] 0.0007341354264595378\n",
            "New best for swarm at iteration 6: [10.          4.87152543  0.60934138  0.94706419  0.         -2.10712696] 0.000730562677284875\n",
            "Best after iteration 6: [10.          4.87152543  0.60934138  0.94706419  0.         -2.10712696] 0.000730562677284875\n"
          ]
        },
        {
          "output_type": "stream",
          "name": "stderr",
          "text": [
            "/usr/local/lib/python3.9/dist-packages/sklearn/neural_network/_multilayer_perceptron.py:686: ConvergenceWarning: Stochastic Optimizer: Maximum iterations (200) reached and the optimization hasn't converged yet.\n",
            "  warnings.warn(\n"
          ]
        },
        {
          "output_type": "stream",
          "name": "stdout",
          "text": [
            "Best after iteration 7: [10.          4.87152543  0.60934138  0.94706419  0.         -2.10712696] 0.000730562677284875\n",
            "New best for swarm at iteration 8: [ 7.9239734   4.35456338  0.69348962  0.96122262  0.         -1.41289882] 0.0007277015102136685\n",
            "Best after iteration 8: [ 7.9239734   4.35456338  0.69348962  0.96122262  0.         -1.41289882] 0.0007277015102136685\n"
          ]
        },
        {
          "output_type": "stream",
          "name": "stderr",
          "text": [
            "/usr/local/lib/python3.9/dist-packages/sklearn/neural_network/_multilayer_perceptron.py:686: ConvergenceWarning: Stochastic Optimizer: Maximum iterations (200) reached and the optimization hasn't converged yet.\n",
            "  warnings.warn(\n"
          ]
        },
        {
          "output_type": "stream",
          "name": "stdout",
          "text": [
            "Best after iteration 9: [ 7.9239734   4.35456338  0.69348962  0.96122262  0.         -1.41289882] 0.0007277015102136685\n",
            "Best after iteration 10: [ 7.9239734   4.35456338  0.69348962  0.96122262  0.         -1.41289882] 0.0007277015102136685\n",
            "Best after iteration 11: [ 7.9239734   4.35456338  0.69348962  0.96122262  0.         -1.41289882] 0.0007277015102136685\n",
            "Best after iteration 12: [ 7.9239734   4.35456338  0.69348962  0.96122262  0.         -1.41289882] 0.0007277015102136685\n",
            "Best after iteration 13: [ 7.9239734   4.35456338  0.69348962  0.96122262  0.         -1.41289882] 0.0007277015102136685\n",
            "Best after iteration 14: [ 7.9239734   4.35456338  0.69348962  0.96122262  0.         -1.41289882] 0.0007277015102136685\n",
            "New best for swarm at iteration 15: [ 8.17138974  4.25869408  0.7224892   0.9644388   0.         -1.40267678] 0.0007258443042899116\n",
            "Best after iteration 15: [ 8.17138974  4.25869408  0.7224892   0.9644388   0.         -1.40267678] 0.0007258443042899116\n",
            "Best after iteration 16: [ 8.17138974  4.25869408  0.7224892   0.9644388   0.         -1.40267678] 0.0007258443042899116\n",
            "Best after iteration 17: [ 8.17138974  4.25869408  0.7224892   0.9644388   0.         -1.40267678] 0.0007258443042899116\n",
            "Best after iteration 18: [ 8.17138974  4.25869408  0.7224892   0.9644388   0.         -1.40267678] 0.0007258443042899116\n",
            "Best after iteration 19: [ 8.17138974  4.25869408  0.7224892   0.9644388   0.         -1.40267678] 0.0007258443042899116\n",
            "Best after iteration 20: [ 8.17138974  4.25869408  0.7224892   0.9644388   0.         -1.40267678] 0.0007258443042899116\n",
            "Best after iteration 21: [ 8.17138974  4.25869408  0.7224892   0.9644388   0.         -1.40267678] 0.0007258443042899116\n",
            "Best after iteration 22: [ 8.17138974  4.25869408  0.7224892   0.9644388   0.         -1.40267678] 0.0007258443042899116\n",
            "Best after iteration 23: [ 8.17138974  4.25869408  0.7224892   0.9644388   0.         -1.40267678] 0.0007258443042899116\n",
            "Best after iteration 24: [ 8.17138974  4.25869408  0.7224892   0.9644388   0.         -1.40267678] 0.0007258443042899116\n",
            "Best after iteration 25: [ 8.17138974  4.25869408  0.7224892   0.9644388   0.         -1.40267678] 0.0007258443042899116\n",
            "New best for swarm at iteration 26: [ 8.36857644  4.19632682  0.72506764  0.97008548  0.         -1.44041729] 0.000721753277302154\n",
            "Best after iteration 26: [ 8.36857644  4.19632682  0.72506764  0.97008548  0.         -1.44041729] 0.000721753277302154\n",
            "Best after iteration 27: [ 8.36857644  4.19632682  0.72506764  0.97008548  0.         -1.44041729] 0.000721753277302154\n",
            "Best after iteration 28: [ 8.36857644  4.19632682  0.72506764  0.97008548  0.         -1.44041729] 0.000721753277302154\n",
            "Best after iteration 29: [ 8.36857644  4.19632682  0.72506764  0.97008548  0.         -1.44041729] 0.000721753277302154\n",
            "Best after iteration 30: [ 8.36857644  4.19632682  0.72506764  0.97008548  0.         -1.44041729] 0.000721753277302154\n",
            "Best after iteration 31: [ 8.36857644  4.19632682  0.72506764  0.97008548  0.         -1.44041729] 0.000721753277302154\n",
            "Best after iteration 32: [ 8.36857644  4.19632682  0.72506764  0.97008548  0.         -1.44041729] 0.000721753277302154\n",
            "Best after iteration 33: [ 8.36857644  4.19632682  0.72506764  0.97008548  0.         -1.44041729] 0.000721753277302154\n",
            "Best after iteration 34: [ 8.36857644  4.19632682  0.72506764  0.97008548  0.         -1.44041729] 0.000721753277302154\n",
            "Best after iteration 35: [ 8.36857644  4.19632682  0.72506764  0.97008548  0.         -1.44041729] 0.000721753277302154\n",
            "Best after iteration 36: [ 8.36857644  4.19632682  0.72506764  0.97008548  0.         -1.44041729] 0.000721753277302154\n",
            "Best after iteration 37: [ 8.36857644  4.19632682  0.72506764  0.97008548  0.         -1.44041729] 0.000721753277302154\n",
            "Best after iteration 38: [ 8.36857644  4.19632682  0.72506764  0.97008548  0.         -1.44041729] 0.000721753277302154\n",
            "Best after iteration 39: [ 8.36857644  4.19632682  0.72506764  0.97008548  0.         -1.44041729] 0.000721753277302154\n",
            "Best after iteration 40: [ 8.36857644  4.19632682  0.72506764  0.97008548  0.         -1.44041729] 0.000721753277302154\n",
            "Best after iteration 41: [ 8.36857644  4.19632682  0.72506764  0.97008548  0.         -1.44041729] 0.000721753277302154\n",
            "Best after iteration 42: [ 8.36857644  4.19632682  0.72506764  0.97008548  0.         -1.44041729] 0.000721753277302154\n",
            "Best after iteration 43: [ 8.36857644  4.19632682  0.72506764  0.97008548  0.         -1.44041729] 0.000721753277302154\n",
            "Best after iteration 44: [ 8.36857644  4.19632682  0.72506764  0.97008548  0.         -1.44041729] 0.000721753277302154\n",
            "Best after iteration 45: [ 8.36857644  4.19632682  0.72506764  0.97008548  0.         -1.44041729] 0.000721753277302154\n",
            "Best after iteration 46: [ 8.36857644  4.19632682  0.72506764  0.97008548  0.         -1.44041729] 0.000721753277302154\n",
            "Best after iteration 47: [ 8.36857644  4.19632682  0.72506764  0.97008548  0.         -1.44041729] 0.000721753277302154\n",
            "Best after iteration 48: [ 8.36857644  4.19632682  0.72506764  0.97008548  0.         -1.44041729] 0.000721753277302154\n",
            "Best after iteration 49: [ 8.36857644  4.19632682  0.72506764  0.97008548  0.         -1.44041729] 0.000721753277302154\n",
            "Best after iteration 50: [ 8.36857644  4.19632682  0.72506764  0.97008548  0.         -1.44041729] 0.000721753277302154\n",
            "Stopping search: maximum iterations reached --> 50\n"
          ]
        },
        {
          "output_type": "stream",
          "name": "stderr",
          "text": [
            "/usr/local/lib/python3.9/dist-packages/sklearn/neural_network/_multilayer_perceptron.py:1623: DataConversionWarning: A column-vector y was passed when a 1d array was expected. Please change the shape of y to (n_samples, ), for example using ravel().\n",
            "  y = column_or_1d(y, warn=True)\n"
          ]
        }
      ]
    },
    {
      "cell_type": "code",
      "source": [
        "import matplotlib.pyplot as plt\n",
        "\n",
        "# Train final ANN and predict closing prices\n",
        "model.fit(train_X, train_y)\n",
        "y_pred = model.predict(test_X)\n",
        "\n",
        "# Visualize predicted vs actual prices\n",
        "plt.figure(figsize=(12, 6))\n",
        "plt.plot(test_X_labels, scaler.inverse_transform(y_pred.reshape(-1,1)), label='Predicted')\n",
        "plt.plot(test_X_labels, scaler.inverse_transform(test_y.reshape(-1,1)), label='Actual')\n",
        "plt.xlabel('Time intervals')\n",
        "plt.ylabel('Price')\n",
        "plt.title('Predicted vs Actual Prices')\n",
        "plt.legend()\n",
        "plt.show()"
      ],
      "metadata": {
        "colab": {
          "base_uri": "https://localhost:8080/",
          "height": 460
        },
        "id": "KhxmyyoFWOJa",
        "outputId": "f56535ec-9a15-4c34-aa9d-ea45708d3823"
      },
      "execution_count": 71,
      "outputs": [
        {
          "output_type": "stream",
          "name": "stderr",
          "text": [
            "/usr/local/lib/python3.9/dist-packages/sklearn/neural_network/_multilayer_perceptron.py:1623: DataConversionWarning: A column-vector y was passed when a 1d array was expected. Please change the shape of y to (n_samples, ), for example using ravel().\n",
            "  y = column_or_1d(y, warn=True)\n"
          ]
        },
        {
          "output_type": "display_data",
          "data": {
            "text/plain": [
              "<Figure size 864x432 with 1 Axes>"
            ],
            "image/png": "[encoded data removed]"
          },
          "metadata": {
            "needs_background": "light"
          }
        }
      ]
    },
    {
      "cell_type": "code",
      "source": [
        "# Let us see in the future for 60 days\n",
        "\n",
        "from datetime import datetime, timedelta\n",
        "\n",
        "# set the new start date\n",
        "start_date = datetime(2023, 3, 30)\n",
        "\n",
        "# set the end date\n",
        "end_date = start_date + timedelta(days=60)\n",
        "\n",
        "# create an array of dates using date_range function\n",
        "date_array = pd.date_range(start=start_date, end=end_date)\n",
        "\n",
        "date_array = date_array.to_numpy().astype('datetime64[D]')\n"
      ],
      "metadata": {
        "id": "lB0rBtkjUDUn"
      },
      "execution_count": 124,
      "outputs": []
    },
    {
      "cell_type": "code",
      "source": [
        "all_X = values[:-1].reshape(-1, 1)\n",
        "all_Y = values[1:].reshape(-1, 1)"
      ],
      "metadata": {
        "id": "hVQY7fTJVTJn"
      },
      "execution_count": 125,
      "outputs": []
    },
    {
      "cell_type": "code",
      "source": [
        "# Train final ANN on all the data available and predict closing prices\n",
        "\n",
        "model.fit(all_X, all_Y)\n",
        "\n",
        "y_final = all_Y[-1]\n",
        "\n",
        "y_pred = np.array([])\n",
        "\n",
        "for i in range(61):\n",
        "  y_final = model.predict(y_final.reshape(-1,1))\n",
        "  y_pred = np.append(y_pred, y_final)"
      ],
      "metadata": {
        "colab": {
          "base_uri": "https://localhost:8080/"
        },
        "id": "pYw3QRrBZrVW",
        "outputId": "10d3b105-7eb2-4b6e-9fa7-c8bf213888ac"
      },
      "execution_count": 126,
      "outputs": [
        {
          "output_type": "stream",
          "name": "stderr",
          "text": [
            "/usr/local/lib/python3.9/dist-packages/sklearn/neural_network/_multilayer_perceptron.py:1623: DataConversionWarning: A column-vector y was passed when a 1d array was expected. Please change the shape of y to (n_samples, ), for example using ravel().\n",
            "  y = column_or_1d(y, warn=True)\n"
          ]
        }
      ]
    },
    {
      "cell_type": "code",
      "source": [
        "# Visualize predicted prices\n",
        "plt.figure(figsize=(12, 6))\n",
        "plt.plot(date_array, scaler.inverse_transform(y_pred.reshape(-1,1)), label='Predicted')\n",
        "plt.xlabel('Time intervals')\n",
        "plt.ylabel('Price')\n",
        "plt.title('Predicted Prices')\n",
        "plt.legend()\n",
        "plt.show()"
      ],
      "metadata": {
        "colab": {
          "base_uri": "https://localhost:8080/",
          "height": 404
        },
        "id": "nCwAWNB9bLK0",
        "outputId": "baed89eb-d438-474b-e112-00535b139a54"
      },
      "execution_count": 127,
      "outputs": [
        {
          "output_type": "display_data",
          "data": {
            "text/plain": [
              "<Figure size 864x432 with 1 Axes>"
            ],
            "image/png": "[encoded data removed]"
          },
          "metadata": {
            "needs_background": "light"
          }
        }
      ]
    }
  ]
}