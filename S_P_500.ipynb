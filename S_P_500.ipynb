{
  "nbformat": 4,
  "nbformat_minor": 0,
  "metadata": {
    "colab": {
      "provenance": [],
      "authorship_tag": "ABX9TyNynAlPN8MH93PbeBqM7puR",
      "include_colab_link": true
    },
    "kernelspec": {
      "name": "python3",
      "display_name": "Python 3"
    },
    "language_info": {
      "name": "python"
    }
  },
  "cells": [
    {
      "cell_type": "markdown",
      "metadata": {
        "id": "view-in-github",
        "colab_type": "text"
      },
      "source": [
        "<a href=\"https://colab.research.google.com/github/alexandrgsv/stock_prediction_models/blob/main/S_P_500.ipynb\" target=\"_parent\"><img src=\"https://colab.research.google.com/assets/colab-badge.svg\" alt=\"Open In Colab\"/></a>"
      ]
    },
    {
      "cell_type": "code",
      "execution_count": 1,
      "metadata": {
        "colab": {
          "base_uri": "https://localhost:8080/"
        },
        "id": "OHW8ek9VAcP3",
        "outputId": "cff52806-3877-4dfd-fd9f-6c41060bd179"
      },
      "outputs": [
        {
          "output_type": "stream",
          "name": "stdout",
          "text": [
            "Looking in indexes: https://pypi.org/simple, https://us-python.pkg.dev/colab-wheels/public/simple/\n",
            "Requirement already satisfied: pyswarm in /usr/local/lib/python3.9/dist-packages (0.6)\n",
            "Requirement already satisfied: numpy in /usr/local/lib/python3.9/dist-packages (from pyswarm) (1.22.4)\n"
          ]
        }
      ],
      "source": [
        "!pip install pyswarm\n"
      ]
    },
    {
      "cell_type": "code",
      "source": [
        "import numpy as np\n",
        "import pandas as pd\n",
        "from sklearn.neural_network import MLPRegressor\n",
        "from pyswarm import pso\n",
        "\n",
        "# Load data from CSV file\n",
        "data = pd.read_csv('https://drive.google.com/uc?id=1_cAApPjzzk7Q-iFm-UrHG8gvn3AErRAH', header=0)\n",
        "\n",
        "data.head()"
      ],
      "metadata": {
        "colab": {
          "base_uri": "https://localhost:8080/",
          "height": 206
        },
        "id": "0lk0mRGSVEJe",
        "outputId": "e4e90c00-39fb-4f77-cd09-34e496c455b5"
      },
      "execution_count": 2,
      "outputs": [
        {
          "output_type": "execute_result",
          "data": {
            "text/plain": [
              "         Date  Close\n",
              "0  1950-01-03  16.66\n",
              "1  1950-01-04  16.85\n",
              "2  1950-01-05  16.93\n",
              "3  1950-01-06  16.98\n",
              "4  1950-01-09  17.08"
            ],
            "text/html": [
              "\n",
              "  <div id=\"df-e6a038c3-c250-4be4-9063-33c1e2435b1a\">\n",
              "    <div class=\"colab-df-container\">\n",
              "      <div>\n",
              "<style scoped>\n",
              "    .dataframe tbody tr th:only-of-type {\n",
              "        vertical-align: middle;\n",
              "    }\n",
              "\n",
              "    .dataframe tbody tr th {\n",
              "        vertical-align: top;\n",
              "    }\n",
              "\n",
              "    .dataframe thead th {\n",
              "        text-align: right;\n",
              "    }\n",
              "</style>\n",
              "<table border=\"1\" class=\"dataframe\">\n",
              "  <thead>\n",
              "    <tr style=\"text-align: right;\">\n",
              "      <th></th>\n",
              "      <th>Date</th>\n",
              "      <th>Close</th>\n",
              "    </tr>\n",
              "  </thead>\n",
              "  <tbody>\n",
              "    <tr>\n",
              "      <th>0</th>\n",
              "      <td>1950-01-03</td>\n",
              "      <td>16.66</td>\n",
              "    </tr>\n",
              "    <tr>\n",
              "      <th>1</th>\n",
              "      <td>1950-01-04</td>\n",
              "      <td>16.85</td>\n",
              "    </tr>\n",
              "    <tr>\n",
              "      <th>2</th>\n",
              "      <td>1950-01-05</td>\n",
              "      <td>16.93</td>\n",
              "    </tr>\n",
              "    <tr>\n",
              "      <th>3</th>\n",
              "      <td>1950-01-06</td>\n",
              "      <td>16.98</td>\n",
              "    </tr>\n",
              "    <tr>\n",
              "      <th>4</th>\n",
              "      <td>1950-01-09</td>\n",
              "      <td>17.08</td>\n",
              "    </tr>\n",
              "  </tbody>\n",
              "</table>\n",
              "</div>\n",
              "      <button class=\"colab-df-convert\" onclick=\"convertToInteractive('df-e6a038c3-c250-4be4-9063-33c1e2435b1a')\"\n",
              "              title=\"Convert this dataframe to an interactive table.\"\n",
              "              style=\"display:none;\">\n",
              "        \n",
              "  <svg xmlns=\"http://www.w3.org/2000/svg\" height=\"24px\"viewBox=\"0 0 24 24\"\n",
              "       width=\"24px\">\n",
              "    <path d=\"M0 0h24v24H0V0z\" fill=\"none\"/>\n",
              "    <path d=\"M18.56 5.44l.94 2.06.94-2.06 2.06-.94-2.06-.94-.94-2.06-.94 2.06-2.06.94zm-11 1L8.5 8.5l.94-2.06 2.06-.94-2.06-.94L8.5 2.5l-.94 2.06-2.06.94zm10 10l.94 2.06.94-2.06 2.06-.94-2.06-.94-.94-2.06-.94 2.06-2.06.94z\"/><path d=\"M17.41 7.96l-1.37-1.37c-.4-.4-.92-.59-1.43-.59-.52 0-1.04.2-1.43.59L10.3 9.45l-7.72 7.72c-.78.78-.78 2.05 0 2.83L4 21.41c.39.39.9.59 1.41.59.51 0 1.02-.2 1.41-.59l7.78-7.78 2.81-2.81c.8-.78.8-2.07 0-2.86zM5.41 20L4 18.59l7.72-7.72 1.47 1.35L5.41 20z\"/>\n",
              "  </svg>\n",
              "      </button>\n",
              "      \n",
              "  <style>\n",
              "    .colab-df-container {\n",
              "      display:flex;\n",
              "      flex-wrap:wrap;\n",
              "      gap: 12px;\n",
              "    }\n",
              "\n",
              "    .colab-df-convert {\n",
              "      background-color: #E8F0FE;\n",
              "      border: none;\n",
              "      border-radius: 50%;\n",
              "      cursor: pointer;\n",
              "      display: none;\n",
              "      fill: #1967D2;\n",
              "      height: 32px;\n",
              "      padding: 0 0 0 0;\n",
              "      width: 32px;\n",
              "    }\n",
              "\n",
              "    .colab-df-convert:hover {\n",
              "      background-color: #E2EBFA;\n",
              "      box-shadow: 0px 1px 2px rgba(60, 64, 67, 0.3), 0px 1px 3px 1px rgba(60, 64, 67, 0.15);\n",
              "      fill: #174EA6;\n",
              "    }\n",
              "\n",
              "    [theme=dark] .colab-df-convert {\n",
              "      background-color: #3B4455;\n",
              "      fill: #D2E3FC;\n",
              "    }\n",
              "\n",
              "    [theme=dark] .colab-df-convert:hover {\n",
              "      background-color: #434B5C;\n",
              "      box-shadow: 0px 1px 3px 1px rgba(0, 0, 0, 0.15);\n",
              "      filter: drop-shadow(0px 1px 2px rgba(0, 0, 0, 0.3));\n",
              "      fill: #FFFFFF;\n",
              "    }\n",
              "  </style>\n",
              "\n",
              "      <script>\n",
              "        const buttonEl =\n",
              "          document.querySelector('#df-e6a038c3-c250-4be4-9063-33c1e2435b1a button.colab-df-convert');\n",
              "        buttonEl.style.display =\n",
              "          google.colab.kernel.accessAllowed ? 'block' : 'none';\n",
              "\n",
              "        async function convertToInteractive(key) {\n",
              "          const element = document.querySelector('#df-e6a038c3-c250-4be4-9063-33c1e2435b1a');\n",
              "          const dataTable =\n",
              "            await google.colab.kernel.invokeFunction('convertToInteractive',\n",
              "                                                     [key], {});\n",
              "          if (!dataTable) return;\n",
              "\n",
              "          const docLinkHtml = 'Like what you see? Visit the ' +\n",
              "            '<a target=\"_blank\" href=https://colab.research.google.com/notebooks/data_table.ipynb>data table notebook</a>'\n",
              "            + ' to learn more about interactive tables.';\n",
              "          element.innerHTML = '';\n",
              "          dataTable['output_type'] = 'display_data';\n",
              "          await google.colab.output.renderOutput(dataTable, element);\n",
              "          const docLink = document.createElement('div');\n",
              "          docLink.innerHTML = docLinkHtml;\n",
              "          element.appendChild(docLink);\n",
              "        }\n",
              "      </script>\n",
              "    </div>\n",
              "  </div>\n",
              "  "
            ]
          },
          "metadata": {},
          "execution_count": 2
        }
      ]
    },
    {
      "cell_type": "code",
      "source": [],
      "metadata": {
        "id": "ZZVlwkfCxP6s"
      },
      "execution_count": 2,
      "outputs": []
    },
    {
      "cell_type": "code",
      "source": [
        "# Convert date strings to datetime objects\n",
        "data['Date'] = pd.to_datetime(data['Date'], format='%Y-%m-%d')\n",
        "\n",
        "# Sort data by date\n",
        "data = data.sort_values('Date')\n",
        "\n",
        "# Convert closing prices to a numpy array\n",
        "values = data['Close'].values\n",
        "\n",
        "from sklearn.preprocessing import MinMaxScaler\n",
        "\n",
        "scaler = MinMaxScaler(feature_range=(0, 1))\n",
        "values = values.reshape(-1,1)\n",
        "values = scaler.fit_transform(values)\n",
        "\n"
      ],
      "metadata": {
        "id": "ceY8IvpgWPGc"
      },
      "execution_count": 3,
      "outputs": []
    },
    {
      "cell_type": "code",
      "source": [
        "# Split data into training and testing sets\n",
        "split_idx = int(0.95 * len(values))\n",
        "train_data = values[:split_idx]\n",
        "test_data = values[split_idx+1:]\n",
        "\n",
        "test_X_labels = data['Date'].iloc[split_idx+1:-1]\n"
      ],
      "metadata": {
        "id": "NrpNHjEAxnIK"
      },
      "execution_count": 4,
      "outputs": []
    },
    {
      "cell_type": "code",
      "source": [
        "display(test_X_labels)"
      ],
      "metadata": {
        "colab": {
          "base_uri": "https://localhost:8080/",
          "height": 232
        },
        "id": "xMRiwZDvlkkQ",
        "outputId": "4209e619-2345-4a06-e032-d8a831c23ebc"
      },
      "execution_count": 5,
      "outputs": [
        {
          "output_type": "display_data",
          "data": {
            "text/plain": [
              "16358   2015-01-07\n",
              "16359   2015-01-08\n",
              "16360   2015-01-09\n",
              "16361   2015-01-12\n",
              "16362   2015-01-13\n",
              "           ...    \n",
              "17212   2018-05-30\n",
              "17213   2018-05-31\n",
              "17214   2018-06-01\n",
              "17215   2018-06-04\n",
              "17216   2018-06-05\n",
              "Name: Date, Length: 859, dtype: datetime64[ns]"
            ]
          },
          "metadata": {}
        }
      ]
    },
    {
      "cell_type": "code",
      "source": [
        "\n",
        "# Reshape data for input to MLPRegressor\n",
        "train_X = train_data[:-1].reshape(-1, 1)\n",
        "train_y = train_data[1:].reshape(-1, 1)\n",
        "\n",
        "test_X = test_data[:-1].reshape(-1, 1)\n",
        "test_y = test_data[1:].reshape(-1, 1)\n",
        "\n",
        "def constraint_function(x, ieqcons):\n",
        "    return np.min(ieqcons(x))\n",
        "\n",
        "\n",
        "# Define function to optimize\n",
        "def objective_function(params, train_X, train_y):\n",
        "    # Create ANN with specified parameters\n",
        "    hidden_layer_sizes = (int(params[0]), int(params[1]))\n",
        "    activation = 'relu' if params[2] < 0.5 else 'logistic'\n",
        "    solver = 'adam' if params[3] < 0.5 else 'lbfgs'\n",
        "    alpha = 10.0 ** -params[4]\n",
        "    learning_rate_init = 10.0 ** -params[5]\n",
        "    model = MLPRegressor(hidden_layer_sizes=hidden_layer_sizes, activation=activation, solver=solver, alpha=alpha, learning_rate_init=learning_rate_init)\n",
        "\n",
        "    # Train ANN and evaluate performance\n",
        "    model.fit(train_X, train_y.ravel())\n",
        "    y_pred = model.predict(test_X)\n",
        "    mse = np.mean((test_y - y_pred) ** 2)\n",
        "    return mse\n",
        "\n",
        "# Define optimization bounds and initial guess\n",
        "lb = [1, 1, 0, 0, -5, -5]\n",
        "ub = [10, 10, 1, 1, 0, 0]\n",
        "x0 = np.array([5, 5, 0.5, 0.5, -2.5, -2.5])\n",
        "\n",
        "def constraints(x, train_X, train_y):\n",
        "  return x[0] - x[1], x[1] - x[2] \n",
        "\n",
        "\n",
        "# Optimize function using FIPSO\n",
        "params, _ = pso(objective_function, lb, ub, ieqcons=[constraints], f_ieqcons=None, args=(train_X, train_y), swarmsize=40, maxiter=50, debug=True)\n",
        "\n",
        "\n",
        "# Create final ANN with optimized parameters\n",
        "hidden_layer_sizes = (int(params[0]), int(params[1]))\n",
        "activation = 'relu' if params[2] < 0.5 else 'logistic'\n",
        "solver = 'adam' if params[3] < 0.5 else 'lbfgs'\n",
        "alpha = 10.0 ** -params[4]\n",
        "learning_rate_init = 10.0 ** -params[5]\n",
        "model = MLPRegressor(hidden_layer_sizes=hidden_layer_sizes, activation=activation, solver=solver, alpha=alpha, learning_rate_init=learning_rate_init)\n",
        "\n",
        "# Train final ANN and predict closing prices intervals\n",
        "model.fit(train_X, train_y)\n",
        "y_pred = model.predict(test_X)\n"
      ],
      "metadata": {
        "colab": {
          "base_uri": "https://localhost:8080/"
        },
        "id": "AZSkb5HnfU2e",
        "outputId": "b882a9f8-2bdb-4d83-ad46-96385191ca5b"
      },
      "execution_count": 6,
      "outputs": [
        {
          "output_type": "stream",
          "name": "stdout",
          "text": [
            "Converting ieqcons to a single constraint function\n"
          ]
        },
        {
          "output_type": "stream",
          "name": "stderr",
          "text": [
            "/usr/local/lib/python3.9/dist-packages/sklearn/neural_network/_multilayer_perceptron.py:686: ConvergenceWarning: Stochastic Optimizer: Maximum iterations (200) reached and the optimization hasn't converged yet.\n",
            "  warnings.warn(\n",
            "/usr/local/lib/python3.9/dist-packages/sklearn/neural_network/_multilayer_perceptron.py:686: ConvergenceWarning: Stochastic Optimizer: Maximum iterations (200) reached and the optimization hasn't converged yet.\n",
            "  warnings.warn(\n",
            "/usr/local/lib/python3.9/dist-packages/sklearn/neural_network/_multilayer_perceptron.py:686: ConvergenceWarning: Stochastic Optimizer: Maximum iterations (200) reached and the optimization hasn't converged yet.\n",
            "  warnings.warn(\n",
            "/usr/local/lib/python3.9/dist-packages/sklearn/neural_network/_multilayer_perceptron.py:686: ConvergenceWarning: Stochastic Optimizer: Maximum iterations (200) reached and the optimization hasn't converged yet.\n",
            "  warnings.warn(\n",
            "/usr/local/lib/python3.9/dist-packages/sklearn/neural_network/_multilayer_perceptron.py:686: ConvergenceWarning: Stochastic Optimizer: Maximum iterations (200) reached and the optimization hasn't converged yet.\n",
            "  warnings.warn(\n",
            "/usr/local/lib/python3.9/dist-packages/sklearn/neural_network/_multilayer_perceptron.py:686: ConvergenceWarning: Stochastic Optimizer: Maximum iterations (200) reached and the optimization hasn't converged yet.\n",
            "  warnings.warn(\n",
            "/usr/local/lib/python3.9/dist-packages/sklearn/neural_network/_multilayer_perceptron.py:686: ConvergenceWarning: Stochastic Optimizer: Maximum iterations (200) reached and the optimization hasn't converged yet.\n",
            "  warnings.warn(\n"
          ]
        },
        {
          "output_type": "stream",
          "name": "stdout",
          "text": [
            "New best for swarm at iteration 1: [10.          2.74058229  1.          1.          0.         -0.83830563] 0.01412046753855836\n"
          ]
        },
        {
          "output_type": "stream",
          "name": "stderr",
          "text": [
            "/usr/local/lib/python3.9/dist-packages/sklearn/neural_network/_multilayer_perceptron.py:686: ConvergenceWarning: Stochastic Optimizer: Maximum iterations (200) reached and the optimization hasn't converged yet.\n",
            "  warnings.warn(\n"
          ]
        },
        {
          "output_type": "stream",
          "name": "stdout",
          "text": [
            "Best after iteration 1: [10.          2.74058229  1.          1.          0.         -0.83830563] 0.01412046753855836\n",
            "New best for swarm at iteration 2: [ 4.40425233  1.07253883  0.08924988  1.         -1.0391489  -0.74646694] 0.013196672932878961\n"
          ]
        },
        {
          "output_type": "stream",
          "name": "stderr",
          "text": [
            "/usr/local/lib/python3.9/dist-packages/sklearn/neural_network/_multilayer_perceptron.py:686: ConvergenceWarning: Stochastic Optimizer: Maximum iterations (200) reached and the optimization hasn't converged yet.\n",
            "  warnings.warn(\n"
          ]
        },
        {
          "output_type": "stream",
          "name": "stdout",
          "text": [
            "Best after iteration 2: [ 4.40425233  1.07253883  0.08924988  1.         -1.0391489  -0.74646694] 0.013196672932878961\n"
          ]
        },
        {
          "output_type": "stream",
          "name": "stderr",
          "text": [
            "/usr/local/lib/python3.9/dist-packages/sklearn/neural_network/_multilayer_perceptron.py:686: ConvergenceWarning: Stochastic Optimizer: Maximum iterations (200) reached and the optimization hasn't converged yet.\n",
            "  warnings.warn(\n",
            "/usr/local/lib/python3.9/dist-packages/sklearn/neural_network/_multilayer_perceptron.py:686: ConvergenceWarning: Stochastic Optimizer: Maximum iterations (200) reached and the optimization hasn't converged yet.\n",
            "  warnings.warn(\n"
          ]
        },
        {
          "output_type": "stream",
          "name": "stdout",
          "text": [
            "Best after iteration 3: [ 4.40425233  1.07253883  0.08924988  1.         -1.0391489  -0.74646694] 0.013196672932878961\n",
            "New best for swarm at iteration 4: [ 6.77715539  1.          0.40863853  1.         -0.21934508  0.        ] 0.012374159506179627\n",
            "Best after iteration 4: [ 6.77715539  1.          0.40863853  1.         -0.21934508  0.        ] 0.012374159506179627\n",
            "Best after iteration 5: [ 6.77715539  1.          0.40863853  1.         -0.21934508  0.        ] 0.012374159506179627\n",
            "Best after iteration 6: [ 6.77715539  1.          0.40863853  1.         -0.21934508  0.        ] 0.012374159506179627\n",
            "New best for swarm at iteration 7: [ 8.96480187  4.65248926  0.21189327  1.         -0.48556927 -0.54258724] 0.01104080946893042\n",
            "Best after iteration 7: [ 8.96480187  4.65248926  0.21189327  1.         -0.48556927 -0.54258724] 0.01104080946893042\n",
            "Best after iteration 8: [ 8.96480187  4.65248926  0.21189327  1.         -0.48556927 -0.54258724] 0.01104080946893042\n",
            "Best after iteration 9: [ 8.96480187  4.65248926  0.21189327  1.         -0.48556927 -0.54258724] 0.01104080946893042\n",
            "Best after iteration 10: [ 8.96480187  4.65248926  0.21189327  1.         -0.48556927 -0.54258724] 0.01104080946893042\n",
            "Best after iteration 11: [ 8.96480187  4.65248926  0.21189327  1.         -0.48556927 -0.54258724] 0.01104080946893042\n",
            "Best after iteration 12: [ 8.96480187  4.65248926  0.21189327  1.         -0.48556927 -0.54258724] 0.01104080946893042\n",
            "Best after iteration 13: [ 8.96480187  4.65248926  0.21189327  1.         -0.48556927 -0.54258724] 0.01104080946893042\n",
            "Best after iteration 14: [ 8.96480187  4.65248926  0.21189327  1.         -0.48556927 -0.54258724] 0.01104080946893042\n",
            "Best after iteration 15: [ 8.96480187  4.65248926  0.21189327  1.         -0.48556927 -0.54258724] 0.01104080946893042\n",
            "Best after iteration 16: [ 8.96480187  4.65248926  0.21189327  1.         -0.48556927 -0.54258724] 0.01104080946893042\n",
            "Best after iteration 17: [ 8.96480187  4.65248926  0.21189327  1.         -0.48556927 -0.54258724] 0.01104080946893042\n",
            "Best after iteration 18: [ 8.96480187  4.65248926  0.21189327  1.         -0.48556927 -0.54258724] 0.01104080946893042\n",
            "Best after iteration 19: [ 8.96480187  4.65248926  0.21189327  1.         -0.48556927 -0.54258724] 0.01104080946893042\n",
            "Best after iteration 20: [ 8.96480187  4.65248926  0.21189327  1.         -0.48556927 -0.54258724] 0.01104080946893042\n",
            "Best after iteration 21: [ 8.96480187  4.65248926  0.21189327  1.         -0.48556927 -0.54258724] 0.01104080946893042\n",
            "Best after iteration 22: [ 8.96480187  4.65248926  0.21189327  1.         -0.48556927 -0.54258724] 0.01104080946893042\n",
            "New best for swarm at iteration 23: [ 7.35512794  3.26283468  0.28227651  0.93063922 -0.29481121 -0.41017693] 0.010979920912002358\n",
            "Best after iteration 23: [ 7.35512794  3.26283468  0.28227651  0.93063922 -0.29481121 -0.41017693] 0.010979920912002358\n",
            "Best after iteration 24: [ 7.35512794  3.26283468  0.28227651  0.93063922 -0.29481121 -0.41017693] 0.010979920912002358\n",
            "Best after iteration 25: [ 7.35512794  3.26283468  0.28227651  0.93063922 -0.29481121 -0.41017693] 0.010979920912002358\n",
            "Best after iteration 26: [ 7.35512794  3.26283468  0.28227651  0.93063922 -0.29481121 -0.41017693] 0.010979920912002358\n",
            "Best after iteration 27: [ 7.35512794  3.26283468  0.28227651  0.93063922 -0.29481121 -0.41017693] 0.010979920912002358\n",
            "Best after iteration 28: [ 7.35512794  3.26283468  0.28227651  0.93063922 -0.29481121 -0.41017693] 0.010979920912002358\n",
            "Best after iteration 29: [ 7.35512794  3.26283468  0.28227651  0.93063922 -0.29481121 -0.41017693] 0.010979920912002358\n",
            "Best after iteration 30: [ 7.35512794  3.26283468  0.28227651  0.93063922 -0.29481121 -0.41017693] 0.010979920912002358\n",
            "Best after iteration 31: [ 7.35512794  3.26283468  0.28227651  0.93063922 -0.29481121 -0.41017693] 0.010979920912002358\n",
            "Best after iteration 32: [ 7.35512794  3.26283468  0.28227651  0.93063922 -0.29481121 -0.41017693] 0.010979920912002358\n",
            "Best after iteration 33: [ 7.35512794  3.26283468  0.28227651  0.93063922 -0.29481121 -0.41017693] 0.010979920912002358\n",
            "Best after iteration 34: [ 7.35512794  3.26283468  0.28227651  0.93063922 -0.29481121 -0.41017693] 0.010979920912002358\n",
            "Best after iteration 35: [ 7.35512794  3.26283468  0.28227651  0.93063922 -0.29481121 -0.41017693] 0.010979920912002358\n",
            "Best after iteration 36: [ 7.35512794  3.26283468  0.28227651  0.93063922 -0.29481121 -0.41017693] 0.010979920912002358\n",
            "Best after iteration 37: [ 7.35512794  3.26283468  0.28227651  0.93063922 -0.29481121 -0.41017693] 0.010979920912002358\n",
            "Best after iteration 38: [ 7.35512794  3.26283468  0.28227651  0.93063922 -0.29481121 -0.41017693] 0.010979920912002358\n",
            "Best after iteration 39: [ 7.35512794  3.26283468  0.28227651  0.93063922 -0.29481121 -0.41017693] 0.010979920912002358\n",
            "Best after iteration 40: [ 7.35512794  3.26283468  0.28227651  0.93063922 -0.29481121 -0.41017693] 0.010979920912002358\n",
            "Best after iteration 41: [ 7.35512794  3.26283468  0.28227651  0.93063922 -0.29481121 -0.41017693] 0.010979920912002358\n",
            "New best for swarm at iteration 42: [ 7.92640485  3.82614944  0.39963344  0.90670356 -0.11745688 -0.81359495] 0.010871718835257893\n",
            "Best after iteration 42: [ 7.92640485  3.82614944  0.39963344  0.90670356 -0.11745688 -0.81359495] 0.010871718835257893\n",
            "Best after iteration 43: [ 7.92640485  3.82614944  0.39963344  0.90670356 -0.11745688 -0.81359495] 0.010871718835257893\n",
            "Best after iteration 44: [ 7.92640485  3.82614944  0.39963344  0.90670356 -0.11745688 -0.81359495] 0.010871718835257893\n",
            "Best after iteration 45: [ 7.92640485  3.82614944  0.39963344  0.90670356 -0.11745688 -0.81359495] 0.010871718835257893\n",
            "Best after iteration 46: [ 7.92640485  3.82614944  0.39963344  0.90670356 -0.11745688 -0.81359495] 0.010871718835257893\n",
            "Best after iteration 47: [ 7.92640485  3.82614944  0.39963344  0.90670356 -0.11745688 -0.81359495] 0.010871718835257893\n",
            "Best after iteration 48: [ 7.92640485  3.82614944  0.39963344  0.90670356 -0.11745688 -0.81359495] 0.010871718835257893\n",
            "Best after iteration 49: [ 7.92640485  3.82614944  0.39963344  0.90670356 -0.11745688 -0.81359495] 0.010871718835257893\n",
            "New best for swarm at iteration 50: [ 7.63159682  3.73918479  0.36622556  0.92655063 -0.20518497 -0.46839916] 0.010869799507312521\n",
            "Best after iteration 50: [ 7.63159682  3.73918479  0.36622556  0.92655063 -0.20518497 -0.46839916] 0.010869799507312521\n",
            "Stopping search: maximum iterations reached --> 50\n"
          ]
        },
        {
          "output_type": "stream",
          "name": "stderr",
          "text": [
            "/usr/local/lib/python3.9/dist-packages/sklearn/neural_network/_multilayer_perceptron.py:1623: DataConversionWarning: A column-vector y was passed when a 1d array was expected. Please change the shape of y to (n_samples, ), for example using ravel().\n",
            "  y = column_or_1d(y, warn=True)\n"
          ]
        }
      ]
    },
    {
      "cell_type": "code",
      "source": [
        "import matplotlib.pyplot as plt\n",
        "\n",
        "# Train final ANN and predict closing prices intervals\n",
        "model.fit(train_X, train_y)\n",
        "y_pred = model.predict(test_X)\n",
        "\n",
        "# Visualize predicted vs actual prices\n",
        "plt.figure(figsize=(12, 6))\n",
        "plt.plot(test_X_labels, scaler.inverse_transform(y_pred.reshape(-1,1)), label='Predicted')\n",
        "plt.plot(test_X_labels, scaler.inverse_transform(test_y.reshape(-1,1)), label='Actual')\n",
        "plt.xlabel('Time intervals')\n",
        "plt.ylabel('Price')\n",
        "plt.title('Predicted vs Actual Prices')\n",
        "plt.legend()\n",
        "plt.show()"
      ],
      "metadata": {
        "colab": {
          "base_uri": "https://localhost:8080/",
          "height": 460
        },
        "id": "KhxmyyoFWOJa",
        "outputId": "3e832017-f03d-4647-f61c-3b7f5e90d96c"
      },
      "execution_count": 7,
      "outputs": [
        {
          "output_type": "stream",
          "name": "stderr",
          "text": [
            "/usr/local/lib/python3.9/dist-packages/sklearn/neural_network/_multilayer_perceptron.py:1623: DataConversionWarning: A column-vector y was passed when a 1d array was expected. Please change the shape of y to (n_samples, ), for example using ravel().\n",
            "  y = column_or_1d(y, warn=True)\n"
          ]
        },
        {
          "output_type": "display_data",
          "data": {
            "text/plain": [
              "<Figure size 864x432 with 1 Axes>"
            ],
            "image/png": "[encoded data removed]"
          },
          "metadata": {
            "needs_background": "light"
          }
        }
      ]
    }
  ]
}