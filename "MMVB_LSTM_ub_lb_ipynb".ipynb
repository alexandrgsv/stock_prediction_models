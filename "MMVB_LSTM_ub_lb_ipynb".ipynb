{
  "nbformat": 4,
  "nbformat_minor": 0,
  "metadata": {
    "colab": {
      "provenance": [],
      "authorship_tag": "ABX9TyP0ZWLJ2gJCNs1ViENUubAu",
      "include_colab_link": true
    },
    "kernelspec": {
      "name": "python3",
      "display_name": "Python 3"
    },
    "language_info": {
      "name": "python"
    }
  },
  "cells": [
    {
      "cell_type": "markdown",
      "metadata": {
        "id": "view-in-github",
        "colab_type": "text"
      },
      "source": [
        "<a href=\"https://colab.research.google.com/github/alexandrgsv/stock_prediction_models/blob/main/%22MMVB_LSTM_ub_lb_ipynb%22.ipynb\" target=\"_parent\"><img src=\"https://colab.research.google.com/assets/colab-badge.svg\" alt=\"Open In Colab\"/></a>"
      ]
    },
    {
      "cell_type": "code",
      "execution_count": 1,
      "metadata": {
        "id": "JXtLurca38We"
      },
      "outputs": [],
      "source": [
        "import pandas as pd\n",
        "import numpy as np\n",
        "import matplotlib.pyplot as plt\n",
        "from sklearn.preprocessing import MinMaxScaler\n",
        "from tensorflow.keras.models import Sequential\n",
        "from tensorflow.keras.layers import Dense, LSTM, Dropout\n",
        "from tensorflow.keras.optimizers import Adam"
      ]
    },
    {
      "cell_type": "code",
      "source": [
        "# Load the data\n",
        "#data = pd.read_csv('https://drive.google.com/uc?id=18RjIb6w6OXLPeKYJ-UJKUNtmY71RpP5D', header=0, usecols=['<DATE>', '<CLOSE>'], date_parser=True)\n",
        "data = pd.read_csv('https://drive.google.com/uc?id=18RjIb6w6OXLPeKYJ-UJKUNtmY71RpP5D',\n",
        "                   header=0, \n",
        "                   usecols=['<DATE>', '<CLOSE>'], \n",
        "                   parse_dates=['<DATE>'], \n",
        "                   date_parser=lambda x: pd.to_datetime(x, format='%d/%m/%y'))\n",
        "\n",
        "df = data[['<DATE>', '<CLOSE>']].copy()"
      ],
      "metadata": {
        "id": "xb9swMtr4Bpf"
      },
      "execution_count": 50,
      "outputs": []
    },
    {
      "cell_type": "code",
      "source": [
        "df = df.sort_values('<DATE>')\n",
        "df = df.reset_index(drop=True)\n",
        "#df = df.set_index('<DATE>').sort_index()\n",
        "\n"
      ],
      "metadata": {
        "id": "vJqjdTOL4INF"
      },
      "execution_count": 51,
      "outputs": []
    },
    {
      "cell_type": "code",
      "source": [
        "df.tail()"
      ],
      "metadata": {
        "colab": {
          "base_uri": "https://localhost:8080/",
          "height": 206
        },
        "id": "AdNUZSdriwtc",
        "outputId": "bcd48922-0612-43c2-c34e-0ba8b378ea5d"
      },
      "execution_count": 53,
      "outputs": [
        {
          "output_type": "execute_result",
          "data": {
            "text/plain": [
              "         <DATE>  <CLOSE>\n",
              "5005 2023-03-23  2388.35\n",
              "5006 2023-03-24  2391.53\n",
              "5007 2023-03-27  2440.68\n",
              "5008 2023-03-28  2442.19\n",
              "5009 2023-03-29  2444.90"
            ],
            "text/html": [
              "\n",
              "  <div id=\"df-b3d65b40-9682-42f2-b1c5-fb321843bb5d\">\n",
              "    <div class=\"colab-df-container\">\n",
              "      <div>\n",
              "<style scoped>\n",
              "    .dataframe tbody tr th:only-of-type {\n",
              "        vertical-align: middle;\n",
              "    }\n",
              "\n",
              "    .dataframe tbody tr th {\n",
              "        vertical-align: top;\n",
              "    }\n",
              "\n",
              "    .dataframe thead th {\n",
              "        text-align: right;\n",
              "    }\n",
              "</style>\n",
              "<table border=\"1\" class=\"dataframe\">\n",
              "  <thead>\n",
              "    <tr style=\"text-align: right;\">\n",
              "      <th></th>\n",
              "      <th>&lt;DATE&gt;</th>\n",
              "      <th>&lt;CLOSE&gt;</th>\n",
              "    </tr>\n",
              "  </thead>\n",
              "  <tbody>\n",
              "    <tr>\n",
              "      <th>5005</th>\n",
              "      <td>2023-03-23</td>\n",
              "      <td>2388.35</td>\n",
              "    </tr>\n",
              "    <tr>\n",
              "      <th>5006</th>\n",
              "      <td>2023-03-24</td>\n",
              "      <td>2391.53</td>\n",
              "    </tr>\n",
              "    <tr>\n",
              "      <th>5007</th>\n",
              "      <td>2023-03-27</td>\n",
              "      <td>2440.68</td>\n",
              "    </tr>\n",
              "    <tr>\n",
              "      <th>5008</th>\n",
              "      <td>2023-03-28</td>\n",
              "      <td>2442.19</td>\n",
              "    </tr>\n",
              "    <tr>\n",
              "      <th>5009</th>\n",
              "      <td>2023-03-29</td>\n",
              "      <td>2444.90</td>\n",
              "    </tr>\n",
              "  </tbody>\n",
              "</table>\n",
              "</div>\n",
              "      <button class=\"colab-df-convert\" onclick=\"convertToInteractive('df-b3d65b40-9682-42f2-b1c5-fb321843bb5d')\"\n",
              "              title=\"Convert this dataframe to an interactive table.\"\n",
              "              style=\"display:none;\">\n",
              "        \n",
              "  <svg xmlns=\"http://www.w3.org/2000/svg\" height=\"24px\"viewBox=\"0 0 24 24\"\n",
              "       width=\"24px\">\n",
              "    <path d=\"M0 0h24v24H0V0z\" fill=\"none\"/>\n",
              "    <path d=\"M18.56 5.44l.94 2.06.94-2.06 2.06-.94-2.06-.94-.94-2.06-.94 2.06-2.06.94zm-11 1L8.5 8.5l.94-2.06 2.06-.94-2.06-.94L8.5 2.5l-.94 2.06-2.06.94zm10 10l.94 2.06.94-2.06 2.06-.94-2.06-.94-.94-2.06-.94 2.06-2.06.94z\"/><path d=\"M17.41 7.96l-1.37-1.37c-.4-.4-.92-.59-1.43-.59-.52 0-1.04.2-1.43.59L10.3 9.45l-7.72 7.72c-.78.78-.78 2.05 0 2.83L4 21.41c.39.39.9.59 1.41.59.51 0 1.02-.2 1.41-.59l7.78-7.78 2.81-2.81c.8-.78.8-2.07 0-2.86zM5.41 20L4 18.59l7.72-7.72 1.47 1.35L5.41 20z\"/>\n",
              "  </svg>\n",
              "      </button>\n",
              "      \n",
              "  <style>\n",
              "    .colab-df-container {\n",
              "      display:flex;\n",
              "      flex-wrap:wrap;\n",
              "      gap: 12px;\n",
              "    }\n",
              "\n",
              "    .colab-df-convert {\n",
              "      background-color: #E8F0FE;\n",
              "      border: none;\n",
              "      border-radius: 50%;\n",
              "      cursor: pointer;\n",
              "      display: none;\n",
              "      fill: #1967D2;\n",
              "      height: 32px;\n",
              "      padding: 0 0 0 0;\n",
              "      width: 32px;\n",
              "    }\n",
              "\n",
              "    .colab-df-convert:hover {\n",
              "      background-color: #E2EBFA;\n",
              "      box-shadow: 0px 1px 2px rgba(60, 64, 67, 0.3), 0px 1px 3px 1px rgba(60, 64, 67, 0.15);\n",
              "      fill: #174EA6;\n",
              "    }\n",
              "\n",
              "    [theme=dark] .colab-df-convert {\n",
              "      background-color: #3B4455;\n",
              "      fill: #D2E3FC;\n",
              "    }\n",
              "\n",
              "    [theme=dark] .colab-df-convert:hover {\n",
              "      background-color: #434B5C;\n",
              "      box-shadow: 0px 1px 3px 1px rgba(0, 0, 0, 0.15);\n",
              "      filter: drop-shadow(0px 1px 2px rgba(0, 0, 0, 0.3));\n",
              "      fill: #FFFFFF;\n",
              "    }\n",
              "  </style>\n",
              "\n",
              "      <script>\n",
              "        const buttonEl =\n",
              "          document.querySelector('#df-b3d65b40-9682-42f2-b1c5-fb321843bb5d button.colab-df-convert');\n",
              "        buttonEl.style.display =\n",
              "          google.colab.kernel.accessAllowed ? 'block' : 'none';\n",
              "\n",
              "        async function convertToInteractive(key) {\n",
              "          const element = document.querySelector('#df-b3d65b40-9682-42f2-b1c5-fb321843bb5d');\n",
              "          const dataTable =\n",
              "            await google.colab.kernel.invokeFunction('convertToInteractive',\n",
              "                                                     [key], {});\n",
              "          if (!dataTable) return;\n",
              "\n",
              "          const docLinkHtml = 'Like what you see? Visit the ' +\n",
              "            '<a target=\"_blank\" href=https://colab.research.google.com/notebooks/data_table.ipynb>data table notebook</a>'\n",
              "            + ' to learn more about interactive tables.';\n",
              "          element.innerHTML = '';\n",
              "          dataTable['output_type'] = 'display_data';\n",
              "          await google.colab.output.renderOutput(dataTable, element);\n",
              "          const docLink = document.createElement('div');\n",
              "          docLink.innerHTML = docLinkHtml;\n",
              "          element.appendChild(docLink);\n",
              "        }\n",
              "      </script>\n",
              "    </div>\n",
              "  </div>\n",
              "  "
            ]
          },
          "metadata": {},
          "execution_count": 53
        }
      ]
    },
    {
      "cell_type": "code",
      "source": [
        "# Define the window size and the forecast horizon\n",
        "window_size = 60\n",
        "forecast_horizon = 30\n"
      ],
      "metadata": {
        "id": "65I3tXUd4WIE"
      },
      "execution_count": 54,
      "outputs": []
    },
    {
      "cell_type": "code",
      "source": [
        "# Split the data into training and test sets\n",
        "train_size = int(len(df) * 0.8)\n",
        "train = df[:train_size]\n",
        "test = df[train_size-window_size:]"
      ],
      "metadata": {
        "id": "tpiTHakmRahB"
      },
      "execution_count": 55,
      "outputs": []
    },
    {
      "cell_type": "code",
      "source": [
        "# Scale the data\n",
        "scaler = MinMaxScaler()\n",
        "train_scaled = scaler.fit_transform(train['<CLOSE>'].values.reshape(-1, 1))\n",
        "test_scaled = scaler.transform(test['<CLOSE>'].values.reshape(-1, 1))\n"
      ],
      "metadata": {
        "id": "U7fTkLxURb62"
      },
      "execution_count": 56,
      "outputs": []
    },
    {
      "cell_type": "code",
      "source": [
        "# Create the training and test data using the sliding window approach\n",
        "X_train = []\n",
        "y_train = []\n",
        "for i in range(window_size, len(train_scaled)):\n",
        "    X_train.append(train_scaled[i-window_size:i, 0])\n",
        "    y_train.append(train_scaled[i, 0])\n",
        "X_train, y_train = np.array(X_train), np.array(y_train)\n",
        "\n",
        "X_test = []\n",
        "y_test = []\n",
        "for i in range(window_size, len(test_scaled)-forecast_horizon):\n",
        "    X_test.append(test_scaled[i-window_size:i, 0])\n",
        "    y_test.append(test_scaled[i:i+forecast_horizon, 0])\n",
        "X_test, y_test = np.array(X_test), np.array(y_test)"
      ],
      "metadata": {
        "id": "Z0z_4fw1Rer_"
      },
      "execution_count": 57,
      "outputs": []
    },
    {
      "cell_type": "code",
      "source": [
        "# Define the model\n",
        "model = Sequential([\n",
        "    LSTM(units=50, return_sequences=True, input_shape=(X_train.shape[1], 1)),\n",
        "    Dropout(0.2),\n",
        "    LSTM(units=50, return_sequences=True),\n",
        "    Dropout(0.2),\n",
        "    LSTM(units=50),\n",
        "    Dropout(0.2),\n",
        "    Dense(units=forecast_horizon*2)\n",
        "])\n",
        "model.compile(optimizer=Adam(learning_rate=0.001), loss='mse')"
      ],
      "metadata": {
        "id": "kOIM5FDY4Xmd"
      },
      "execution_count": 58,
      "outputs": []
    },
    {
      "cell_type": "code",
      "source": [
        "# Train the model\n",
        "history = model.fit(X_train, y_train, epochs=100, batch_size=32, validation_split=0.2)\n"
      ],
      "metadata": {
        "id": "IU5UrG_h4bi9",
        "colab": {
          "base_uri": "https://localhost:8080/"
        },
        "outputId": "a90d319e-476c-47fb-b298-11a1164afbfb"
      },
      "execution_count": 59,
      "outputs": [
        {
          "output_type": "stream",
          "name": "stdout",
          "text": [
            "Epoch 1/100\n",
            "99/99 [==============================] - 20s 140ms/step - loss: 0.0451 - val_loss: 0.0145\n",
            "Epoch 2/100\n",
            "99/99 [==============================] - 12s 124ms/step - loss: 0.0082 - val_loss: 0.0026\n",
            "Epoch 3/100\n",
            "99/99 [==============================] - 13s 135ms/step - loss: 0.0058 - val_loss: 0.0025\n",
            "Epoch 4/100\n",
            "99/99 [==============================] - 12s 125ms/step - loss: 0.0044 - val_loss: 0.0039\n",
            "Epoch 5/100\n",
            "99/99 [==============================] - 12s 124ms/step - loss: 0.0037 - val_loss: 0.0061\n",
            "Epoch 6/100\n",
            "99/99 [==============================] - 14s 139ms/step - loss: 0.0034 - val_loss: 0.0037\n",
            "Epoch 7/100\n",
            "99/99 [==============================] - 12s 124ms/step - loss: 0.0029 - val_loss: 0.0030\n",
            "Epoch 8/100\n",
            "99/99 [==============================] - 12s 125ms/step - loss: 0.0025 - val_loss: 0.0033\n",
            "Epoch 9/100\n",
            "99/99 [==============================] - 12s 125ms/step - loss: 0.0024 - val_loss: 0.0025\n",
            "Epoch 10/100\n",
            "99/99 [==============================] - 12s 125ms/step - loss: 0.0023 - val_loss: 8.2166e-04\n",
            "Epoch 11/100\n",
            "99/99 [==============================] - 12s 125ms/step - loss: 0.0021 - val_loss: 7.0729e-04\n",
            "Epoch 12/100\n",
            "99/99 [==============================] - 12s 124ms/step - loss: 0.0019 - val_loss: 0.0022\n",
            "Epoch 13/100\n",
            "99/99 [==============================] - 12s 126ms/step - loss: 0.0017 - val_loss: 7.5386e-04\n",
            "Epoch 14/100\n",
            "99/99 [==============================] - 12s 124ms/step - loss: 0.0017 - val_loss: 0.0021\n",
            "Epoch 15/100\n",
            "99/99 [==============================] - 12s 125ms/step - loss: 0.0016 - val_loss: 0.0028\n",
            "Epoch 16/100\n",
            "99/99 [==============================] - 12s 125ms/step - loss: 0.0015 - val_loss: 0.0013\n",
            "Epoch 17/100\n",
            "99/99 [==============================] - 12s 124ms/step - loss: 0.0014 - val_loss: 0.0022\n",
            "Epoch 18/100\n",
            "99/99 [==============================] - 12s 125ms/step - loss: 0.0013 - val_loss: 5.6702e-04\n",
            "Epoch 19/100\n",
            "99/99 [==============================] - 12s 123ms/step - loss: 0.0013 - val_loss: 0.0019\n",
            "Epoch 20/100\n",
            "99/99 [==============================] - 12s 126ms/step - loss: 0.0012 - val_loss: 2.1627e-04\n",
            "Epoch 21/100\n",
            "99/99 [==============================] - 12s 124ms/step - loss: 0.0011 - val_loss: 2.2657e-04\n",
            "Epoch 22/100\n",
            "99/99 [==============================] - 12s 122ms/step - loss: 0.0011 - val_loss: 7.9869e-04\n",
            "Epoch 23/100\n",
            "99/99 [==============================] - 12s 123ms/step - loss: 0.0010 - val_loss: 0.0016\n",
            "Epoch 24/100\n",
            "99/99 [==============================] - 12s 119ms/step - loss: 9.7900e-04 - val_loss: 5.1560e-04\n",
            "Epoch 25/100\n",
            "99/99 [==============================] - 14s 141ms/step - loss: 0.0010 - val_loss: 4.6520e-04\n",
            "Epoch 26/100\n",
            "99/99 [==============================] - 12s 121ms/step - loss: 9.2624e-04 - val_loss: 2.2587e-04\n",
            "Epoch 27/100\n",
            "99/99 [==============================] - 12s 119ms/step - loss: 9.0104e-04 - val_loss: 3.9642e-04\n",
            "Epoch 28/100\n",
            "99/99 [==============================] - 13s 127ms/step - loss: 8.8869e-04 - val_loss: 7.5101e-04\n",
            "Epoch 29/100\n",
            "99/99 [==============================] - 12s 120ms/step - loss: 8.6702e-04 - val_loss: 7.0258e-04\n",
            "Epoch 30/100\n",
            "99/99 [==============================] - 12s 124ms/step - loss: 7.9177e-04 - val_loss: 7.5144e-04\n",
            "Epoch 31/100\n",
            "99/99 [==============================] - 12s 125ms/step - loss: 7.4215e-04 - val_loss: 2.1156e-04\n",
            "Epoch 32/100\n",
            "99/99 [==============================] - 12s 125ms/step - loss: 7.7817e-04 - val_loss: 0.0011\n",
            "Epoch 33/100\n",
            "99/99 [==============================] - 12s 126ms/step - loss: 7.5537e-04 - val_loss: 0.0012\n",
            "Epoch 34/100\n",
            "99/99 [==============================] - 12s 125ms/step - loss: 7.4660e-04 - val_loss: 4.9468e-04\n",
            "Epoch 35/100\n",
            "99/99 [==============================] - 12s 125ms/step - loss: 6.7868e-04 - val_loss: 0.0011\n",
            "Epoch 36/100\n",
            "99/99 [==============================] - 12s 125ms/step - loss: 6.9517e-04 - val_loss: 0.0010\n",
            "Epoch 37/100\n",
            "99/99 [==============================] - 12s 125ms/step - loss: 6.7022e-04 - val_loss: 1.4459e-04\n",
            "Epoch 38/100\n",
            "99/99 [==============================] - 12s 126ms/step - loss: 6.4106e-04 - val_loss: 5.7908e-04\n",
            "Epoch 39/100\n",
            "99/99 [==============================] - 12s 125ms/step - loss: 6.4597e-04 - val_loss: 0.0011\n",
            "Epoch 40/100\n",
            "99/99 [==============================] - 12s 125ms/step - loss: 6.3828e-04 - val_loss: 5.3355e-04\n",
            "Epoch 41/100\n",
            "99/99 [==============================] - 12s 124ms/step - loss: 6.1306e-04 - val_loss: 3.2995e-04\n",
            "Epoch 42/100\n",
            "99/99 [==============================] - 12s 124ms/step - loss: 5.5834e-04 - val_loss: 1.3783e-04\n",
            "Epoch 43/100\n",
            "99/99 [==============================] - 12s 125ms/step - loss: 5.6735e-04 - val_loss: 0.0011\n",
            "Epoch 44/100\n",
            "99/99 [==============================] - 13s 136ms/step - loss: 6.3715e-04 - val_loss: 7.2407e-04\n",
            "Epoch 45/100\n",
            "99/99 [==============================] - 12s 125ms/step - loss: 5.4197e-04 - val_loss: 0.0010\n",
            "Epoch 46/100\n",
            "99/99 [==============================] - 12s 125ms/step - loss: 5.4293e-04 - val_loss: 4.2440e-04\n",
            "Epoch 47/100\n",
            "99/99 [==============================] - 13s 130ms/step - loss: 5.5591e-04 - val_loss: 2.0536e-04\n",
            "Epoch 48/100\n",
            "99/99 [==============================] - 12s 125ms/step - loss: 5.3322e-04 - val_loss: 1.1005e-04\n",
            "Epoch 49/100\n",
            "99/99 [==============================] - 12s 125ms/step - loss: 5.1352e-04 - val_loss: 2.0678e-04\n",
            "Epoch 50/100\n",
            "99/99 [==============================] - 12s 125ms/step - loss: 5.0805e-04 - val_loss: 2.3651e-04\n",
            "Epoch 51/100\n",
            "99/99 [==============================] - 13s 126ms/step - loss: 5.2996e-04 - val_loss: 3.9926e-04\n",
            "Epoch 52/100\n",
            "99/99 [==============================] - 12s 126ms/step - loss: 5.1626e-04 - val_loss: 1.2253e-04\n",
            "Epoch 53/100\n",
            "99/99 [==============================] - 12s 125ms/step - loss: 5.3102e-04 - val_loss: 3.2984e-04\n",
            "Epoch 54/100\n",
            "99/99 [==============================] - 13s 128ms/step - loss: 5.2296e-04 - val_loss: 9.7855e-05\n",
            "Epoch 55/100\n",
            "99/99 [==============================] - 14s 143ms/step - loss: 5.3063e-04 - val_loss: 1.7868e-04\n",
            "Epoch 56/100\n",
            "99/99 [==============================] - 12s 126ms/step - loss: 5.0899e-04 - val_loss: 8.9568e-04\n",
            "Epoch 57/100\n",
            "99/99 [==============================] - 12s 125ms/step - loss: 5.0091e-04 - val_loss: 1.1340e-04\n",
            "Epoch 58/100\n",
            "99/99 [==============================] - 12s 125ms/step - loss: 4.7920e-04 - val_loss: 0.0013\n",
            "Epoch 59/100\n",
            "99/99 [==============================] - 12s 122ms/step - loss: 4.6768e-04 - val_loss: 3.3931e-04\n",
            "Epoch 60/100\n",
            "99/99 [==============================] - 12s 121ms/step - loss: 4.5690e-04 - val_loss: 1.3985e-04\n",
            "Epoch 61/100\n",
            "99/99 [==============================] - 12s 120ms/step - loss: 5.0753e-04 - val_loss: 3.8667e-04\n",
            "Epoch 62/100\n",
            "99/99 [==============================] - 12s 121ms/step - loss: 4.7668e-04 - val_loss: 9.0812e-05\n",
            "Epoch 63/100\n",
            "99/99 [==============================] - 13s 134ms/step - loss: 4.8779e-04 - val_loss: 2.0569e-04\n",
            "Epoch 64/100\n",
            "99/99 [==============================] - 12s 124ms/step - loss: 4.8668e-04 - val_loss: 9.0122e-05\n",
            "Epoch 65/100\n",
            "99/99 [==============================] - 12s 125ms/step - loss: 4.4435e-04 - val_loss: 2.5329e-04\n",
            "Epoch 66/100\n",
            "99/99 [==============================] - 12s 125ms/step - loss: 4.8884e-04 - val_loss: 2.6154e-04\n",
            "Epoch 67/100\n",
            "99/99 [==============================] - 12s 125ms/step - loss: 4.4719e-04 - val_loss: 2.6577e-04\n",
            "Epoch 68/100\n",
            "99/99 [==============================] - 12s 124ms/step - loss: 4.4455e-04 - val_loss: 1.8717e-04\n",
            "Epoch 69/100\n",
            "99/99 [==============================] - 12s 125ms/step - loss: 4.7117e-04 - val_loss: 1.7231e-04\n",
            "Epoch 70/100\n",
            "99/99 [==============================] - 12s 125ms/step - loss: 4.5657e-04 - val_loss: 2.1705e-04\n",
            "Epoch 71/100\n",
            "99/99 [==============================] - 12s 126ms/step - loss: 4.6538e-04 - val_loss: 0.0014\n",
            "Epoch 72/100\n",
            "99/99 [==============================] - 12s 125ms/step - loss: 4.4694e-04 - val_loss: 1.0314e-04\n",
            "Epoch 73/100\n",
            "99/99 [==============================] - 12s 126ms/step - loss: 5.0159e-04 - val_loss: 1.6767e-04\n",
            "Epoch 74/100\n",
            "99/99 [==============================] - 12s 126ms/step - loss: 4.3572e-04 - val_loss: 1.1013e-04\n",
            "Epoch 75/100\n",
            "99/99 [==============================] - 12s 125ms/step - loss: 4.4688e-04 - val_loss: 2.5334e-04\n",
            "Epoch 76/100\n",
            "99/99 [==============================] - 12s 126ms/step - loss: 4.7104e-04 - val_loss: 1.0309e-04\n",
            "Epoch 77/100\n",
            "99/99 [==============================] - 12s 125ms/step - loss: 4.6055e-04 - val_loss: 2.0904e-04\n",
            "Epoch 78/100\n",
            "99/99 [==============================] - 12s 126ms/step - loss: 4.2805e-04 - val_loss: 2.3032e-04\n",
            "Epoch 79/100\n",
            "99/99 [==============================] - 12s 126ms/step - loss: 4.2969e-04 - val_loss: 2.0195e-04\n",
            "Epoch 80/100\n",
            "99/99 [==============================] - 12s 126ms/step - loss: 4.6867e-04 - val_loss: 6.1791e-04\n",
            "Epoch 81/100\n",
            "99/99 [==============================] - 13s 127ms/step - loss: 4.0052e-04 - val_loss: 4.3394e-04\n",
            "Epoch 82/100\n",
            "99/99 [==============================] - 12s 126ms/step - loss: 4.4907e-04 - val_loss: 1.4187e-04\n",
            "Epoch 83/100\n",
            "99/99 [==============================] - 14s 137ms/step - loss: 4.1721e-04 - val_loss: 7.5977e-04\n",
            "Epoch 84/100\n",
            "99/99 [==============================] - 12s 126ms/step - loss: 4.4012e-04 - val_loss: 8.9579e-05\n",
            "Epoch 85/100\n",
            "99/99 [==============================] - 12s 125ms/step - loss: 4.1884e-04 - val_loss: 1.1830e-04\n",
            "Epoch 86/100\n",
            "99/99 [==============================] - 12s 126ms/step - loss: 4.6258e-04 - val_loss: 2.2857e-04\n",
            "Epoch 87/100\n",
            "99/99 [==============================] - 12s 126ms/step - loss: 4.6267e-04 - val_loss: 1.1305e-04\n",
            "Epoch 88/100\n",
            "99/99 [==============================] - 12s 125ms/step - loss: 4.2982e-04 - val_loss: 1.1358e-04\n",
            "Epoch 89/100\n",
            "99/99 [==============================] - 12s 124ms/step - loss: 4.2814e-04 - val_loss: 2.8962e-04\n",
            "Epoch 90/100\n",
            "99/99 [==============================] - 12s 121ms/step - loss: 4.7325e-04 - val_loss: 3.8561e-04\n",
            "Epoch 91/100\n",
            "99/99 [==============================] - 12s 123ms/step - loss: 4.1681e-04 - val_loss: 1.6608e-04\n",
            "Epoch 92/100\n",
            "99/99 [==============================] - 12s 122ms/step - loss: 4.2097e-04 - val_loss: 3.8674e-04\n",
            "Epoch 93/100\n",
            "99/99 [==============================] - 12s 124ms/step - loss: 4.3602e-04 - val_loss: 1.5547e-04\n",
            "Epoch 94/100\n",
            "99/99 [==============================] - 12s 125ms/step - loss: 4.3494e-04 - val_loss: 9.4702e-04\n",
            "Epoch 95/100\n",
            "99/99 [==============================] - 12s 125ms/step - loss: 4.3398e-04 - val_loss: 1.7455e-04\n",
            "Epoch 96/100\n",
            "99/99 [==============================] - 12s 121ms/step - loss: 4.1654e-04 - val_loss: 0.0013\n",
            "Epoch 97/100\n",
            "99/99 [==============================] - 12s 123ms/step - loss: 4.1776e-04 - val_loss: 0.0011\n",
            "Epoch 98/100\n",
            "99/99 [==============================] - 12s 125ms/step - loss: 4.1801e-04 - val_loss: 1.4620e-04\n",
            "Epoch 99/100\n",
            "99/99 [==============================] - 12s 126ms/step - loss: 4.1836e-04 - val_loss: 1.2986e-04\n",
            "Epoch 100/100\n",
            "99/99 [==============================] - 12s 126ms/step - loss: 4.0218e-04 - val_loss: 7.9716e-04\n"
          ]
        }
      ]
    },
    {
      "cell_type": "code",
      "source": [
        "y_test.shape"
      ],
      "metadata": {
        "colab": {
          "base_uri": "https://localhost:8080/"
        },
        "id": "5f-a3OTQWlZ2",
        "outputId": "2de0d412-8c87-43a3-87da-702a32dccb69"
      },
      "execution_count": 60,
      "outputs": [
        {
          "output_type": "execute_result",
          "data": {
            "text/plain": [
              "(972, 30)"
            ]
          },
          "metadata": {},
          "execution_count": 60
        }
      ]
    },
    {
      "cell_type": "code",
      "source": [
        "y_train.shape"
      ],
      "metadata": {
        "colab": {
          "base_uri": "https://localhost:8080/"
        },
        "id": "Lfr8gQLWXjD5",
        "outputId": "728d4b99-2023-495a-e0e7-4a45f975f52c"
      },
      "execution_count": 61,
      "outputs": [
        {
          "output_type": "execute_result",
          "data": {
            "text/plain": [
              "(3948,)"
            ]
          },
          "metadata": {},
          "execution_count": 61
        }
      ]
    },
    {
      "cell_type": "code",
      "source": [
        "# Make predictions\n",
        "y_pred = model.predict(X_test)\n",
        "y_pred = scaler.inverse_transform(y_pred)\n",
        "y_test = scaler.inverse_transform(y_test)"
      ],
      "metadata": {
        "colab": {
          "base_uri": "https://localhost:8080/"
        },
        "id": "r8nSt7LN4pTd",
        "outputId": "34698f7e-8cf1-4dec-b587-e539af933f7c"
      },
      "execution_count": 62,
      "outputs": [
        {
          "output_type": "stream",
          "name": "stdout",
          "text": [
            "31/31 [==============================] - 2s 40ms/step\n"
          ]
        }
      ]
    },
    {
      "cell_type": "code",
      "source": [
        "# Plot the actual and predicted stock prices with the upper and lower bounds\n",
        "fig, ax = plt.subplots(figsize=(10, 6))\n",
        "ax.plot(test['<DATE>'][:-forecast_horizon-60][::forecast_horizon], y_test[:, 0][::forecast_horizon], label='Actual')\n",
        "ax.plot(test['<DATE>'][:-forecast_horizon-60][::forecast_horizon], y_pred[:, 0][::forecast_horizon], label='Predicted')\n",
        "ax.fill_between(test['<DATE>'][:-forecast_horizon-60][::forecast_horizon], y_pred[:, 0][::forecast_horizon]-y_pred[:, 1][::forecast_horizon], y_pred[:, 0][::forecast_horizon]+y_pred[:, 2][::forecast_horizon], alpha=0.2, label='Bounds')\n",
        "ax.legend()\n",
        "ax.set_xlabel('Date')\n",
        "ax.set_ylabel('Stock Price')\n",
        "plt.xticks(rotation=90)\n",
        "plt.show()"
      ],
      "metadata": {
        "colab": {
          "base_uri": "https://localhost:8080/",
          "height": 586
        },
        "id": "K962hhjP43uM",
        "outputId": "e1fa80c8-40a1-418d-a231-7ca28bf398ad"
      },
      "execution_count": 63,
      "outputs": [
        {
          "output_type": "display_data",
          "data": {
            "text/plain": [
              "<Figure size 1000x600 with 1 Axes>"
            ],
            "image/png": "[encoded data removed]"
          },
          "metadata": {}
        }
      ]
    }
  ]
}